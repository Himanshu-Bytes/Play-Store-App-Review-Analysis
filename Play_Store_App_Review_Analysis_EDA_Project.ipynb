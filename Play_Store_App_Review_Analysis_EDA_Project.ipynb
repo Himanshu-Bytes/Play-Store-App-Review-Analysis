{
  "nbformat": 4,
  "nbformat_minor": 0,
  "metadata": {
    "colab": {
      "provenance": [],
      "collapsed_sections": [
        "w6K7xa23Elo4",
        "yQaldy8SH6Dl",
        "PH-0ReGfmX4f",
        "mDgbUHAGgjLW",
        "3RnN4peoiCZX",
        "x71ZqKXriCWQ",
        "7hBIi_osiCS2",
        "JlHwYmJAmNHm",
        "35m5QtbWiB9F",
        "PoPl-ycgm1ru",
        "H0kj-8xxnORC",
        "nA9Y7ga8ng1Z",
        "PBTbrJXOngz2",
        "u3PMJOP6ngxN",
        "dauF4eBmngu3",
        "bKJF3rekwFvQ",
        "MSa1f5Uengrz",
        "GF8Ens_Soomf",
        "0wOQAZs5pc--",
        "K5QZ13OEpz2H",
        "lQ7QKXXCp7Bj",
        "448CDAPjqfQr",
        "KSlN3yHqYklG",
        "t6dVpIINYklI",
        "ijmpgYnKYklI",
        "-JiQyfWJYklI",
        "EM7whBJCYoAo",
        "fge-S5ZAYoAp",
        "85gYPyotYoAp",
        "RoGjAbkUYoAp",
        "4Of9eVA-YrdM",
        "iky9q4vBYrdO",
        "F6T5p64dYrdO",
        "y-Ehk30pYrdP",
        "bamQiAODYuh1",
        "QHF8YVU7Yuh3",
        "GwzvFGzlYuh3",
        "qYpmQ266Yuh3",
        "OH-pJp9IphqM",
        "bbFf2-_FphqN",
        "_ouA3fa0phqN",
        "Seke61FWphqN",
        "PIIx-8_IphqN",
        "t27r6nlMphqO",
        "r2jJGEOYphqO",
        "b0JNsNcRphqO",
        "BZR9WyysphqO",
        "jj7wYXLtphqO",
        "eZrbJ2SmphqO",
        "rFu4xreNphqO",
        "YJ55k-q6phqO",
        "gCFgpxoyphqP",
        "OVtJsKN_phqQ",
        "lssrdh5qphqQ",
        "U2RJ9gkRphqQ",
        "1M8mcRywphqQ",
        "tgIPom80phqQ",
        "JMzcOPDDphqR",
        "x-EpHcCOp1ci",
        "X_VqEhTip1ck",
        "8zGJKyg5p1ck",
        "PVzmfK_Ep1ck",
        "n3dbpmDWp1ck",
        "ylSl6qgtp1ck",
        "ZWILFDl5p1ck",
        "M7G43BXep1ck",
        "Ag9LCva-p1cl",
        "E6MkPsBcp1cl",
        "2cELzS2fp1cl",
        "3MPXvC8up1cl",
        "NC_X3p0fY2L0",
        "UV0SzAkaZNRQ",
        "YPEH6qLeZNRQ",
        "q29F0dvdveiT",
        "EXh0U9oCveiU",
        "22aHeOlLveiV",
        "JcMwzZxoAimU",
        "8G2x9gOozGDZ",
        "gCX9965dhzqZ",
        "gIfDvo9L0UH2"
      ],
      "include_colab_link": true
    },
    "kernelspec": {
      "name": "python3",
      "display_name": "Python 3"
    },
    "language_info": {
      "name": "python"
    }
  },
  "cells": [
    {
      "cell_type": "markdown",
      "metadata": {
        "id": "view-in-github",
        "colab_type": "text"
      },
      "source": [
        "<a href=\"https://colab.research.google.com/github/Himanshu-Bytes/Play-Store-App-Review-Analysis/blob/main/Play_Store_App_Review_Analysis_EDA_Project.ipynb\" target=\"_parent\"><img src=\"https://colab.research.google.com/assets/colab-badge.svg\" alt=\"Open In Colab\"/></a>"
      ]
    },
    {
      "cell_type": "markdown",
      "source": [
        "# **Project Name**    - Play Store App Review Analysis (EDA Project)\n"
      ],
      "metadata": {
        "id": "vncDsAP0Gaoa"
      }
    },
    {
      "cell_type": "markdown",
      "source": [
        "##### **Project Type**    - Exploratory Data Analysis (EDA)\n",
        "\n",
        "##### **Contribution**    - Individual\n"
      ],
      "metadata": {
        "id": "beRrZCGUAJYm"
      }
    },
    {
      "cell_type": "markdown",
      "source": [
        "# **Project Summary -**\n",
        "\n",
        "# **👋Hey! Wassup Folks!!🙋‍♂️**\n",
        "\n",
        "Welcome to the Play Store App Review Analysis project🙂, where we will dive into the world of app data and user reviews to extract meaningful insights and understand user preferences. In this project, we will adopt a systematic approach to explore and analyze two datasets: one containing play store data and the other containing user reviews. By employing data manipulation, visualization, and statistical techniques, we aim to provide valuable insights to stakeholders and uncover patterns that can drive informed decision-making.\n",
        "\n",
        "Throughout the project we will follow an efficient approach by starting with data collection and preprocessing, followed by thorough exploratory data analysis. This approach will ensure that we are efficiently tackling each step, from handling missing values and outliers to crafting insightful visualizations and generating actionable insights.\n",
        "\n",
        "\n",
        "![play-store-logo.png](data:image/png;base64,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)\n",
        "-----------------------------------------------------------------\n",
        "\n",
        "**Mainly we will be using these popular libraries to achieve our goal of providing insightful information:**\n",
        "\n",
        "**🐼Pandas:** For seamless data manipulation and aggregation.\n",
        "\n",
        "**Matplotlib and Seaborn:** For visually rich representations of data.\n",
        "\n",
        "**NumPy:** For efficient numerical operations and calculations.\n",
        "\n",
        "-----------------------------------------------------------------\n",
        "\n",
        "**🤔Insights and Understandings:**\n",
        "\n",
        "Our main focus is on extracting insights that cater to stakeholders' interests. By identifying which types of apps are most popular, understanding the correlation between user ratings and app features, and discerning sentiment trends in user reviews, we create a comprehensive narrative that helps stakeholders make informed decisions regarding app development and marketing strategies.\n",
        "\n",
        "-----------------------------------------------------------------\n",
        "**📜Business Context:**\n",
        "\n",
        "The Play Store apps data has enormous potential to drive app-making businesses to success. Actionable insights can be drawn for developers to work on and capture the Android market. Each app (row) has values for category, rating, size, and more. Another dataset contains customer reviews of the android apps. Explore and analyse the data to discover key factors responsible for app engagement and success.\n",
        "\n",
        "-----------------------------------------------------------------\n",
        "\n",
        "**💯Project's Usefulness to Stakeholders:**\n",
        "\n",
        "This project offers stakeholders a deep understanding of the dynamics within the Play Store app landscape. By revealing user preferences, sentiment trends, and correlations between app attributes and success metrics, stakeholders can optimize app development, marketing efforts, and user engagement strategies. The insights drawn from this analysis pave the way for data-driven decisions that are tailored to enhance app performance and user satisfaction.\n"
      ],
      "metadata": {
        "id": "F6v_1wHtG2nS"
      }
    },
    {
      "cell_type": "markdown",
      "source": [
        "# **GitHub Link -**"
      ],
      "metadata": {
        "id": "w6K7xa23Elo4"
      }
    },
    {
      "cell_type": "markdown",
      "source": [
        "GitHub Link: https://github.com/Himanshu-Bytes/Play-Store-App-Review-Analysis"
      ],
      "metadata": {
        "id": "h1o69JH3Eqqn"
      }
    },
    {
      "cell_type": "markdown",
      "source": [
        "# **Problem Statement**\n"
      ],
      "metadata": {
        "id": "yQaldy8SH6Dl"
      }
    },
    {
      "cell_type": "markdown",
      "source": [
        "**Write Problem Statement Here.**"
      ],
      "metadata": {
        "id": "DpeJGUA3kjGy"
      }
    },
    {
      "cell_type": "markdown",
      "source": [
        "#### **Define Your Business Objective?**"
      ],
      "metadata": {
        "id": "PH-0ReGfmX4f"
      }
    },
    {
      "cell_type": "markdown",
      "source": [
        "Answer Here."
      ],
      "metadata": {
        "id": "PhDvGCAqmjP1"
      }
    },
    {
      "cell_type": "markdown",
      "source": [
        "# **General Guidelines** : -  "
      ],
      "metadata": {
        "id": "mDgbUHAGgjLW"
      }
    },
    {
      "cell_type": "markdown",
      "source": [
        "1.   Well-structured, formatted, and commented code is required.\n",
        "2.   Exception Handling, Production Grade Code & Deployment Ready Code will be a plus. Those students will be awarded some additional credits.\n",
        "     \n",
        "     The additional credits will have advantages over other students during Star Student selection.\n",
        "       \n",
        "             [ Note: - Deployment Ready Code is defined as, the whole .ipynb notebook should be executable in one go\n",
        "                       without a single error logged. ]\n",
        "\n",
        "3.   Each and every logic should have proper comments.\n",
        "4. You may add as many number of charts you want. Make Sure for each and every chart the following format should be answered.\n",
        "        \n",
        "\n",
        "```\n",
        "# Chart visualization code\n",
        "```\n",
        "            \n",
        "\n",
        "*   Why did you pick the specific chart?\n",
        "*   What is/are the insight(s) found from the chart?\n",
        "* Will the gained insights help creating a positive business impact?\n",
        "Are there any insights that lead to negative growth? Justify with specific reason.\n",
        "\n",
        "5. You have to create at least 20 logical & meaningful charts having important insights.\n",
        "\n",
        "\n",
        "[ Hints : - Do the Vizualization in  a structured way while following \"UBM\" Rule.\n",
        "\n",
        "U - Univariate Analysis,\n",
        "\n",
        "B - Bivariate Analysis (Numerical - Categorical, Numerical - Numerical, Categorical - Categorical)\n",
        "\n",
        "M - Multivariate Analysis\n",
        " ]\n",
        "\n",
        "\n",
        "\n"
      ],
      "metadata": {
        "id": "ZrxVaUj-hHfC"
      }
    },
    {
      "cell_type": "markdown",
      "source": [
        "# ***Let's Begin !***"
      ],
      "metadata": {
        "id": "O_i_v8NEhb9l"
      }
    },
    {
      "cell_type": "markdown",
      "source": [
        "## ***1. Know Your Data***"
      ],
      "metadata": {
        "id": "HhfV-JJviCcP"
      }
    },
    {
      "cell_type": "markdown",
      "source": [
        "### Import Libraries"
      ],
      "metadata": {
        "id": "Y3lxredqlCYt"
      }
    },
    {
      "cell_type": "code",
      "source": [
        "# Import Libraries\n",
        "import pandas as pd\n",
        "import matplotlib.pyplot as plt\n",
        "import numpy as np\n",
        "import seaborn as sns\n",
        "from datetime import datetime"
      ],
      "metadata": {
        "id": "M8Vqi-pPk-HR"
      },
      "execution_count": null,
      "outputs": []
    },
    {
      "cell_type": "markdown",
      "source": [
        "### Dataset Loading"
      ],
      "metadata": {
        "id": "3RnN4peoiCZX"
      }
    },
    {
      "cell_type": "code",
      "source": [
        "# Load Dataset"
      ],
      "metadata": {
        "id": "4CkvbW_SlZ_R"
      },
      "execution_count": null,
      "outputs": []
    },
    {
      "cell_type": "markdown",
      "source": [
        "### Dataset First View"
      ],
      "metadata": {
        "id": "x71ZqKXriCWQ"
      }
    },
    {
      "cell_type": "code",
      "source": [
        "# Dataset First Look"
      ],
      "metadata": {
        "id": "LWNFOSvLl09H"
      },
      "execution_count": null,
      "outputs": []
    },
    {
      "cell_type": "markdown",
      "source": [
        "### Dataset Rows & Columns count"
      ],
      "metadata": {
        "id": "7hBIi_osiCS2"
      }
    },
    {
      "cell_type": "code",
      "source": [
        "# Dataset Rows & Columns count"
      ],
      "metadata": {
        "id": "Kllu7SJgmLij"
      },
      "execution_count": null,
      "outputs": []
    },
    {
      "cell_type": "markdown",
      "source": [
        "### Dataset Information"
      ],
      "metadata": {
        "id": "JlHwYmJAmNHm"
      }
    },
    {
      "cell_type": "code",
      "source": [
        "# Dataset Info"
      ],
      "metadata": {
        "id": "e9hRXRi6meOf"
      },
      "execution_count": null,
      "outputs": []
    },
    {
      "cell_type": "markdown",
      "source": [
        "#### Duplicate Values"
      ],
      "metadata": {
        "id": "35m5QtbWiB9F"
      }
    },
    {
      "cell_type": "code",
      "source": [
        "# Dataset Duplicate Value Count"
      ],
      "metadata": {
        "id": "1sLdpKYkmox0"
      },
      "execution_count": null,
      "outputs": []
    },
    {
      "cell_type": "markdown",
      "source": [
        "#### Missing Values/Null Values"
      ],
      "metadata": {
        "id": "PoPl-ycgm1ru"
      }
    },
    {
      "cell_type": "code",
      "source": [
        "# Missing Values/Null Values Count"
      ],
      "metadata": {
        "id": "GgHWkxvamxVg"
      },
      "execution_count": null,
      "outputs": []
    },
    {
      "cell_type": "code",
      "source": [
        "# Visualizing the missing values"
      ],
      "metadata": {
        "id": "3q5wnI3om9sJ"
      },
      "execution_count": null,
      "outputs": []
    },
    {
      "cell_type": "markdown",
      "source": [
        "### What did you know about your dataset?"
      ],
      "metadata": {
        "id": "H0kj-8xxnORC"
      }
    },
    {
      "cell_type": "markdown",
      "source": [
        "Answer Here"
      ],
      "metadata": {
        "id": "gfoNAAC-nUe_"
      }
    },
    {
      "cell_type": "markdown",
      "source": [
        "## ***2. Understanding Your Variables***"
      ],
      "metadata": {
        "id": "nA9Y7ga8ng1Z"
      }
    },
    {
      "cell_type": "code",
      "source": [
        "# Dataset Columns"
      ],
      "metadata": {
        "id": "j7xfkqrt5Ag5"
      },
      "execution_count": null,
      "outputs": []
    },
    {
      "cell_type": "code",
      "source": [
        "# Dataset Describe"
      ],
      "metadata": {
        "id": "DnOaZdaE5Q5t"
      },
      "execution_count": null,
      "outputs": []
    },
    {
      "cell_type": "markdown",
      "source": [
        "### Variables Description"
      ],
      "metadata": {
        "id": "PBTbrJXOngz2"
      }
    },
    {
      "cell_type": "markdown",
      "source": [
        "Answer Here"
      ],
      "metadata": {
        "id": "aJV4KIxSnxay"
      }
    },
    {
      "cell_type": "markdown",
      "source": [
        "### Check Unique Values for each variable."
      ],
      "metadata": {
        "id": "u3PMJOP6ngxN"
      }
    },
    {
      "cell_type": "code",
      "source": [
        "# Check Unique Values for each variable."
      ],
      "metadata": {
        "id": "zms12Yq5n-jE"
      },
      "execution_count": null,
      "outputs": []
    },
    {
      "cell_type": "markdown",
      "source": [
        "## 3. ***Data Wrangling***"
      ],
      "metadata": {
        "id": "dauF4eBmngu3"
      }
    },
    {
      "cell_type": "markdown",
      "source": [
        "### Data Wrangling Code"
      ],
      "metadata": {
        "id": "bKJF3rekwFvQ"
      }
    },
    {
      "cell_type": "code",
      "source": [
        "# Write your code to make your dataset analysis ready."
      ],
      "metadata": {
        "id": "wk-9a2fpoLcV"
      },
      "execution_count": null,
      "outputs": []
    },
    {
      "cell_type": "markdown",
      "source": [
        "### What all manipulations have you done and insights you found?"
      ],
      "metadata": {
        "id": "MSa1f5Uengrz"
      }
    },
    {
      "cell_type": "markdown",
      "source": [
        "Answer Here."
      ],
      "metadata": {
        "id": "LbyXE7I1olp8"
      }
    },
    {
      "cell_type": "markdown",
      "source": [
        "## ***4. Data Vizualization, Storytelling & Experimenting with charts : Understand the relationships between variables***"
      ],
      "metadata": {
        "id": "GF8Ens_Soomf"
      }
    },
    {
      "cell_type": "markdown",
      "source": [
        "#### Chart - 1"
      ],
      "metadata": {
        "id": "0wOQAZs5pc--"
      }
    },
    {
      "cell_type": "code",
      "source": [
        "# Chart - 1 visualization code"
      ],
      "metadata": {
        "id": "7v_ESjsspbW7"
      },
      "execution_count": null,
      "outputs": []
    },
    {
      "cell_type": "markdown",
      "source": [
        "##### 1. Why did you pick the specific chart?"
      ],
      "metadata": {
        "id": "K5QZ13OEpz2H"
      }
    },
    {
      "cell_type": "markdown",
      "source": [
        "Answer Here."
      ],
      "metadata": {
        "id": "XESiWehPqBRc"
      }
    },
    {
      "cell_type": "markdown",
      "source": [
        "##### 2. What is/are the insight(s) found from the chart?"
      ],
      "metadata": {
        "id": "lQ7QKXXCp7Bj"
      }
    },
    {
      "cell_type": "markdown",
      "source": [
        "Answer Here"
      ],
      "metadata": {
        "id": "C_j1G7yiqdRP"
      }
    },
    {
      "cell_type": "markdown",
      "source": [
        "##### 3. Will the gained insights help creating a positive business impact?\n",
        "Are there any insights that lead to negative growth? Justify with specific reason."
      ],
      "metadata": {
        "id": "448CDAPjqfQr"
      }
    },
    {
      "cell_type": "markdown",
      "source": [
        "Answer Here"
      ],
      "metadata": {
        "id": "3cspy4FjqxJW"
      }
    },
    {
      "cell_type": "markdown",
      "source": [
        "#### Chart - 2"
      ],
      "metadata": {
        "id": "KSlN3yHqYklG"
      }
    },
    {
      "cell_type": "code",
      "source": [
        "# Chart - 2 visualization code"
      ],
      "metadata": {
        "id": "R4YgtaqtYklH"
      },
      "execution_count": null,
      "outputs": []
    },
    {
      "cell_type": "markdown",
      "source": [
        "##### 1. Why did you pick the specific chart?"
      ],
      "metadata": {
        "id": "t6dVpIINYklI"
      }
    },
    {
      "cell_type": "markdown",
      "source": [
        "Answer Here."
      ],
      "metadata": {
        "id": "5aaW0BYyYklI"
      }
    },
    {
      "cell_type": "markdown",
      "source": [
        "##### 2. What is/are the insight(s) found from the chart?"
      ],
      "metadata": {
        "id": "ijmpgYnKYklI"
      }
    },
    {
      "cell_type": "markdown",
      "source": [
        "Answer Here"
      ],
      "metadata": {
        "id": "PSx9atu2YklI"
      }
    },
    {
      "cell_type": "markdown",
      "source": [
        "##### 3. Will the gained insights help creating a positive business impact?\n",
        "Are there any insights that lead to negative growth? Justify with specific reason."
      ],
      "metadata": {
        "id": "-JiQyfWJYklI"
      }
    },
    {
      "cell_type": "markdown",
      "source": [
        "Answer Here"
      ],
      "metadata": {
        "id": "BcBbebzrYklV"
      }
    },
    {
      "cell_type": "markdown",
      "source": [
        "#### Chart - 3"
      ],
      "metadata": {
        "id": "EM7whBJCYoAo"
      }
    },
    {
      "cell_type": "code",
      "source": [
        "# Chart - 3 visualization code"
      ],
      "metadata": {
        "id": "t6GMdE67YoAp"
      },
      "execution_count": null,
      "outputs": []
    },
    {
      "cell_type": "markdown",
      "source": [
        "##### 1. Why did you pick the specific chart?"
      ],
      "metadata": {
        "id": "fge-S5ZAYoAp"
      }
    },
    {
      "cell_type": "markdown",
      "source": [
        "Answer Here."
      ],
      "metadata": {
        "id": "5dBItgRVYoAp"
      }
    },
    {
      "cell_type": "markdown",
      "source": [
        "##### 2. What is/are the insight(s) found from the chart?"
      ],
      "metadata": {
        "id": "85gYPyotYoAp"
      }
    },
    {
      "cell_type": "markdown",
      "source": [
        "Answer Here"
      ],
      "metadata": {
        "id": "4jstXR6OYoAp"
      }
    },
    {
      "cell_type": "markdown",
      "source": [
        "##### 3. Will the gained insights help creating a positive business impact?\n",
        "Are there any insights that lead to negative growth? Justify with specific reason."
      ],
      "metadata": {
        "id": "RoGjAbkUYoAp"
      }
    },
    {
      "cell_type": "markdown",
      "source": [
        "Answer Here"
      ],
      "metadata": {
        "id": "zfJ8IqMcYoAp"
      }
    },
    {
      "cell_type": "markdown",
      "source": [
        "#### Chart - 4"
      ],
      "metadata": {
        "id": "4Of9eVA-YrdM"
      }
    },
    {
      "cell_type": "code",
      "source": [
        "# Chart - 4 visualization code"
      ],
      "metadata": {
        "id": "irlUoxc8YrdO"
      },
      "execution_count": null,
      "outputs": []
    },
    {
      "cell_type": "markdown",
      "source": [
        "##### 1. Why did you pick the specific chart?"
      ],
      "metadata": {
        "id": "iky9q4vBYrdO"
      }
    },
    {
      "cell_type": "markdown",
      "source": [
        "Answer Here."
      ],
      "metadata": {
        "id": "aJRCwT6DYrdO"
      }
    },
    {
      "cell_type": "markdown",
      "source": [
        "##### 2. What is/are the insight(s) found from the chart?"
      ],
      "metadata": {
        "id": "F6T5p64dYrdO"
      }
    },
    {
      "cell_type": "markdown",
      "source": [
        "Answer Here"
      ],
      "metadata": {
        "id": "Xx8WAJvtYrdO"
      }
    },
    {
      "cell_type": "markdown",
      "source": [
        "##### 3. Will the gained insights help creating a positive business impact?\n",
        "Are there any insights that lead to negative growth? Justify with specific reason."
      ],
      "metadata": {
        "id": "y-Ehk30pYrdP"
      }
    },
    {
      "cell_type": "markdown",
      "source": [
        "Answer Here"
      ],
      "metadata": {
        "id": "jLNxxz7MYrdP"
      }
    },
    {
      "cell_type": "markdown",
      "source": [
        "#### Chart - 5"
      ],
      "metadata": {
        "id": "bamQiAODYuh1"
      }
    },
    {
      "cell_type": "code",
      "source": [
        "# Chart - 5 visualization code"
      ],
      "metadata": {
        "id": "TIJwrbroYuh3"
      },
      "execution_count": null,
      "outputs": []
    },
    {
      "cell_type": "markdown",
      "source": [
        "##### 1. Why did you pick the specific chart?"
      ],
      "metadata": {
        "id": "QHF8YVU7Yuh3"
      }
    },
    {
      "cell_type": "markdown",
      "source": [
        "Answer Here."
      ],
      "metadata": {
        "id": "dcxuIMRPYuh3"
      }
    },
    {
      "cell_type": "markdown",
      "source": [
        "##### 2. What is/are the insight(s) found from the chart?"
      ],
      "metadata": {
        "id": "GwzvFGzlYuh3"
      }
    },
    {
      "cell_type": "markdown",
      "source": [
        "Answer Here"
      ],
      "metadata": {
        "id": "uyqkiB8YYuh3"
      }
    },
    {
      "cell_type": "markdown",
      "source": [
        "##### 3. Will the gained insights help creating a positive business impact?\n",
        "Are there any insights that lead to negative growth? Justify with specific reason."
      ],
      "metadata": {
        "id": "qYpmQ266Yuh3"
      }
    },
    {
      "cell_type": "markdown",
      "source": [
        "Answer Here"
      ],
      "metadata": {
        "id": "_WtzZ_hCYuh4"
      }
    },
    {
      "cell_type": "markdown",
      "source": [
        "#### Chart - 6"
      ],
      "metadata": {
        "id": "OH-pJp9IphqM"
      }
    },
    {
      "cell_type": "code",
      "source": [
        "# Chart - 6 visualization code"
      ],
      "metadata": {
        "id": "kuRf4wtuphqN"
      },
      "execution_count": null,
      "outputs": []
    },
    {
      "cell_type": "markdown",
      "source": [
        "##### 1. Why did you pick the specific chart?"
      ],
      "metadata": {
        "id": "bbFf2-_FphqN"
      }
    },
    {
      "cell_type": "markdown",
      "source": [
        "Answer Here."
      ],
      "metadata": {
        "id": "loh7H2nzphqN"
      }
    },
    {
      "cell_type": "markdown",
      "source": [
        "##### 2. What is/are the insight(s) found from the chart?"
      ],
      "metadata": {
        "id": "_ouA3fa0phqN"
      }
    },
    {
      "cell_type": "markdown",
      "source": [
        "Answer Here"
      ],
      "metadata": {
        "id": "VECbqPI7phqN"
      }
    },
    {
      "cell_type": "markdown",
      "source": [
        "##### 3. Will the gained insights help creating a positive business impact?\n",
        "Are there any insights that lead to negative growth? Justify with specific reason."
      ],
      "metadata": {
        "id": "Seke61FWphqN"
      }
    },
    {
      "cell_type": "markdown",
      "source": [
        "Answer Here"
      ],
      "metadata": {
        "id": "DW4_bGpfphqN"
      }
    },
    {
      "cell_type": "markdown",
      "source": [
        "#### Chart - 7"
      ],
      "metadata": {
        "id": "PIIx-8_IphqN"
      }
    },
    {
      "cell_type": "code",
      "source": [
        "# Chart - 7 visualization code"
      ],
      "metadata": {
        "id": "lqAIGUfyphqO"
      },
      "execution_count": null,
      "outputs": []
    },
    {
      "cell_type": "markdown",
      "source": [
        "##### 1. Why did you pick the specific chart?"
      ],
      "metadata": {
        "id": "t27r6nlMphqO"
      }
    },
    {
      "cell_type": "markdown",
      "source": [
        "Answer Here."
      ],
      "metadata": {
        "id": "iv6ro40sphqO"
      }
    },
    {
      "cell_type": "markdown",
      "source": [
        "##### 2. What is/are the insight(s) found from the chart?"
      ],
      "metadata": {
        "id": "r2jJGEOYphqO"
      }
    },
    {
      "cell_type": "markdown",
      "source": [
        "Answer Here"
      ],
      "metadata": {
        "id": "Po6ZPi4hphqO"
      }
    },
    {
      "cell_type": "markdown",
      "source": [
        "##### 3. Will the gained insights help creating a positive business impact?\n",
        "Are there any insights that lead to negative growth? Justify with specific reason."
      ],
      "metadata": {
        "id": "b0JNsNcRphqO"
      }
    },
    {
      "cell_type": "markdown",
      "source": [
        "Answer Here"
      ],
      "metadata": {
        "id": "xvSq8iUTphqO"
      }
    },
    {
      "cell_type": "markdown",
      "source": [
        "#### Chart - 8"
      ],
      "metadata": {
        "id": "BZR9WyysphqO"
      }
    },
    {
      "cell_type": "code",
      "source": [
        "# Chart - 8 visualization code"
      ],
      "metadata": {
        "id": "TdPTWpAVphqO"
      },
      "execution_count": null,
      "outputs": []
    },
    {
      "cell_type": "markdown",
      "source": [
        "##### 1. Why did you pick the specific chart?"
      ],
      "metadata": {
        "id": "jj7wYXLtphqO"
      }
    },
    {
      "cell_type": "markdown",
      "source": [
        "Answer Here."
      ],
      "metadata": {
        "id": "Ob8u6rCTphqO"
      }
    },
    {
      "cell_type": "markdown",
      "source": [
        "##### 2. What is/are the insight(s) found from the chart?"
      ],
      "metadata": {
        "id": "eZrbJ2SmphqO"
      }
    },
    {
      "cell_type": "markdown",
      "source": [
        "Answer Here"
      ],
      "metadata": {
        "id": "mZtgC_hjphqO"
      }
    },
    {
      "cell_type": "markdown",
      "source": [
        "##### 3. Will the gained insights help creating a positive business impact?\n",
        "Are there any insights that lead to negative growth? Justify with specific reason."
      ],
      "metadata": {
        "id": "rFu4xreNphqO"
      }
    },
    {
      "cell_type": "markdown",
      "source": [
        "Answer Here"
      ],
      "metadata": {
        "id": "ey_0qi68phqO"
      }
    },
    {
      "cell_type": "markdown",
      "source": [
        "#### Chart - 9"
      ],
      "metadata": {
        "id": "YJ55k-q6phqO"
      }
    },
    {
      "cell_type": "code",
      "source": [
        "# Chart - 9 visualization code"
      ],
      "metadata": {
        "id": "B2aS4O1ophqO"
      },
      "execution_count": null,
      "outputs": []
    },
    {
      "cell_type": "markdown",
      "source": [
        "##### 1. Why did you pick the specific chart?"
      ],
      "metadata": {
        "id": "gCFgpxoyphqP"
      }
    },
    {
      "cell_type": "markdown",
      "source": [
        "Answer Here."
      ],
      "metadata": {
        "id": "TVxDimi2phqP"
      }
    },
    {
      "cell_type": "markdown",
      "source": [
        "##### 2. What is/are the insight(s) found from the chart?"
      ],
      "metadata": {
        "id": "OVtJsKN_phqQ"
      }
    },
    {
      "cell_type": "markdown",
      "source": [
        "Answer Here"
      ],
      "metadata": {
        "id": "ngGi97qjphqQ"
      }
    },
    {
      "cell_type": "markdown",
      "source": [
        "##### 3. Will the gained insights help creating a positive business impact?\n",
        "Are there any insights that lead to negative growth? Justify with specific reason."
      ],
      "metadata": {
        "id": "lssrdh5qphqQ"
      }
    },
    {
      "cell_type": "markdown",
      "source": [
        "Answer Here"
      ],
      "metadata": {
        "id": "tBpY5ekJphqQ"
      }
    },
    {
      "cell_type": "markdown",
      "source": [
        "#### Chart - 10"
      ],
      "metadata": {
        "id": "U2RJ9gkRphqQ"
      }
    },
    {
      "cell_type": "code",
      "source": [
        "# Chart - 10 visualization code"
      ],
      "metadata": {
        "id": "GM7a4YP4phqQ"
      },
      "execution_count": null,
      "outputs": []
    },
    {
      "cell_type": "markdown",
      "source": [
        "##### 1. Why did you pick the specific chart?"
      ],
      "metadata": {
        "id": "1M8mcRywphqQ"
      }
    },
    {
      "cell_type": "markdown",
      "source": [
        "Answer Here."
      ],
      "metadata": {
        "id": "8agQvks0phqQ"
      }
    },
    {
      "cell_type": "markdown",
      "source": [
        "##### 2. What is/are the insight(s) found from the chart?"
      ],
      "metadata": {
        "id": "tgIPom80phqQ"
      }
    },
    {
      "cell_type": "markdown",
      "source": [
        "Answer Here"
      ],
      "metadata": {
        "id": "Qp13pnNzphqQ"
      }
    },
    {
      "cell_type": "markdown",
      "source": [
        "##### 3. Will the gained insights help creating a positive business impact?\n",
        "Are there any insights that lead to negative growth? Justify with specific reason."
      ],
      "metadata": {
        "id": "JMzcOPDDphqR"
      }
    },
    {
      "cell_type": "markdown",
      "source": [
        "Answer Here"
      ],
      "metadata": {
        "id": "R4Ka1PC2phqR"
      }
    },
    {
      "cell_type": "markdown",
      "source": [
        "#### Chart - 11"
      ],
      "metadata": {
        "id": "x-EpHcCOp1ci"
      }
    },
    {
      "cell_type": "code",
      "source": [
        "# Chart - 11 visualization code"
      ],
      "metadata": {
        "id": "mAQTIvtqp1cj"
      },
      "execution_count": null,
      "outputs": []
    },
    {
      "cell_type": "markdown",
      "source": [
        "##### 1. Why did you pick the specific chart?"
      ],
      "metadata": {
        "id": "X_VqEhTip1ck"
      }
    },
    {
      "cell_type": "markdown",
      "source": [
        "Answer Here."
      ],
      "metadata": {
        "id": "-vsMzt_np1ck"
      }
    },
    {
      "cell_type": "markdown",
      "source": [
        "##### 2. What is/are the insight(s) found from the chart?"
      ],
      "metadata": {
        "id": "8zGJKyg5p1ck"
      }
    },
    {
      "cell_type": "markdown",
      "source": [
        "Answer Here"
      ],
      "metadata": {
        "id": "ZYdMsrqVp1ck"
      }
    },
    {
      "cell_type": "markdown",
      "source": [
        "##### 3. Will the gained insights help creating a positive business impact?\n",
        "Are there any insights that lead to negative growth? Justify with specific reason."
      ],
      "metadata": {
        "id": "PVzmfK_Ep1ck"
      }
    },
    {
      "cell_type": "markdown",
      "source": [
        "Answer Here"
      ],
      "metadata": {
        "id": "druuKYZpp1ck"
      }
    },
    {
      "cell_type": "markdown",
      "source": [
        "#### Chart - 12"
      ],
      "metadata": {
        "id": "n3dbpmDWp1ck"
      }
    },
    {
      "cell_type": "code",
      "source": [
        "# Chart - 12 visualization code"
      ],
      "metadata": {
        "id": "bwevp1tKp1ck"
      },
      "execution_count": null,
      "outputs": []
    },
    {
      "cell_type": "markdown",
      "source": [
        "##### 1. Why did you pick the specific chart?"
      ],
      "metadata": {
        "id": "ylSl6qgtp1ck"
      }
    },
    {
      "cell_type": "markdown",
      "source": [
        "Answer Here."
      ],
      "metadata": {
        "id": "m2xqNkiQp1ck"
      }
    },
    {
      "cell_type": "markdown",
      "source": [
        "##### 2. What is/are the insight(s) found from the chart?"
      ],
      "metadata": {
        "id": "ZWILFDl5p1ck"
      }
    },
    {
      "cell_type": "markdown",
      "source": [
        "Answer Here"
      ],
      "metadata": {
        "id": "x-lUsV2mp1ck"
      }
    },
    {
      "cell_type": "markdown",
      "source": [
        "##### 3. Will the gained insights help creating a positive business impact?\n",
        "Are there any insights that lead to negative growth? Justify with specific reason."
      ],
      "metadata": {
        "id": "M7G43BXep1ck"
      }
    },
    {
      "cell_type": "markdown",
      "source": [
        "Answer Here"
      ],
      "metadata": {
        "id": "5wwDJXsLp1cl"
      }
    },
    {
      "cell_type": "markdown",
      "source": [
        "#### Chart - 13"
      ],
      "metadata": {
        "id": "Ag9LCva-p1cl"
      }
    },
    {
      "cell_type": "code",
      "source": [
        "# Chart - 13 visualization code"
      ],
      "metadata": {
        "id": "EUfxeq9-p1cl"
      },
      "execution_count": null,
      "outputs": []
    },
    {
      "cell_type": "markdown",
      "source": [
        "##### 1. Why did you pick the specific chart?"
      ],
      "metadata": {
        "id": "E6MkPsBcp1cl"
      }
    },
    {
      "cell_type": "markdown",
      "source": [
        "Answer Here."
      ],
      "metadata": {
        "id": "V22bRsFWp1cl"
      }
    },
    {
      "cell_type": "markdown",
      "source": [
        "##### 2. What is/are the insight(s) found from the chart?"
      ],
      "metadata": {
        "id": "2cELzS2fp1cl"
      }
    },
    {
      "cell_type": "markdown",
      "source": [
        "Answer Here"
      ],
      "metadata": {
        "id": "ozQPc2_Ip1cl"
      }
    },
    {
      "cell_type": "markdown",
      "source": [
        "##### 3. Will the gained insights help creating a positive business impact?\n",
        "Are there any insights that lead to negative growth? Justify with specific reason."
      ],
      "metadata": {
        "id": "3MPXvC8up1cl"
      }
    },
    {
      "cell_type": "markdown",
      "source": [
        "Answer Here"
      ],
      "metadata": {
        "id": "GL8l1tdLp1cl"
      }
    },
    {
      "cell_type": "markdown",
      "source": [
        "#### Chart - 14 - Correlation Heatmap"
      ],
      "metadata": {
        "id": "NC_X3p0fY2L0"
      }
    },
    {
      "cell_type": "code",
      "source": [
        "# Correlation Heatmap visualization code"
      ],
      "metadata": {
        "id": "xyC9zolEZNRQ"
      },
      "execution_count": null,
      "outputs": []
    },
    {
      "cell_type": "markdown",
      "source": [
        "##### 1. Why did you pick the specific chart?"
      ],
      "metadata": {
        "id": "UV0SzAkaZNRQ"
      }
    },
    {
      "cell_type": "markdown",
      "source": [
        "Answer Here."
      ],
      "metadata": {
        "id": "DVPuT8LYZNRQ"
      }
    },
    {
      "cell_type": "markdown",
      "source": [
        "##### 2. What is/are the insight(s) found from the chart?"
      ],
      "metadata": {
        "id": "YPEH6qLeZNRQ"
      }
    },
    {
      "cell_type": "markdown",
      "source": [
        "Answer Here"
      ],
      "metadata": {
        "id": "bfSqtnDqZNRR"
      }
    },
    {
      "cell_type": "markdown",
      "source": [
        "#### Chart - 15 - Pair Plot"
      ],
      "metadata": {
        "id": "q29F0dvdveiT"
      }
    },
    {
      "cell_type": "code",
      "source": [
        "# Pair Plot visualization code"
      ],
      "metadata": {
        "id": "o58-TEIhveiU"
      },
      "execution_count": null,
      "outputs": []
    },
    {
      "cell_type": "markdown",
      "source": [
        "##### 1. Why did you pick the specific chart?"
      ],
      "metadata": {
        "id": "EXh0U9oCveiU"
      }
    },
    {
      "cell_type": "markdown",
      "source": [
        "Answer Here."
      ],
      "metadata": {
        "id": "eMmPjTByveiU"
      }
    },
    {
      "cell_type": "markdown",
      "source": [
        "##### 2. What is/are the insight(s) found from the chart?"
      ],
      "metadata": {
        "id": "22aHeOlLveiV"
      }
    },
    {
      "cell_type": "markdown",
      "source": [
        "Answer Here"
      ],
      "metadata": {
        "id": "uPQ8RGwHveiV"
      }
    },
    {
      "cell_type": "markdown",
      "source": [
        "## **5. Solution to Business Objective**"
      ],
      "metadata": {
        "id": "JcMwzZxoAimU"
      }
    },
    {
      "cell_type": "markdown",
      "source": [
        "#### What do you suggest the client to achieve Business Objective ?\n",
        "Explain Briefly."
      ],
      "metadata": {
        "id": "8G2x9gOozGDZ"
      }
    },
    {
      "cell_type": "markdown",
      "source": [
        "Answer Here."
      ],
      "metadata": {
        "id": "pASKb0qOza21"
      }
    },
    {
      "cell_type": "markdown",
      "source": [
        "# **Conclusion**"
      ],
      "metadata": {
        "id": "gCX9965dhzqZ"
      }
    },
    {
      "cell_type": "markdown",
      "source": [
        "**🧠Conclusion:**\n",
        "\n",
        "The Play Store App Review Analysis - Exploratory Data Analysis project combines the power of data manipulation, visualization, and statistical techniques to provide stakeholders with actionable insights. By systematically exploring play store data and user reviews, we unearth patterns and trends that empower stakeholders to make informed decisions, thereby elevating their app-related strategies. This project is a testament to the value of data-driven approaches in understanding user behavior and app performance.\n",
        "\n",
        "Feel free to explore the full project on our GitHub repository, where you can find detailed code, datasets, visualizations, and insights that drive the heart of the Play Store App Review Analysis project."
      ],
      "metadata": {
        "id": "Fjb1IsQkh3yE"
      }
    },
    {
      "cell_type": "markdown",
      "source": [
        "### ***Hurrah! We have successfully completed our EDA Capstone Project !!!***"
      ],
      "metadata": {
        "id": "gIfDvo9L0UH2"
      }
    }
  ]
}