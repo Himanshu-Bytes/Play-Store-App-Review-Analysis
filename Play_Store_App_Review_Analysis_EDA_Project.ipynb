{
  "nbformat": 4,
  "nbformat_minor": 0,
  "metadata": {
    "colab": {
      "provenance": [],
      "collapsed_sections": [
        "w6K7xa23Elo4",
        "mDgbUHAGgjLW",
        "0wOQAZs5pc--",
        "K5QZ13OEpz2H",
        "lQ7QKXXCp7Bj",
        "448CDAPjqfQr",
        "KSlN3yHqYklG",
        "t6dVpIINYklI",
        "ijmpgYnKYklI",
        "-JiQyfWJYklI",
        "EM7whBJCYoAo",
        "fge-S5ZAYoAp",
        "85gYPyotYoAp",
        "RoGjAbkUYoAp",
        "4Of9eVA-YrdM",
        "iky9q4vBYrdO",
        "F6T5p64dYrdO",
        "y-Ehk30pYrdP",
        "bamQiAODYuh1",
        "QHF8YVU7Yuh3",
        "GwzvFGzlYuh3",
        "qYpmQ266Yuh3",
        "OH-pJp9IphqM",
        "bbFf2-_FphqN",
        "_ouA3fa0phqN",
        "Seke61FWphqN",
        "PIIx-8_IphqN",
        "t27r6nlMphqO",
        "r2jJGEOYphqO",
        "b0JNsNcRphqO",
        "BZR9WyysphqO",
        "jj7wYXLtphqO",
        "eZrbJ2SmphqO",
        "rFu4xreNphqO",
        "YJ55k-q6phqO",
        "gCFgpxoyphqP",
        "OVtJsKN_phqQ",
        "lssrdh5qphqQ",
        "U2RJ9gkRphqQ",
        "1M8mcRywphqQ",
        "tgIPom80phqQ",
        "JMzcOPDDphqR",
        "x-EpHcCOp1ci",
        "X_VqEhTip1ck",
        "8zGJKyg5p1ck",
        "PVzmfK_Ep1ck",
        "n3dbpmDWp1ck",
        "ylSl6qgtp1ck",
        "ZWILFDl5p1ck",
        "M7G43BXep1ck",
        "Ag9LCva-p1cl",
        "E6MkPsBcp1cl",
        "2cELzS2fp1cl",
        "3MPXvC8up1cl",
        "NC_X3p0fY2L0",
        "UV0SzAkaZNRQ",
        "YPEH6qLeZNRQ",
        "q29F0dvdveiT",
        "EXh0U9oCveiU",
        "22aHeOlLveiV",
        "JcMwzZxoAimU",
        "8G2x9gOozGDZ",
        "gCX9965dhzqZ",
        "gIfDvo9L0UH2"
      ],
      "include_colab_link": true
    },
    "kernelspec": {
      "name": "python3",
      "display_name": "Python 3"
    },
    "language_info": {
      "name": "python"
    }
  },
  "cells": [
    {
      "cell_type": "markdown",
      "metadata": {
        "id": "view-in-github",
        "colab_type": "text"
      },
      "source": [
        "<a href=\"https://colab.research.google.com/github/Himanshu-Bytes/Play-Store-App-Review-Analysis/blob/main/Play_Store_App_Review_Analysis_EDA_Project.ipynb\" target=\"_parent\"><img src=\"https://colab.research.google.com/assets/colab-badge.svg\" alt=\"Open In Colab\"/></a>"
      ]
    },
    {
      "cell_type": "markdown",
      "source": [
        "# **Project Name**    - Play Store App Review Analysis (EDA Project)\n"
      ],
      "metadata": {
        "id": "vncDsAP0Gaoa"
      }
    },
    {
      "cell_type": "markdown",
      "source": [
        "##### **Project Type**    - Exploratory Data Analysis (EDA)\n",
        "\n",
        "##### **Contribution**    - Individual\n"
      ],
      "metadata": {
        "id": "beRrZCGUAJYm"
      }
    },
    {
      "cell_type": "markdown",
      "source": [
        "# **Project Summary -**\n",
        "\n",
        "# **👋Hey! Wassup Folks!!🙋‍♂️**\n",
        "\n",
        "Welcome to the Play Store App Review Analysis project🙂, where we will dive into the world of app data and user reviews to extract meaningful insights and understand user preferences. In this project, we will adopt a systematic approach to explore and analyze two datasets: one containing play store data and the other containing user reviews. By employing data manipulation, visualization, and statistical techniques, we aim to provide valuable insights to stakeholders and uncover patterns that can drive informed decision-making.\n",
        "\n",
        "Throughout the project we will follow an efficient approach by starting with data collection and preprocessing, followed by thorough exploratory data analysis. This approach will ensure that we are efficiently tackling each step, from handling missing values and outliers to crafting insightful visualizations and generating actionable insights.\n",
        "\n",
        "\n",
        "![play-store-logo.png](data:image/png;base64,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)\n",
        "-----------------------------------------------------------------\n",
        "\n",
        "**Mainly we will be using these popular libraries to achieve our goal of providing insightful information:**\n",
        "\n",
        "**🐼Pandas:** For seamless data manipulation and aggregation.\n",
        "\n",
        "**Matplotlib and Seaborn:** For visually rich representations of data.\n",
        "\n",
        "**NumPy:** For efficient numerical operations and calculations.\n",
        "\n",
        "-----------------------------------------------------------------\n",
        "\n",
        "**🤔Insights and Understandings:**\n",
        "\n",
        "Our main focus is on extracting insights that cater to stakeholders' interests. By identifying which types of apps are most popular, understanding the correlation between user ratings and app features, and discerning sentiment trends in user reviews, we create a comprehensive narrative that helps stakeholders make informed decisions regarding app development and marketing strategies.\n",
        "\n",
        "-----------------------------------------------------------------\n",
        "**📜Business Context:**\n",
        "\n",
        "The Play Store apps data has enormous potential to drive app-making businesses to success. Actionable insights can be drawn for developers to work on and capture the Android market. Each app (row) has values for category, rating, size, and more. Another dataset contains customer reviews of the android apps. Explore and analyse the data to discover key factors responsible for app engagement and success.\n",
        "\n",
        "-----------------------------------------------------------------\n",
        "\n",
        "**💯Project's Usefulness to Stakeholders:**\n",
        "\n",
        "This project offers stakeholders a deep understanding of the dynamics within the Play Store app landscape. By revealing user preferences, sentiment trends, and correlations between app attributes and success metrics, stakeholders can optimize app development, marketing efforts, and user engagement strategies. The insights drawn from this analysis pave the way for data-driven decisions that are tailored to enhance app performance and user satisfaction.\n"
      ],
      "metadata": {
        "id": "F6v_1wHtG2nS"
      }
    },
    {
      "cell_type": "markdown",
      "source": [
        "# **GitHub Link -**"
      ],
      "metadata": {
        "id": "w6K7xa23Elo4"
      }
    },
    {
      "cell_type": "markdown",
      "source": [
        "GitHub Link: https://github.com/Himanshu-Bytes/Play-Store-App-Review-Analysis"
      ],
      "metadata": {
        "id": "h1o69JH3Eqqn"
      }
    },
    {
      "cell_type": "markdown",
      "source": [
        "# **Problem Statement**\n"
      ],
      "metadata": {
        "id": "yQaldy8SH6Dl"
      }
    },
    {
      "cell_type": "markdown",
      "source": [
        "1. Which app categories have the highest average user ratings, and what factors might be contributing to these high ratings?\n",
        "\n",
        "2. Do free apps generally receive higher user ratings than paid apps, and if so, why might this be the case?\n",
        "\n",
        "3. Are there specific days of the week or times of the day when users tend to leave more reviews, and can we identify any patterns in user feedback during these times?\n",
        "\n",
        "4. Which app categories have the highest number of downloads, and is there a correlation between the number of downloads and user ratings?\n",
        "\n",
        "5. Do longer app descriptions tend to result in higher user ratings, and is there an optimal length for app descriptions?\n",
        "\n",
        "6. What percentage of apps offer in-app purchases, and how does the presence of in-app purchases relate to user ratings?\n",
        "\n",
        "7. Are there any particular words or phrases that frequently appear in negative user reviews, and can we identify common issues users encounter?\n",
        "\n",
        "8. Do apps with frequent updates tend to have higher user ratings, and do users appreciate transparency in update descriptions?\n",
        "\n",
        "9. Is there a correlation between app size and user ratings, and do users prefer smaller or larger apps?\n",
        "\n",
        "10. Are there specific countries or regions where user reviews are consistently more positive or negative, and what factors might be influencing these regional variations?\n",
        "\n",
        "11. What are the most common reasons cited in user reviews for uninstalling an app, and how can developers address these issues to improve retention?\n",
        "\n",
        "12. Do apps with a high number of screenshots or promotional images tend to have higher user ratings, and what is the optimal number of images for user engagement?"
      ],
      "metadata": {
        "id": "DpeJGUA3kjGy"
      }
    },
    {
      "cell_type": "markdown",
      "source": [
        "#### **Define Your Business Objective?**"
      ],
      "metadata": {
        "id": "PH-0ReGfmX4f"
      }
    },
    {
      "cell_type": "markdown",
      "source": [
        "The Play Store apps data has enormous potential to drive app-making businesses to success. Actionable insights can be drawn for developers to work on and capture the Android market. Each app (row) has values for category, rating, size, and more. Another dataset contains customer reviews of the android apps. Explore and analyse the data to discover key factors responsible for app engagement and success."
      ],
      "metadata": {
        "id": "PhDvGCAqmjP1"
      }
    },
    {
      "cell_type": "markdown",
      "source": [
        "# **General Guidelines** : -  "
      ],
      "metadata": {
        "id": "mDgbUHAGgjLW"
      }
    },
    {
      "cell_type": "markdown",
      "source": [
        "1.   Well-structured, formatted, and commented code is required.\n",
        "2.   Exception Handling, Production Grade Code & Deployment Ready Code will be a plus. Those students will be awarded some additional credits.\n",
        "     \n",
        "     The additional credits will have advantages over other students during Star Student selection.\n",
        "       \n",
        "             [ Note: - Deployment Ready Code is defined as, the whole .ipynb notebook should be executable in one go\n",
        "                       without a single error logged. ]\n",
        "\n",
        "3.   Each and every logic should have proper comments.\n",
        "4. You may add as many number of charts you want. Make Sure for each and every chart the following format should be answered.\n",
        "        \n",
        "\n",
        "```\n",
        "# Chart visualization code\n",
        "```\n",
        "            \n",
        "\n",
        "*   Why did you pick the specific chart?\n",
        "*   What is/are the insight(s) found from the chart?\n",
        "* Will the gained insights help creating a positive business impact?\n",
        "Are there any insights that lead to negative growth? Justify with specific reason.\n",
        "\n",
        "5. You have to create at least 20 logical & meaningful charts having important insights.\n",
        "\n",
        "\n",
        "[ Hints : - Do the Vizualization in  a structured way while following \"UBM\" Rule.\n",
        "\n",
        "U - Univariate Analysis,\n",
        "\n",
        "B - Bivariate Analysis (Numerical - Categorical, Numerical - Numerical, Categorical - Categorical)\n",
        "\n",
        "M - Multivariate Analysis\n",
        " ]\n",
        "\n",
        "\n",
        "\n"
      ],
      "metadata": {
        "id": "ZrxVaUj-hHfC"
      }
    },
    {
      "cell_type": "markdown",
      "source": [
        "# ***Let's Begin !***"
      ],
      "metadata": {
        "id": "O_i_v8NEhb9l"
      }
    },
    {
      "cell_type": "markdown",
      "source": [
        "## ***1. Know Your Data***"
      ],
      "metadata": {
        "id": "HhfV-JJviCcP"
      }
    },
    {
      "cell_type": "markdown",
      "source": [
        "### Import Libraries"
      ],
      "metadata": {
        "id": "Y3lxredqlCYt"
      }
    },
    {
      "cell_type": "code",
      "source": [
        "# Import Libraries\n",
        "import pandas as pd\n",
        "import matplotlib.pyplot as plt\n",
        "import numpy as np\n",
        "import seaborn as sns\n",
        "from datetime import datetime"
      ],
      "metadata": {
        "id": "M8Vqi-pPk-HR"
      },
      "execution_count": 4,
      "outputs": []
    },
    {
      "cell_type": "markdown",
      "source": [
        "### Dataset Loading"
      ],
      "metadata": {
        "id": "3RnN4peoiCZX"
      }
    },
    {
      "cell_type": "code",
      "source": [
        "# Loading both the Datasets\n",
        "play_store_df = pd.read_csv(\"/content/Play Store Data.csv\")\n",
        "user_reviews_df = pd.read_csv(\"/content/User Reviews.csv\")"
      ],
      "metadata": {
        "id": "4CkvbW_SlZ_R"
      },
      "execution_count": 5,
      "outputs": []
    },
    {
      "cell_type": "markdown",
      "source": [
        "### Dataset First View"
      ],
      "metadata": {
        "id": "x71ZqKXriCWQ"
      }
    },
    {
      "cell_type": "code",
      "source": [
        "# Dataset First Look - After merging both the datsets\n",
        "merged_df = pd.merge(play_store_df, user_reviews_df, on = \"App\")\n",
        "display(merged_df)"
      ],
      "metadata": {
        "id": "LWNFOSvLl09H",
        "colab": {
          "base_uri": "https://localhost:8080/",
          "height": 1000
        },
        "outputId": "0d1d3f5c-d21e-4470-d15c-bc9b40f2648e"
      },
      "execution_count": 6,
      "outputs": [
        {
          "output_type": "display_data",
          "data": {
            "text/plain": [
              "                                                   App        Category  \\\n",
              "0      3D Color Pixel by Number - Sandbox Art Coloring  ART_AND_DESIGN   \n",
              "1      3D Color Pixel by Number - Sandbox Art Coloring  ART_AND_DESIGN   \n",
              "2      3D Color Pixel by Number - Sandbox Art Coloring  ART_AND_DESIGN   \n",
              "3      3D Color Pixel by Number - Sandbox Art Coloring  ART_AND_DESIGN   \n",
              "4      3D Color Pixel by Number - Sandbox Art Coloring  ART_AND_DESIGN   \n",
              "...                                                ...             ...   \n",
              "31792                     A+ Gallery - Photos & Videos     PHOTOGRAPHY   \n",
              "31793                     A+ Gallery - Photos & Videos     PHOTOGRAPHY   \n",
              "31794                     A+ Gallery - Photos & Videos     PHOTOGRAPHY   \n",
              "31795                     A+ Gallery - Photos & Videos     PHOTOGRAPHY   \n",
              "31796                     A+ Gallery - Photos & Videos     PHOTOGRAPHY   \n",
              "\n",
              "       Rating Reviews                Size     Installs  Type Price  \\\n",
              "0         4.4    1518                 37M     100,000+  Free     0   \n",
              "1         4.4    1518                 37M     100,000+  Free     0   \n",
              "2         4.4    1518                 37M     100,000+  Free     0   \n",
              "3         4.4    1518                 37M     100,000+  Free     0   \n",
              "4         4.4    1518                 37M     100,000+  Free     0   \n",
              "...       ...     ...                 ...          ...   ...   ...   \n",
              "31792     4.5  223941  Varies with device  10,000,000+  Free     0   \n",
              "31793     4.5  223941  Varies with device  10,000,000+  Free     0   \n",
              "31794     4.5  223941  Varies with device  10,000,000+  Free     0   \n",
              "31795     4.5  223941  Varies with device  10,000,000+  Free     0   \n",
              "31796     4.5  223941  Varies with device  10,000,000+  Free     0   \n",
              "\n",
              "      Content Rating        Genres    Last Updated         Current Ver  \\\n",
              "0           Everyone  Art & Design  August 3, 2018               1.2.3   \n",
              "1           Everyone  Art & Design  August 3, 2018               1.2.3   \n",
              "2           Everyone  Art & Design  August 3, 2018               1.2.3   \n",
              "3           Everyone  Art & Design  August 3, 2018               1.2.3   \n",
              "4           Everyone  Art & Design  August 3, 2018               1.2.3   \n",
              "...              ...           ...             ...                 ...   \n",
              "31792       Everyone   Photography  August 6, 2018  Varies with device   \n",
              "31793       Everyone   Photography  August 6, 2018  Varies with device   \n",
              "31794       Everyone   Photography  August 6, 2018  Varies with device   \n",
              "31795       Everyone   Photography  August 6, 2018  Varies with device   \n",
              "31796       Everyone   Photography  August 6, 2018  Varies with device   \n",
              "\n",
              "              Android Ver             Translated_Review Sentiment  \\\n",
              "0              2.3 and up                           NaN       NaN   \n",
              "1              2.3 and up                           NaN       NaN   \n",
              "2              2.3 and up                           NaN       NaN   \n",
              "3              2.3 and up                           NaN       NaN   \n",
              "4              2.3 and up                           NaN       NaN   \n",
              "...                   ...                           ...       ...   \n",
              "31792  Varies with device                           NaN       NaN   \n",
              "31793  Varies with device                           NaN       NaN   \n",
              "31794  Varies with device                  Too much ads  Positive   \n",
              "31795  Varies with device           Just allow time ...   Neutral   \n",
              "31796  Varies with device  It's good best gallery phone  Positive   \n",
              "\n",
              "       Sentiment_Polarity  Sentiment_Subjectivity  \n",
              "0                     NaN                     NaN  \n",
              "1                     NaN                     NaN  \n",
              "2                     NaN                     NaN  \n",
              "3                     NaN                     NaN  \n",
              "4                     NaN                     NaN  \n",
              "...                   ...                     ...  \n",
              "31792                 NaN                     NaN  \n",
              "31793                 NaN                     NaN  \n",
              "31794                0.20                    0.20  \n",
              "31795                0.00                    0.00  \n",
              "31796                0.85                    0.45  \n",
              "\n",
              "[31797 rows x 17 columns]"
            ],
            "text/html": [
              "\n",
              "  <div id=\"df-39827813-93fd-4f45-a812-e76353bfdec5\" class=\"colab-df-container\">\n",
              "    <div>\n",
              "<style scoped>\n",
              "    .dataframe tbody tr th:only-of-type {\n",
              "        vertical-align: middle;\n",
              "    }\n",
              "\n",
              "    .dataframe tbody tr th {\n",
              "        vertical-align: top;\n",
              "    }\n",
              "\n",
              "    .dataframe thead th {\n",
              "        text-align: right;\n",
              "    }\n",
              "</style>\n",
              "<table border=\"1\" class=\"dataframe\">\n",
              "  <thead>\n",
              "    <tr style=\"text-align: right;\">\n",
              "      <th></th>\n",
              "      <th>App</th>\n",
              "      <th>Category</th>\n",
              "      <th>Rating</th>\n",
              "      <th>Reviews</th>\n",
              "      <th>Size</th>\n",
              "      <th>Installs</th>\n",
              "      <th>Type</th>\n",
              "      <th>Price</th>\n",
              "      <th>Content Rating</th>\n",
              "      <th>Genres</th>\n",
              "      <th>Last Updated</th>\n",
              "      <th>Current Ver</th>\n",
              "      <th>Android Ver</th>\n",
              "      <th>Translated_Review</th>\n",
              "      <th>Sentiment</th>\n",
              "      <th>Sentiment_Polarity</th>\n",
              "      <th>Sentiment_Subjectivity</th>\n",
              "    </tr>\n",
              "  </thead>\n",
              "  <tbody>\n",
              "    <tr>\n",
              "      <th>0</th>\n",
              "      <td>3D Color Pixel by Number - Sandbox Art Coloring</td>\n",
              "      <td>ART_AND_DESIGN</td>\n",
              "      <td>4.4</td>\n",
              "      <td>1518</td>\n",
              "      <td>37M</td>\n",
              "      <td>100,000+</td>\n",
              "      <td>Free</td>\n",
              "      <td>0</td>\n",
              "      <td>Everyone</td>\n",
              "      <td>Art &amp; Design</td>\n",
              "      <td>August 3, 2018</td>\n",
              "      <td>1.2.3</td>\n",
              "      <td>2.3 and up</td>\n",
              "      <td>NaN</td>\n",
              "      <td>NaN</td>\n",
              "      <td>NaN</td>\n",
              "      <td>NaN</td>\n",
              "    </tr>\n",
              "    <tr>\n",
              "      <th>1</th>\n",
              "      <td>3D Color Pixel by Number - Sandbox Art Coloring</td>\n",
              "      <td>ART_AND_DESIGN</td>\n",
              "      <td>4.4</td>\n",
              "      <td>1518</td>\n",
              "      <td>37M</td>\n",
              "      <td>100,000+</td>\n",
              "      <td>Free</td>\n",
              "      <td>0</td>\n",
              "      <td>Everyone</td>\n",
              "      <td>Art &amp; Design</td>\n",
              "      <td>August 3, 2018</td>\n",
              "      <td>1.2.3</td>\n",
              "      <td>2.3 and up</td>\n",
              "      <td>NaN</td>\n",
              "      <td>NaN</td>\n",
              "      <td>NaN</td>\n",
              "      <td>NaN</td>\n",
              "    </tr>\n",
              "    <tr>\n",
              "      <th>2</th>\n",
              "      <td>3D Color Pixel by Number - Sandbox Art Coloring</td>\n",
              "      <td>ART_AND_DESIGN</td>\n",
              "      <td>4.4</td>\n",
              "      <td>1518</td>\n",
              "      <td>37M</td>\n",
              "      <td>100,000+</td>\n",
              "      <td>Free</td>\n",
              "      <td>0</td>\n",
              "      <td>Everyone</td>\n",
              "      <td>Art &amp; Design</td>\n",
              "      <td>August 3, 2018</td>\n",
              "      <td>1.2.3</td>\n",
              "      <td>2.3 and up</td>\n",
              "      <td>NaN</td>\n",
              "      <td>NaN</td>\n",
              "      <td>NaN</td>\n",
              "      <td>NaN</td>\n",
              "    </tr>\n",
              "    <tr>\n",
              "      <th>3</th>\n",
              "      <td>3D Color Pixel by Number - Sandbox Art Coloring</td>\n",
              "      <td>ART_AND_DESIGN</td>\n",
              "      <td>4.4</td>\n",
              "      <td>1518</td>\n",
              "      <td>37M</td>\n",
              "      <td>100,000+</td>\n",
              "      <td>Free</td>\n",
              "      <td>0</td>\n",
              "      <td>Everyone</td>\n",
              "      <td>Art &amp; Design</td>\n",
              "      <td>August 3, 2018</td>\n",
              "      <td>1.2.3</td>\n",
              "      <td>2.3 and up</td>\n",
              "      <td>NaN</td>\n",
              "      <td>NaN</td>\n",
              "      <td>NaN</td>\n",
              "      <td>NaN</td>\n",
              "    </tr>\n",
              "    <tr>\n",
              "      <th>4</th>\n",
              "      <td>3D Color Pixel by Number - Sandbox Art Coloring</td>\n",
              "      <td>ART_AND_DESIGN</td>\n",
              "      <td>4.4</td>\n",
              "      <td>1518</td>\n",
              "      <td>37M</td>\n",
              "      <td>100,000+</td>\n",
              "      <td>Free</td>\n",
              "      <td>0</td>\n",
              "      <td>Everyone</td>\n",
              "      <td>Art &amp; Design</td>\n",
              "      <td>August 3, 2018</td>\n",
              "      <td>1.2.3</td>\n",
              "      <td>2.3 and up</td>\n",
              "      <td>NaN</td>\n",
              "      <td>NaN</td>\n",
              "      <td>NaN</td>\n",
              "      <td>NaN</td>\n",
              "    </tr>\n",
              "    <tr>\n",
              "      <th>...</th>\n",
              "      <td>...</td>\n",
              "      <td>...</td>\n",
              "      <td>...</td>\n",
              "      <td>...</td>\n",
              "      <td>...</td>\n",
              "      <td>...</td>\n",
              "      <td>...</td>\n",
              "      <td>...</td>\n",
              "      <td>...</td>\n",
              "      <td>...</td>\n",
              "      <td>...</td>\n",
              "      <td>...</td>\n",
              "      <td>...</td>\n",
              "      <td>...</td>\n",
              "      <td>...</td>\n",
              "      <td>...</td>\n",
              "      <td>...</td>\n",
              "    </tr>\n",
              "    <tr>\n",
              "      <th>31792</th>\n",
              "      <td>A+ Gallery - Photos &amp; Videos</td>\n",
              "      <td>PHOTOGRAPHY</td>\n",
              "      <td>4.5</td>\n",
              "      <td>223941</td>\n",
              "      <td>Varies with device</td>\n",
              "      <td>10,000,000+</td>\n",
              "      <td>Free</td>\n",
              "      <td>0</td>\n",
              "      <td>Everyone</td>\n",
              "      <td>Photography</td>\n",
              "      <td>August 6, 2018</td>\n",
              "      <td>Varies with device</td>\n",
              "      <td>Varies with device</td>\n",
              "      <td>NaN</td>\n",
              "      <td>NaN</td>\n",
              "      <td>NaN</td>\n",
              "      <td>NaN</td>\n",
              "    </tr>\n",
              "    <tr>\n",
              "      <th>31793</th>\n",
              "      <td>A+ Gallery - Photos &amp; Videos</td>\n",
              "      <td>PHOTOGRAPHY</td>\n",
              "      <td>4.5</td>\n",
              "      <td>223941</td>\n",
              "      <td>Varies with device</td>\n",
              "      <td>10,000,000+</td>\n",
              "      <td>Free</td>\n",
              "      <td>0</td>\n",
              "      <td>Everyone</td>\n",
              "      <td>Photography</td>\n",
              "      <td>August 6, 2018</td>\n",
              "      <td>Varies with device</td>\n",
              "      <td>Varies with device</td>\n",
              "      <td>NaN</td>\n",
              "      <td>NaN</td>\n",
              "      <td>NaN</td>\n",
              "      <td>NaN</td>\n",
              "    </tr>\n",
              "    <tr>\n",
              "      <th>31794</th>\n",
              "      <td>A+ Gallery - Photos &amp; Videos</td>\n",
              "      <td>PHOTOGRAPHY</td>\n",
              "      <td>4.5</td>\n",
              "      <td>223941</td>\n",
              "      <td>Varies with device</td>\n",
              "      <td>10,000,000+</td>\n",
              "      <td>Free</td>\n",
              "      <td>0</td>\n",
              "      <td>Everyone</td>\n",
              "      <td>Photography</td>\n",
              "      <td>August 6, 2018</td>\n",
              "      <td>Varies with device</td>\n",
              "      <td>Varies with device</td>\n",
              "      <td>Too much ads</td>\n",
              "      <td>Positive</td>\n",
              "      <td>0.20</td>\n",
              "      <td>0.20</td>\n",
              "    </tr>\n",
              "    <tr>\n",
              "      <th>31795</th>\n",
              "      <td>A+ Gallery - Photos &amp; Videos</td>\n",
              "      <td>PHOTOGRAPHY</td>\n",
              "      <td>4.5</td>\n",
              "      <td>223941</td>\n",
              "      <td>Varies with device</td>\n",
              "      <td>10,000,000+</td>\n",
              "      <td>Free</td>\n",
              "      <td>0</td>\n",
              "      <td>Everyone</td>\n",
              "      <td>Photography</td>\n",
              "      <td>August 6, 2018</td>\n",
              "      <td>Varies with device</td>\n",
              "      <td>Varies with device</td>\n",
              "      <td>Just allow time ...</td>\n",
              "      <td>Neutral</td>\n",
              "      <td>0.00</td>\n",
              "      <td>0.00</td>\n",
              "    </tr>\n",
              "    <tr>\n",
              "      <th>31796</th>\n",
              "      <td>A+ Gallery - Photos &amp; Videos</td>\n",
              "      <td>PHOTOGRAPHY</td>\n",
              "      <td>4.5</td>\n",
              "      <td>223941</td>\n",
              "      <td>Varies with device</td>\n",
              "      <td>10,000,000+</td>\n",
              "      <td>Free</td>\n",
              "      <td>0</td>\n",
              "      <td>Everyone</td>\n",
              "      <td>Photography</td>\n",
              "      <td>August 6, 2018</td>\n",
              "      <td>Varies with device</td>\n",
              "      <td>Varies with device</td>\n",
              "      <td>It's good best gallery phone</td>\n",
              "      <td>Positive</td>\n",
              "      <td>0.85</td>\n",
              "      <td>0.45</td>\n",
              "    </tr>\n",
              "  </tbody>\n",
              "</table>\n",
              "<p>31797 rows × 17 columns</p>\n",
              "</div>\n",
              "    <div class=\"colab-df-buttons\">\n",
              "\n",
              "  <div class=\"colab-df-container\">\n",
              "    <button class=\"colab-df-convert\" onclick=\"convertToInteractive('df-39827813-93fd-4f45-a812-e76353bfdec5')\"\n",
              "            title=\"Convert this dataframe to an interactive table.\"\n",
              "            style=\"display:none;\">\n",
              "\n",
              "  <svg xmlns=\"http://www.w3.org/2000/svg\" height=\"24px\" viewBox=\"0 -960 960 960\">\n",
              "    <path d=\"M120-120v-720h720v720H120Zm60-500h600v-160H180v160Zm220 220h160v-160H400v160Zm0 220h160v-160H400v160ZM180-400h160v-160H180v160Zm440 0h160v-160H620v160ZM180-180h160v-160H180v160Zm440 0h160v-160H620v160Z\"/>\n",
              "  </svg>\n",
              "    </button>\n",
              "\n",
              "  <style>\n",
              "    .colab-df-container {\n",
              "      display:flex;\n",
              "      gap: 12px;\n",
              "    }\n",
              "\n",
              "    .colab-df-convert {\n",
              "      background-color: #E8F0FE;\n",
              "      border: none;\n",
              "      border-radius: 50%;\n",
              "      cursor: pointer;\n",
              "      display: none;\n",
              "      fill: #1967D2;\n",
              "      height: 32px;\n",
              "      padding: 0 0 0 0;\n",
              "      width: 32px;\n",
              "    }\n",
              "\n",
              "    .colab-df-convert:hover {\n",
              "      background-color: #E2EBFA;\n",
              "      box-shadow: 0px 1px 2px rgba(60, 64, 67, 0.3), 0px 1px 3px 1px rgba(60, 64, 67, 0.15);\n",
              "      fill: #174EA6;\n",
              "    }\n",
              "\n",
              "    .colab-df-buttons div {\n",
              "      margin-bottom: 4px;\n",
              "    }\n",
              "\n",
              "    [theme=dark] .colab-df-convert {\n",
              "      background-color: #3B4455;\n",
              "      fill: #D2E3FC;\n",
              "    }\n",
              "\n",
              "    [theme=dark] .colab-df-convert:hover {\n",
              "      background-color: #434B5C;\n",
              "      box-shadow: 0px 1px 3px 1px rgba(0, 0, 0, 0.15);\n",
              "      filter: drop-shadow(0px 1px 2px rgba(0, 0, 0, 0.3));\n",
              "      fill: #FFFFFF;\n",
              "    }\n",
              "  </style>\n",
              "\n",
              "    <script>\n",
              "      const buttonEl =\n",
              "        document.querySelector('#df-39827813-93fd-4f45-a812-e76353bfdec5 button.colab-df-convert');\n",
              "      buttonEl.style.display =\n",
              "        google.colab.kernel.accessAllowed ? 'block' : 'none';\n",
              "\n",
              "      async function convertToInteractive(key) {\n",
              "        const element = document.querySelector('#df-39827813-93fd-4f45-a812-e76353bfdec5');\n",
              "        const dataTable =\n",
              "          await google.colab.kernel.invokeFunction('convertToInteractive',\n",
              "                                                    [key], {});\n",
              "        if (!dataTable) return;\n",
              "\n",
              "        const docLinkHtml = 'Like what you see? Visit the ' +\n",
              "          '<a target=\"_blank\" href=https://colab.research.google.com/notebooks/data_table.ipynb>data table notebook</a>'\n",
              "          + ' to learn more about interactive tables.';\n",
              "        element.innerHTML = '';\n",
              "        dataTable['output_type'] = 'display_data';\n",
              "        await google.colab.output.renderOutput(dataTable, element);\n",
              "        const docLink = document.createElement('div');\n",
              "        docLink.innerHTML = docLinkHtml;\n",
              "        element.appendChild(docLink);\n",
              "      }\n",
              "    </script>\n",
              "  </div>\n",
              "\n",
              "\n",
              "<div id=\"df-6c01f4e8-ea38-4439-ab47-55d0c6d6e8cb\">\n",
              "  <button class=\"colab-df-quickchart\" onclick=\"quickchart('df-6c01f4e8-ea38-4439-ab47-55d0c6d6e8cb')\"\n",
              "            title=\"Suggest charts.\"\n",
              "            style=\"display:none;\">\n",
              "\n",
              "<svg xmlns=\"http://www.w3.org/2000/svg\" height=\"24px\"viewBox=\"0 0 24 24\"\n",
              "     width=\"24px\">\n",
              "    <g>\n",
              "        <path d=\"M19 3H5c-1.1 0-2 .9-2 2v14c0 1.1.9 2 2 2h14c1.1 0 2-.9 2-2V5c0-1.1-.9-2-2-2zM9 17H7v-7h2v7zm4 0h-2V7h2v10zm4 0h-2v-4h2v4z\"/>\n",
              "    </g>\n",
              "</svg>\n",
              "  </button>\n",
              "\n",
              "<style>\n",
              "  .colab-df-quickchart {\n",
              "      --bg-color: #E8F0FE;\n",
              "      --fill-color: #1967D2;\n",
              "      --hover-bg-color: #E2EBFA;\n",
              "      --hover-fill-color: #174EA6;\n",
              "      --disabled-fill-color: #AAA;\n",
              "      --disabled-bg-color: #DDD;\n",
              "  }\n",
              "\n",
              "  [theme=dark] .colab-df-quickchart {\n",
              "      --bg-color: #3B4455;\n",
              "      --fill-color: #D2E3FC;\n",
              "      --hover-bg-color: #434B5C;\n",
              "      --hover-fill-color: #FFFFFF;\n",
              "      --disabled-bg-color: #3B4455;\n",
              "      --disabled-fill-color: #666;\n",
              "  }\n",
              "\n",
              "  .colab-df-quickchart {\n",
              "    background-color: var(--bg-color);\n",
              "    border: none;\n",
              "    border-radius: 50%;\n",
              "    cursor: pointer;\n",
              "    display: none;\n",
              "    fill: var(--fill-color);\n",
              "    height: 32px;\n",
              "    padding: 0;\n",
              "    width: 32px;\n",
              "  }\n",
              "\n",
              "  .colab-df-quickchart:hover {\n",
              "    background-color: var(--hover-bg-color);\n",
              "    box-shadow: 0 1px 2px rgba(60, 64, 67, 0.3), 0 1px 3px 1px rgba(60, 64, 67, 0.15);\n",
              "    fill: var(--button-hover-fill-color);\n",
              "  }\n",
              "\n",
              "  .colab-df-quickchart-complete:disabled,\n",
              "  .colab-df-quickchart-complete:disabled:hover {\n",
              "    background-color: var(--disabled-bg-color);\n",
              "    fill: var(--disabled-fill-color);\n",
              "    box-shadow: none;\n",
              "  }\n",
              "\n",
              "  .colab-df-spinner {\n",
              "    border: 2px solid var(--fill-color);\n",
              "    border-color: transparent;\n",
              "    border-bottom-color: var(--fill-color);\n",
              "    animation:\n",
              "      spin 1s steps(1) infinite;\n",
              "  }\n",
              "\n",
              "  @keyframes spin {\n",
              "    0% {\n",
              "      border-color: transparent;\n",
              "      border-bottom-color: var(--fill-color);\n",
              "      border-left-color: var(--fill-color);\n",
              "    }\n",
              "    20% {\n",
              "      border-color: transparent;\n",
              "      border-left-color: var(--fill-color);\n",
              "      border-top-color: var(--fill-color);\n",
              "    }\n",
              "    30% {\n",
              "      border-color: transparent;\n",
              "      border-left-color: var(--fill-color);\n",
              "      border-top-color: var(--fill-color);\n",
              "      border-right-color: var(--fill-color);\n",
              "    }\n",
              "    40% {\n",
              "      border-color: transparent;\n",
              "      border-right-color: var(--fill-color);\n",
              "      border-top-color: var(--fill-color);\n",
              "    }\n",
              "    60% {\n",
              "      border-color: transparent;\n",
              "      border-right-color: var(--fill-color);\n",
              "    }\n",
              "    80% {\n",
              "      border-color: transparent;\n",
              "      border-right-color: var(--fill-color);\n",
              "      border-bottom-color: var(--fill-color);\n",
              "    }\n",
              "    90% {\n",
              "      border-color: transparent;\n",
              "      border-bottom-color: var(--fill-color);\n",
              "    }\n",
              "  }\n",
              "</style>\n",
              "\n",
              "  <script>\n",
              "    async function quickchart(key) {\n",
              "      const quickchartButtonEl =\n",
              "        document.querySelector('#' + key + ' button');\n",
              "      quickchartButtonEl.disabled = true;  // To prevent multiple clicks.\n",
              "      quickchartButtonEl.classList.add('colab-df-spinner');\n",
              "      try {\n",
              "        const charts = await google.colab.kernel.invokeFunction(\n",
              "            'suggestCharts', [key], {});\n",
              "      } catch (error) {\n",
              "        console.error('Error during call to suggestCharts:', error);\n",
              "      }\n",
              "      quickchartButtonEl.classList.remove('colab-df-spinner');\n",
              "      quickchartButtonEl.classList.add('colab-df-quickchart-complete');\n",
              "    }\n",
              "    (() => {\n",
              "      let quickchartButtonEl =\n",
              "        document.querySelector('#df-6c01f4e8-ea38-4439-ab47-55d0c6d6e8cb button');\n",
              "      quickchartButtonEl.style.display =\n",
              "        google.colab.kernel.accessAllowed ? 'block' : 'none';\n",
              "    })();\n",
              "  </script>\n",
              "</div>\n",
              "    </div>\n",
              "  </div>\n"
            ]
          },
          "metadata": {}
        }
      ]
    },
    {
      "cell_type": "markdown",
      "source": [
        "### Dataset Rows & Columns count"
      ],
      "metadata": {
        "id": "7hBIi_osiCS2"
      }
    },
    {
      "cell_type": "code",
      "source": [
        "# Dataset Rows & Columns count using pandas shape attribute\n",
        "num_rows, num_columns = merged_df.shape\n",
        "\n",
        "print(f\"Number of Rows: {num_rows}\")\n",
        "print(f\"Number of Columns: {num_columns}\")"
      ],
      "metadata": {
        "id": "Kllu7SJgmLij",
        "colab": {
          "base_uri": "https://localhost:8080/"
        },
        "outputId": "a3e013e3-8aed-4e1a-c231-24c9a0957b73"
      },
      "execution_count": 7,
      "outputs": [
        {
          "output_type": "stream",
          "name": "stdout",
          "text": [
            "Number of Rows: 31797\n",
            "Number of Columns: 17\n"
          ]
        }
      ]
    },
    {
      "cell_type": "markdown",
      "source": [
        "### Dataset Information"
      ],
      "metadata": {
        "id": "JlHwYmJAmNHm"
      }
    },
    {
      "cell_type": "code",
      "source": [
        "# Dataset Information using info method\n",
        "merged_df.info()"
      ],
      "metadata": {
        "id": "e9hRXRi6meOf",
        "colab": {
          "base_uri": "https://localhost:8080/"
        },
        "outputId": "4546a990-76a1-4224-e2f2-dbf47c5d1002"
      },
      "execution_count": 8,
      "outputs": [
        {
          "output_type": "stream",
          "name": "stdout",
          "text": [
            "<class 'pandas.core.frame.DataFrame'>\n",
            "Int64Index: 31797 entries, 0 to 31796\n",
            "Data columns (total 17 columns):\n",
            " #   Column                  Non-Null Count  Dtype  \n",
            "---  ------                  --------------  -----  \n",
            " 0   App                     31797 non-null  object \n",
            " 1   Category                31797 non-null  object \n",
            " 2   Rating                  31757 non-null  float64\n",
            " 3   Reviews                 31797 non-null  object \n",
            " 4   Size                    31797 non-null  object \n",
            " 5   Installs                31797 non-null  object \n",
            " 6   Type                    31797 non-null  object \n",
            " 7   Price                   31797 non-null  object \n",
            " 8   Content Rating          31797 non-null  object \n",
            " 9   Genres                  31797 non-null  object \n",
            " 10  Last Updated            31797 non-null  object \n",
            " 11  Current Ver             31797 non-null  object \n",
            " 12  Android Ver             31797 non-null  object \n",
            " 13  Translated_Review       20098 non-null  object \n",
            " 14  Sentiment               20094 non-null  object \n",
            " 15  Sentiment_Polarity      20094 non-null  float64\n",
            " 16  Sentiment_Subjectivity  20094 non-null  float64\n",
            "dtypes: float64(3), object(14)\n",
            "memory usage: 4.4+ MB\n"
          ]
        }
      ]
    },
    {
      "cell_type": "markdown",
      "source": [
        "#### Duplicate Values"
      ],
      "metadata": {
        "id": "35m5QtbWiB9F"
      }
    },
    {
      "cell_type": "code",
      "source": [
        "# Dataset Duplicate Value Count\n",
        "num_duplicates = merged_df.duplicated().sum()\n",
        "print(f\"Number of Duplicate Rows: {num_duplicates}\")"
      ],
      "metadata": {
        "id": "1sLdpKYkmox0",
        "colab": {
          "base_uri": "https://localhost:8080/"
        },
        "outputId": "27b3f756-f0d5-4f37-a4b5-fb6ea3922759"
      },
      "execution_count": 9,
      "outputs": [
        {
          "output_type": "stream",
          "name": "stdout",
          "text": [
            "Number of Duplicate Rows: 19478\n"
          ]
        }
      ]
    },
    {
      "cell_type": "code",
      "source": [
        "# Removing the duplicate values\n",
        "merged_df.drop_duplicates(inplace = True)\n",
        "display(merged_df)"
      ],
      "metadata": {
        "id": "U8UAEKXOnetA",
        "colab": {
          "base_uri": "https://localhost:8080/",
          "height": 947
        },
        "outputId": "b59ac132-39e2-4b83-aa41-9bc8e72cfcd9"
      },
      "execution_count": 10,
      "outputs": [
        {
          "output_type": "display_data",
          "data": {
            "text/plain": [
              "                                                   App        Category  \\\n",
              "0      3D Color Pixel by Number - Sandbox Art Coloring  ART_AND_DESIGN   \n",
              "40                               Animated Photo Editor  ART_AND_DESIGN   \n",
              "41                               Animated Photo Editor  ART_AND_DESIGN   \n",
              "42                               Animated Photo Editor  ART_AND_DESIGN   \n",
              "43                               Animated Photo Editor  ART_AND_DESIGN   \n",
              "...                                                ...             ...   \n",
              "31781                     A+ Gallery - Photos & Videos     PHOTOGRAPHY   \n",
              "31787                     A+ Gallery - Photos & Videos     PHOTOGRAPHY   \n",
              "31794                     A+ Gallery - Photos & Videos     PHOTOGRAPHY   \n",
              "31795                     A+ Gallery - Photos & Videos     PHOTOGRAPHY   \n",
              "31796                     A+ Gallery - Photos & Videos     PHOTOGRAPHY   \n",
              "\n",
              "       Rating Reviews                Size     Installs  Type Price  \\\n",
              "0         4.4    1518                 37M     100,000+  Free     0   \n",
              "40        4.1     203                6.1M     100,000+  Free     0   \n",
              "41        4.1     203                6.1M     100,000+  Free     0   \n",
              "42        4.1     203                6.1M     100,000+  Free     0   \n",
              "43        4.1     203                6.1M     100,000+  Free     0   \n",
              "...       ...     ...                 ...          ...   ...   ...   \n",
              "31781     4.5  223941  Varies with device  10,000,000+  Free     0   \n",
              "31787     4.5  223941  Varies with device  10,000,000+  Free     0   \n",
              "31794     4.5  223941  Varies with device  10,000,000+  Free     0   \n",
              "31795     4.5  223941  Varies with device  10,000,000+  Free     0   \n",
              "31796     4.5  223941  Varies with device  10,000,000+  Free     0   \n",
              "\n",
              "      Content Rating        Genres    Last Updated         Current Ver  \\\n",
              "0           Everyone  Art & Design  August 3, 2018               1.2.3   \n",
              "40          Everyone  Art & Design  March 21, 2018                1.03   \n",
              "41          Everyone  Art & Design  March 21, 2018                1.03   \n",
              "42          Everyone  Art & Design  March 21, 2018                1.03   \n",
              "43          Everyone  Art & Design  March 21, 2018                1.03   \n",
              "...              ...           ...             ...                 ...   \n",
              "31781       Everyone   Photography  August 6, 2018  Varies with device   \n",
              "31787       Everyone   Photography  August 6, 2018  Varies with device   \n",
              "31794       Everyone   Photography  August 6, 2018  Varies with device   \n",
              "31795       Everyone   Photography  August 6, 2018  Varies with device   \n",
              "31796       Everyone   Photography  August 6, 2018  Varies with device   \n",
              "\n",
              "              Android Ver                                  Translated_Review  \\\n",
              "0              2.3 and up                                                NaN   \n",
              "40           4.0.3 and up  This awesome app. Love it. Wish stickers thoug...   \n",
              "41           4.0.3 and up                            Awesome absolutely love   \n",
              "42           4.0.3 and up                              Very good work nicely   \n",
              "43           4.0.3 and up                                            So nice   \n",
              "...                   ...                                                ...   \n",
              "31781  Varies with device           Overall great app. Best gallery seen far   \n",
              "31787  Varies with device  Recommended, 100% love it, keep good work dev ...   \n",
              "31794  Varies with device                                       Too much ads   \n",
              "31795  Varies with device                                Just allow time ...   \n",
              "31796  Varies with device                       It's good best gallery phone   \n",
              "\n",
              "      Sentiment  Sentiment_Polarity  Sentiment_Subjectivity  \n",
              "0           NaN                 NaN                     NaN  \n",
              "40     Positive            0.766667                0.783333  \n",
              "41     Positive            0.750000                0.800000  \n",
              "42     Positive            0.755000                0.890000  \n",
              "43     Positive            0.600000                1.000000  \n",
              "...         ...                 ...                     ...  \n",
              "31781  Positive            0.475000                0.512500  \n",
              "31787  Positive            0.566667                0.733333  \n",
              "31794  Positive            0.200000                0.200000  \n",
              "31795   Neutral            0.000000                0.000000  \n",
              "31796  Positive            0.850000                0.450000  \n",
              "\n",
              "[12319 rows x 17 columns]"
            ],
            "text/html": [
              "\n",
              "  <div id=\"df-91bcb883-7ee9-47c8-9faa-656a5661da9a\" class=\"colab-df-container\">\n",
              "    <div>\n",
              "<style scoped>\n",
              "    .dataframe tbody tr th:only-of-type {\n",
              "        vertical-align: middle;\n",
              "    }\n",
              "\n",
              "    .dataframe tbody tr th {\n",
              "        vertical-align: top;\n",
              "    }\n",
              "\n",
              "    .dataframe thead th {\n",
              "        text-align: right;\n",
              "    }\n",
              "</style>\n",
              "<table border=\"1\" class=\"dataframe\">\n",
              "  <thead>\n",
              "    <tr style=\"text-align: right;\">\n",
              "      <th></th>\n",
              "      <th>App</th>\n",
              "      <th>Category</th>\n",
              "      <th>Rating</th>\n",
              "      <th>Reviews</th>\n",
              "      <th>Size</th>\n",
              "      <th>Installs</th>\n",
              "      <th>Type</th>\n",
              "      <th>Price</th>\n",
              "      <th>Content Rating</th>\n",
              "      <th>Genres</th>\n",
              "      <th>Last Updated</th>\n",
              "      <th>Current Ver</th>\n",
              "      <th>Android Ver</th>\n",
              "      <th>Translated_Review</th>\n",
              "      <th>Sentiment</th>\n",
              "      <th>Sentiment_Polarity</th>\n",
              "      <th>Sentiment_Subjectivity</th>\n",
              "    </tr>\n",
              "  </thead>\n",
              "  <tbody>\n",
              "    <tr>\n",
              "      <th>0</th>\n",
              "      <td>3D Color Pixel by Number - Sandbox Art Coloring</td>\n",
              "      <td>ART_AND_DESIGN</td>\n",
              "      <td>4.4</td>\n",
              "      <td>1518</td>\n",
              "      <td>37M</td>\n",
              "      <td>100,000+</td>\n",
              "      <td>Free</td>\n",
              "      <td>0</td>\n",
              "      <td>Everyone</td>\n",
              "      <td>Art &amp; Design</td>\n",
              "      <td>August 3, 2018</td>\n",
              "      <td>1.2.3</td>\n",
              "      <td>2.3 and up</td>\n",
              "      <td>NaN</td>\n",
              "      <td>NaN</td>\n",
              "      <td>NaN</td>\n",
              "      <td>NaN</td>\n",
              "    </tr>\n",
              "    <tr>\n",
              "      <th>40</th>\n",
              "      <td>Animated Photo Editor</td>\n",
              "      <td>ART_AND_DESIGN</td>\n",
              "      <td>4.1</td>\n",
              "      <td>203</td>\n",
              "      <td>6.1M</td>\n",
              "      <td>100,000+</td>\n",
              "      <td>Free</td>\n",
              "      <td>0</td>\n",
              "      <td>Everyone</td>\n",
              "      <td>Art &amp; Design</td>\n",
              "      <td>March 21, 2018</td>\n",
              "      <td>1.03</td>\n",
              "      <td>4.0.3 and up</td>\n",
              "      <td>This awesome app. Love it. Wish stickers thoug...</td>\n",
              "      <td>Positive</td>\n",
              "      <td>0.766667</td>\n",
              "      <td>0.783333</td>\n",
              "    </tr>\n",
              "    <tr>\n",
              "      <th>41</th>\n",
              "      <td>Animated Photo Editor</td>\n",
              "      <td>ART_AND_DESIGN</td>\n",
              "      <td>4.1</td>\n",
              "      <td>203</td>\n",
              "      <td>6.1M</td>\n",
              "      <td>100,000+</td>\n",
              "      <td>Free</td>\n",
              "      <td>0</td>\n",
              "      <td>Everyone</td>\n",
              "      <td>Art &amp; Design</td>\n",
              "      <td>March 21, 2018</td>\n",
              "      <td>1.03</td>\n",
              "      <td>4.0.3 and up</td>\n",
              "      <td>Awesome absolutely love</td>\n",
              "      <td>Positive</td>\n",
              "      <td>0.750000</td>\n",
              "      <td>0.800000</td>\n",
              "    </tr>\n",
              "    <tr>\n",
              "      <th>42</th>\n",
              "      <td>Animated Photo Editor</td>\n",
              "      <td>ART_AND_DESIGN</td>\n",
              "      <td>4.1</td>\n",
              "      <td>203</td>\n",
              "      <td>6.1M</td>\n",
              "      <td>100,000+</td>\n",
              "      <td>Free</td>\n",
              "      <td>0</td>\n",
              "      <td>Everyone</td>\n",
              "      <td>Art &amp; Design</td>\n",
              "      <td>March 21, 2018</td>\n",
              "      <td>1.03</td>\n",
              "      <td>4.0.3 and up</td>\n",
              "      <td>Very good work nicely</td>\n",
              "      <td>Positive</td>\n",
              "      <td>0.755000</td>\n",
              "      <td>0.890000</td>\n",
              "    </tr>\n",
              "    <tr>\n",
              "      <th>43</th>\n",
              "      <td>Animated Photo Editor</td>\n",
              "      <td>ART_AND_DESIGN</td>\n",
              "      <td>4.1</td>\n",
              "      <td>203</td>\n",
              "      <td>6.1M</td>\n",
              "      <td>100,000+</td>\n",
              "      <td>Free</td>\n",
              "      <td>0</td>\n",
              "      <td>Everyone</td>\n",
              "      <td>Art &amp; Design</td>\n",
              "      <td>March 21, 2018</td>\n",
              "      <td>1.03</td>\n",
              "      <td>4.0.3 and up</td>\n",
              "      <td>So nice</td>\n",
              "      <td>Positive</td>\n",
              "      <td>0.600000</td>\n",
              "      <td>1.000000</td>\n",
              "    </tr>\n",
              "    <tr>\n",
              "      <th>...</th>\n",
              "      <td>...</td>\n",
              "      <td>...</td>\n",
              "      <td>...</td>\n",
              "      <td>...</td>\n",
              "      <td>...</td>\n",
              "      <td>...</td>\n",
              "      <td>...</td>\n",
              "      <td>...</td>\n",
              "      <td>...</td>\n",
              "      <td>...</td>\n",
              "      <td>...</td>\n",
              "      <td>...</td>\n",
              "      <td>...</td>\n",
              "      <td>...</td>\n",
              "      <td>...</td>\n",
              "      <td>...</td>\n",
              "      <td>...</td>\n",
              "    </tr>\n",
              "    <tr>\n",
              "      <th>31781</th>\n",
              "      <td>A+ Gallery - Photos &amp; Videos</td>\n",
              "      <td>PHOTOGRAPHY</td>\n",
              "      <td>4.5</td>\n",
              "      <td>223941</td>\n",
              "      <td>Varies with device</td>\n",
              "      <td>10,000,000+</td>\n",
              "      <td>Free</td>\n",
              "      <td>0</td>\n",
              "      <td>Everyone</td>\n",
              "      <td>Photography</td>\n",
              "      <td>August 6, 2018</td>\n",
              "      <td>Varies with device</td>\n",
              "      <td>Varies with device</td>\n",
              "      <td>Overall great app. Best gallery seen far</td>\n",
              "      <td>Positive</td>\n",
              "      <td>0.475000</td>\n",
              "      <td>0.512500</td>\n",
              "    </tr>\n",
              "    <tr>\n",
              "      <th>31787</th>\n",
              "      <td>A+ Gallery - Photos &amp; Videos</td>\n",
              "      <td>PHOTOGRAPHY</td>\n",
              "      <td>4.5</td>\n",
              "      <td>223941</td>\n",
              "      <td>Varies with device</td>\n",
              "      <td>10,000,000+</td>\n",
              "      <td>Free</td>\n",
              "      <td>0</td>\n",
              "      <td>Everyone</td>\n",
              "      <td>Photography</td>\n",
              "      <td>August 6, 2018</td>\n",
              "      <td>Varies with device</td>\n",
              "      <td>Varies with device</td>\n",
              "      <td>Recommended, 100% love it, keep good work dev ...</td>\n",
              "      <td>Positive</td>\n",
              "      <td>0.566667</td>\n",
              "      <td>0.733333</td>\n",
              "    </tr>\n",
              "    <tr>\n",
              "      <th>31794</th>\n",
              "      <td>A+ Gallery - Photos &amp; Videos</td>\n",
              "      <td>PHOTOGRAPHY</td>\n",
              "      <td>4.5</td>\n",
              "      <td>223941</td>\n",
              "      <td>Varies with device</td>\n",
              "      <td>10,000,000+</td>\n",
              "      <td>Free</td>\n",
              "      <td>0</td>\n",
              "      <td>Everyone</td>\n",
              "      <td>Photography</td>\n",
              "      <td>August 6, 2018</td>\n",
              "      <td>Varies with device</td>\n",
              "      <td>Varies with device</td>\n",
              "      <td>Too much ads</td>\n",
              "      <td>Positive</td>\n",
              "      <td>0.200000</td>\n",
              "      <td>0.200000</td>\n",
              "    </tr>\n",
              "    <tr>\n",
              "      <th>31795</th>\n",
              "      <td>A+ Gallery - Photos &amp; Videos</td>\n",
              "      <td>PHOTOGRAPHY</td>\n",
              "      <td>4.5</td>\n",
              "      <td>223941</td>\n",
              "      <td>Varies with device</td>\n",
              "      <td>10,000,000+</td>\n",
              "      <td>Free</td>\n",
              "      <td>0</td>\n",
              "      <td>Everyone</td>\n",
              "      <td>Photography</td>\n",
              "      <td>August 6, 2018</td>\n",
              "      <td>Varies with device</td>\n",
              "      <td>Varies with device</td>\n",
              "      <td>Just allow time ...</td>\n",
              "      <td>Neutral</td>\n",
              "      <td>0.000000</td>\n",
              "      <td>0.000000</td>\n",
              "    </tr>\n",
              "    <tr>\n",
              "      <th>31796</th>\n",
              "      <td>A+ Gallery - Photos &amp; Videos</td>\n",
              "      <td>PHOTOGRAPHY</td>\n",
              "      <td>4.5</td>\n",
              "      <td>223941</td>\n",
              "      <td>Varies with device</td>\n",
              "      <td>10,000,000+</td>\n",
              "      <td>Free</td>\n",
              "      <td>0</td>\n",
              "      <td>Everyone</td>\n",
              "      <td>Photography</td>\n",
              "      <td>August 6, 2018</td>\n",
              "      <td>Varies with device</td>\n",
              "      <td>Varies with device</td>\n",
              "      <td>It's good best gallery phone</td>\n",
              "      <td>Positive</td>\n",
              "      <td>0.850000</td>\n",
              "      <td>0.450000</td>\n",
              "    </tr>\n",
              "  </tbody>\n",
              "</table>\n",
              "<p>12319 rows × 17 columns</p>\n",
              "</div>\n",
              "    <div class=\"colab-df-buttons\">\n",
              "\n",
              "  <div class=\"colab-df-container\">\n",
              "    <button class=\"colab-df-convert\" onclick=\"convertToInteractive('df-91bcb883-7ee9-47c8-9faa-656a5661da9a')\"\n",
              "            title=\"Convert this dataframe to an interactive table.\"\n",
              "            style=\"display:none;\">\n",
              "\n",
              "  <svg xmlns=\"http://www.w3.org/2000/svg\" height=\"24px\" viewBox=\"0 -960 960 960\">\n",
              "    <path d=\"M120-120v-720h720v720H120Zm60-500h600v-160H180v160Zm220 220h160v-160H400v160Zm0 220h160v-160H400v160ZM180-400h160v-160H180v160Zm440 0h160v-160H620v160ZM180-180h160v-160H180v160Zm440 0h160v-160H620v160Z\"/>\n",
              "  </svg>\n",
              "    </button>\n",
              "\n",
              "  <style>\n",
              "    .colab-df-container {\n",
              "      display:flex;\n",
              "      gap: 12px;\n",
              "    }\n",
              "\n",
              "    .colab-df-convert {\n",
              "      background-color: #E8F0FE;\n",
              "      border: none;\n",
              "      border-radius: 50%;\n",
              "      cursor: pointer;\n",
              "      display: none;\n",
              "      fill: #1967D2;\n",
              "      height: 32px;\n",
              "      padding: 0 0 0 0;\n",
              "      width: 32px;\n",
              "    }\n",
              "\n",
              "    .colab-df-convert:hover {\n",
              "      background-color: #E2EBFA;\n",
              "      box-shadow: 0px 1px 2px rgba(60, 64, 67, 0.3), 0px 1px 3px 1px rgba(60, 64, 67, 0.15);\n",
              "      fill: #174EA6;\n",
              "    }\n",
              "\n",
              "    .colab-df-buttons div {\n",
              "      margin-bottom: 4px;\n",
              "    }\n",
              "\n",
              "    [theme=dark] .colab-df-convert {\n",
              "      background-color: #3B4455;\n",
              "      fill: #D2E3FC;\n",
              "    }\n",
              "\n",
              "    [theme=dark] .colab-df-convert:hover {\n",
              "      background-color: #434B5C;\n",
              "      box-shadow: 0px 1px 3px 1px rgba(0, 0, 0, 0.15);\n",
              "      filter: drop-shadow(0px 1px 2px rgba(0, 0, 0, 0.3));\n",
              "      fill: #FFFFFF;\n",
              "    }\n",
              "  </style>\n",
              "\n",
              "    <script>\n",
              "      const buttonEl =\n",
              "        document.querySelector('#df-91bcb883-7ee9-47c8-9faa-656a5661da9a button.colab-df-convert');\n",
              "      buttonEl.style.display =\n",
              "        google.colab.kernel.accessAllowed ? 'block' : 'none';\n",
              "\n",
              "      async function convertToInteractive(key) {\n",
              "        const element = document.querySelector('#df-91bcb883-7ee9-47c8-9faa-656a5661da9a');\n",
              "        const dataTable =\n",
              "          await google.colab.kernel.invokeFunction('convertToInteractive',\n",
              "                                                    [key], {});\n",
              "        if (!dataTable) return;\n",
              "\n",
              "        const docLinkHtml = 'Like what you see? Visit the ' +\n",
              "          '<a target=\"_blank\" href=https://colab.research.google.com/notebooks/data_table.ipynb>data table notebook</a>'\n",
              "          + ' to learn more about interactive tables.';\n",
              "        element.innerHTML = '';\n",
              "        dataTable['output_type'] = 'display_data';\n",
              "        await google.colab.output.renderOutput(dataTable, element);\n",
              "        const docLink = document.createElement('div');\n",
              "        docLink.innerHTML = docLinkHtml;\n",
              "        element.appendChild(docLink);\n",
              "      }\n",
              "    </script>\n",
              "  </div>\n",
              "\n",
              "\n",
              "<div id=\"df-35359e3e-36ac-4946-b01d-92033f5301fa\">\n",
              "  <button class=\"colab-df-quickchart\" onclick=\"quickchart('df-35359e3e-36ac-4946-b01d-92033f5301fa')\"\n",
              "            title=\"Suggest charts.\"\n",
              "            style=\"display:none;\">\n",
              "\n",
              "<svg xmlns=\"http://www.w3.org/2000/svg\" height=\"24px\"viewBox=\"0 0 24 24\"\n",
              "     width=\"24px\">\n",
              "    <g>\n",
              "        <path d=\"M19 3H5c-1.1 0-2 .9-2 2v14c0 1.1.9 2 2 2h14c1.1 0 2-.9 2-2V5c0-1.1-.9-2-2-2zM9 17H7v-7h2v7zm4 0h-2V7h2v10zm4 0h-2v-4h2v4z\"/>\n",
              "    </g>\n",
              "</svg>\n",
              "  </button>\n",
              "\n",
              "<style>\n",
              "  .colab-df-quickchart {\n",
              "      --bg-color: #E8F0FE;\n",
              "      --fill-color: #1967D2;\n",
              "      --hover-bg-color: #E2EBFA;\n",
              "      --hover-fill-color: #174EA6;\n",
              "      --disabled-fill-color: #AAA;\n",
              "      --disabled-bg-color: #DDD;\n",
              "  }\n",
              "\n",
              "  [theme=dark] .colab-df-quickchart {\n",
              "      --bg-color: #3B4455;\n",
              "      --fill-color: #D2E3FC;\n",
              "      --hover-bg-color: #434B5C;\n",
              "      --hover-fill-color: #FFFFFF;\n",
              "      --disabled-bg-color: #3B4455;\n",
              "      --disabled-fill-color: #666;\n",
              "  }\n",
              "\n",
              "  .colab-df-quickchart {\n",
              "    background-color: var(--bg-color);\n",
              "    border: none;\n",
              "    border-radius: 50%;\n",
              "    cursor: pointer;\n",
              "    display: none;\n",
              "    fill: var(--fill-color);\n",
              "    height: 32px;\n",
              "    padding: 0;\n",
              "    width: 32px;\n",
              "  }\n",
              "\n",
              "  .colab-df-quickchart:hover {\n",
              "    background-color: var(--hover-bg-color);\n",
              "    box-shadow: 0 1px 2px rgba(60, 64, 67, 0.3), 0 1px 3px 1px rgba(60, 64, 67, 0.15);\n",
              "    fill: var(--button-hover-fill-color);\n",
              "  }\n",
              "\n",
              "  .colab-df-quickchart-complete:disabled,\n",
              "  .colab-df-quickchart-complete:disabled:hover {\n",
              "    background-color: var(--disabled-bg-color);\n",
              "    fill: var(--disabled-fill-color);\n",
              "    box-shadow: none;\n",
              "  }\n",
              "\n",
              "  .colab-df-spinner {\n",
              "    border: 2px solid var(--fill-color);\n",
              "    border-color: transparent;\n",
              "    border-bottom-color: var(--fill-color);\n",
              "    animation:\n",
              "      spin 1s steps(1) infinite;\n",
              "  }\n",
              "\n",
              "  @keyframes spin {\n",
              "    0% {\n",
              "      border-color: transparent;\n",
              "      border-bottom-color: var(--fill-color);\n",
              "      border-left-color: var(--fill-color);\n",
              "    }\n",
              "    20% {\n",
              "      border-color: transparent;\n",
              "      border-left-color: var(--fill-color);\n",
              "      border-top-color: var(--fill-color);\n",
              "    }\n",
              "    30% {\n",
              "      border-color: transparent;\n",
              "      border-left-color: var(--fill-color);\n",
              "      border-top-color: var(--fill-color);\n",
              "      border-right-color: var(--fill-color);\n",
              "    }\n",
              "    40% {\n",
              "      border-color: transparent;\n",
              "      border-right-color: var(--fill-color);\n",
              "      border-top-color: var(--fill-color);\n",
              "    }\n",
              "    60% {\n",
              "      border-color: transparent;\n",
              "      border-right-color: var(--fill-color);\n",
              "    }\n",
              "    80% {\n",
              "      border-color: transparent;\n",
              "      border-right-color: var(--fill-color);\n",
              "      border-bottom-color: var(--fill-color);\n",
              "    }\n",
              "    90% {\n",
              "      border-color: transparent;\n",
              "      border-bottom-color: var(--fill-color);\n",
              "    }\n",
              "  }\n",
              "</style>\n",
              "\n",
              "  <script>\n",
              "    async function quickchart(key) {\n",
              "      const quickchartButtonEl =\n",
              "        document.querySelector('#' + key + ' button');\n",
              "      quickchartButtonEl.disabled = true;  // To prevent multiple clicks.\n",
              "      quickchartButtonEl.classList.add('colab-df-spinner');\n",
              "      try {\n",
              "        const charts = await google.colab.kernel.invokeFunction(\n",
              "            'suggestCharts', [key], {});\n",
              "      } catch (error) {\n",
              "        console.error('Error during call to suggestCharts:', error);\n",
              "      }\n",
              "      quickchartButtonEl.classList.remove('colab-df-spinner');\n",
              "      quickchartButtonEl.classList.add('colab-df-quickchart-complete');\n",
              "    }\n",
              "    (() => {\n",
              "      let quickchartButtonEl =\n",
              "        document.querySelector('#df-35359e3e-36ac-4946-b01d-92033f5301fa button');\n",
              "      quickchartButtonEl.style.display =\n",
              "        google.colab.kernel.accessAllowed ? 'block' : 'none';\n",
              "    })();\n",
              "  </script>\n",
              "</div>\n",
              "    </div>\n",
              "  </div>\n"
            ]
          },
          "metadata": {}
        }
      ]
    },
    {
      "cell_type": "markdown",
      "source": [
        "#### Missing Values/Null Values"
      ],
      "metadata": {
        "id": "PoPl-ycgm1ru"
      }
    },
    {
      "cell_type": "code",
      "source": [
        "# Missing Values/Null Values Count\n",
        "missing_values = merged_df.isnull().sum()\n",
        "print(missing_values)"
      ],
      "metadata": {
        "id": "GgHWkxvamxVg",
        "colab": {
          "base_uri": "https://localhost:8080/"
        },
        "outputId": "4ac2aba0-0037-4745-8d0d-d17d3c0b98c5"
      },
      "execution_count": 11,
      "outputs": [
        {
          "output_type": "stream",
          "name": "stdout",
          "text": [
            "App                         0\n",
            "Category                    0\n",
            "Rating                     39\n",
            "Reviews                     0\n",
            "Size                        0\n",
            "Installs                    0\n",
            "Type                        0\n",
            "Price                       0\n",
            "Content Rating              0\n",
            "Genres                      0\n",
            "Last Updated                0\n",
            "Current Ver                 0\n",
            "Android Ver                 0\n",
            "Translated_Review         320\n",
            "Sentiment                 323\n",
            "Sentiment_Polarity        323\n",
            "Sentiment_Subjectivity    323\n",
            "dtype: int64\n"
          ]
        }
      ]
    },
    {
      "cell_type": "code",
      "source": [
        "# Visualizing the missing values using the bar plot\n",
        "plt.figure(figsize = (16, 4))\n",
        "sns.barplot( x = missing_values.index, y = missing_values.values)\n",
        "plt.xticks(rotation = 90)\n",
        "plt.xlabel(\"Columns\")\n",
        "plt.ylabel(\"Missing Values Count\")\n",
        "plt.title(\"Missing Values in Each Column\")\n",
        "plt.show()"
      ],
      "metadata": {
        "id": "3q5wnI3om9sJ",
        "colab": {
          "base_uri": "https://localhost:8080/",
          "height": 527
        },
        "outputId": "872242d2-e167-4c59-ca16-233cbe967795"
      },
      "execution_count": 12,
      "outputs": [
        {
          "output_type": "display_data",
          "data": {
            "text/plain": [
              "<Figure size 1600x400 with 1 Axes>"
            ],
            "image/png": "[encoded data removed]"
          },
          "metadata": {}
        }
      ]
    },
    {
      "cell_type": "markdown",
      "source": [
        "### What did you know about your dataset?"
      ],
      "metadata": {
        "id": "H0kj-8xxnORC"
      }
    },
    {
      "cell_type": "markdown",
      "source": [
        "**Let us first define what information the columns contain based on our inspection.**\n",
        "\n",
        "merged_df dataframe has 41661 rows × 17 columns. The 17 columns are identified as below:\n",
        "\n",
        "1. App - This column tells us about the name of the application with a short description (optional).\n",
        "2. Category - This column tells the category of the app.\n",
        "3. Rating - This column contains the average rating of the respective app received from its users.\n",
        "4. Reviews - This column tells us about the total number of users who have given a review for the application.\n",
        "5. Size - This column tells us about the size being occupied the application on the mobile phone.\n",
        "6. Installs - This column tells us about the total number of installs/downloads of the application.\n",
        "7. Type - This column states whether the app is free or paid.\n",
        "8. Price - This column gives the price payable to install the app. For free type apps, the price is zero.\n",
        "9. Content Rating - This column states whether or not an app is suitable for all age groups or not.\n",
        "10. Genres - This column tells us about the genre of the application.\n",
        "11. Last Updated - This column tells us that when the application was last updated.\n",
        "12. Current Ver - This column tells us about the current version of the application.\n",
        "13. Android Ver - This column tells us about the android version which can support the application on its platform.\n",
        "14. Translated_Review - This column tells about the review given by the user.\n",
        "15. Sentiment - This columm shows wether the review given by the user is positive or negative or neutral.\n",
        "16. Sentiment_Polarity - This column shows the sentiment popularity.\n",
        "17. Sentiment_Subjectivity -This column gives the sentiment subjectivity."
      ],
      "metadata": {
        "id": "gfoNAAC-nUe_"
      }
    },
    {
      "cell_type": "markdown",
      "source": [
        "## ***2. Understanding Your Variables***"
      ],
      "metadata": {
        "id": "nA9Y7ga8ng1Z"
      }
    },
    {
      "cell_type": "code",
      "source": [
        "# Dataset Columns\n",
        "merged_df.columns"
      ],
      "metadata": {
        "id": "j7xfkqrt5Ag5",
        "colab": {
          "base_uri": "https://localhost:8080/"
        },
        "outputId": "a9d502d9-8e1c-45de-9fa2-85c5b2871a2b"
      },
      "execution_count": 13,
      "outputs": [
        {
          "output_type": "execute_result",
          "data": {
            "text/plain": [
              "Index(['App', 'Category', 'Rating', 'Reviews', 'Size', 'Installs', 'Type',\n",
              "       'Price', 'Content Rating', 'Genres', 'Last Updated', 'Current Ver',\n",
              "       'Android Ver', 'Translated_Review', 'Sentiment', 'Sentiment_Polarity',\n",
              "       'Sentiment_Subjectivity'],\n",
              "      dtype='object')"
            ]
          },
          "metadata": {},
          "execution_count": 13
        }
      ]
    },
    {
      "cell_type": "code",
      "source": [
        "# Dataset Describe\n",
        "merged_df.describe()"
      ],
      "metadata": {
        "id": "DnOaZdaE5Q5t"
      },
      "execution_count": null,
      "outputs": []
    },
    {
      "cell_type": "markdown",
      "source": [
        "### Variables Description"
      ],
      "metadata": {
        "id": "PBTbrJXOngz2"
      }
    },
    {
      "cell_type": "markdown",
      "source": [
        "Answer Here"
      ],
      "metadata": {
        "id": "aJV4KIxSnxay"
      }
    },
    {
      "cell_type": "markdown",
      "source": [
        "### Check Unique Values for each variable."
      ],
      "metadata": {
        "id": "u3PMJOP6ngxN"
      }
    },
    {
      "cell_type": "code",
      "source": [
        "# Check Unique Values for each variable.\n",
        "unique_values_per_column = {}\n",
        "for column in merged_df.columns:\n",
        "    unique_values_per_column[column] = merged_df[column].unique()\n",
        "\n",
        "# Display unique values for each variable\n",
        "for column, values in unique_values_per_column.items():\n",
        "    print(f\"Unique values for '{column}': {len(values)}\")\n",
        "    print(values)\n",
        "    print()"
      ],
      "metadata": {
        "id": "zms12Yq5n-jE"
      },
      "execution_count": null,
      "outputs": []
    },
    {
      "cell_type": "markdown",
      "source": [
        "## 3. ***Data Wrangling***"
      ],
      "metadata": {
        "id": "dauF4eBmngu3"
      }
    },
    {
      "cell_type": "markdown",
      "source": [
        "### Data Wrangling Code"
      ],
      "metadata": {
        "id": "bKJF3rekwFvQ"
      }
    },
    {
      "cell_type": "code",
      "source": [
        "# Write your code to make your dataset analysis ready.\n",
        "\n",
        "# Calculating the average ratings for each app category\n",
        "category_avg_ratings = merged_df.groupby('Category')['Rating'].transform('mean')\n",
        "\n",
        "# Filling missing \"Rating\" values with the average rating of their respective categories\n",
        "new = merged_df['Rating'].fillna(category_avg_ratings, inplace=True)\n",
        "\n",
        "# Data Type Conversion (Example for date columns)\n",
        "merged_df['Last Updated'] = pd.to_datetime(merged_df['Last Updated'])\n",
        "\n"
      ],
      "metadata": {
        "id": "wk-9a2fpoLcV"
      },
      "execution_count": null,
      "outputs": []
    },
    {
      "cell_type": "markdown",
      "source": [
        "### What all manipulations have you done and insights you found?"
      ],
      "metadata": {
        "id": "MSa1f5Uengrz"
      }
    },
    {
      "cell_type": "markdown",
      "source": [
        "Answer Here."
      ],
      "metadata": {
        "id": "LbyXE7I1olp8"
      }
    },
    {
      "cell_type": "markdown",
      "source": [
        "## ***4. Data Vizualization, Storytelling & Experimenting with charts : Understand the relationships between variables***"
      ],
      "metadata": {
        "id": "GF8Ens_Soomf"
      }
    },
    {
      "cell_type": "markdown",
      "source": [
        "#### Chart - 1"
      ],
      "metadata": {
        "id": "0wOQAZs5pc--"
      }
    },
    {
      "cell_type": "code",
      "source": [
        "# Chart - 1 visualization code"
      ],
      "metadata": {
        "id": "7v_ESjsspbW7"
      },
      "execution_count": null,
      "outputs": []
    },
    {
      "cell_type": "markdown",
      "source": [
        "##### 1. Why did you pick the specific chart?"
      ],
      "metadata": {
        "id": "K5QZ13OEpz2H"
      }
    },
    {
      "cell_type": "markdown",
      "source": [
        "Answer Here."
      ],
      "metadata": {
        "id": "XESiWehPqBRc"
      }
    },
    {
      "cell_type": "markdown",
      "source": [
        "##### 2. What is/are the insight(s) found from the chart?"
      ],
      "metadata": {
        "id": "lQ7QKXXCp7Bj"
      }
    },
    {
      "cell_type": "markdown",
      "source": [
        "Answer Here"
      ],
      "metadata": {
        "id": "C_j1G7yiqdRP"
      }
    },
    {
      "cell_type": "markdown",
      "source": [
        "##### 3. Will the gained insights help creating a positive business impact?\n",
        "Are there any insights that lead to negative growth? Justify with specific reason."
      ],
      "metadata": {
        "id": "448CDAPjqfQr"
      }
    },
    {
      "cell_type": "markdown",
      "source": [
        "Answer Here"
      ],
      "metadata": {
        "id": "3cspy4FjqxJW"
      }
    },
    {
      "cell_type": "markdown",
      "source": [
        "#### Chart - 2"
      ],
      "metadata": {
        "id": "KSlN3yHqYklG"
      }
    },
    {
      "cell_type": "code",
      "source": [
        "# Chart - 2 visualization code"
      ],
      "metadata": {
        "id": "R4YgtaqtYklH"
      },
      "execution_count": null,
      "outputs": []
    },
    {
      "cell_type": "markdown",
      "source": [
        "##### 1. Why did you pick the specific chart?"
      ],
      "metadata": {
        "id": "t6dVpIINYklI"
      }
    },
    {
      "cell_type": "markdown",
      "source": [
        "Answer Here."
      ],
      "metadata": {
        "id": "5aaW0BYyYklI"
      }
    },
    {
      "cell_type": "markdown",
      "source": [
        "##### 2. What is/are the insight(s) found from the chart?"
      ],
      "metadata": {
        "id": "ijmpgYnKYklI"
      }
    },
    {
      "cell_type": "markdown",
      "source": [
        "Answer Here"
      ],
      "metadata": {
        "id": "PSx9atu2YklI"
      }
    },
    {
      "cell_type": "markdown",
      "source": [
        "##### 3. Will the gained insights help creating a positive business impact?\n",
        "Are there any insights that lead to negative growth? Justify with specific reason."
      ],
      "metadata": {
        "id": "-JiQyfWJYklI"
      }
    },
    {
      "cell_type": "markdown",
      "source": [
        "Answer Here"
      ],
      "metadata": {
        "id": "BcBbebzrYklV"
      }
    },
    {
      "cell_type": "markdown",
      "source": [
        "#### Chart - 3"
      ],
      "metadata": {
        "id": "EM7whBJCYoAo"
      }
    },
    {
      "cell_type": "code",
      "source": [
        "# Chart - 3 visualization code"
      ],
      "metadata": {
        "id": "t6GMdE67YoAp"
      },
      "execution_count": null,
      "outputs": []
    },
    {
      "cell_type": "markdown",
      "source": [
        "##### 1. Why did you pick the specific chart?"
      ],
      "metadata": {
        "id": "fge-S5ZAYoAp"
      }
    },
    {
      "cell_type": "markdown",
      "source": [
        "Answer Here."
      ],
      "metadata": {
        "id": "5dBItgRVYoAp"
      }
    },
    {
      "cell_type": "markdown",
      "source": [
        "##### 2. What is/are the insight(s) found from the chart?"
      ],
      "metadata": {
        "id": "85gYPyotYoAp"
      }
    },
    {
      "cell_type": "markdown",
      "source": [
        "Answer Here"
      ],
      "metadata": {
        "id": "4jstXR6OYoAp"
      }
    },
    {
      "cell_type": "markdown",
      "source": [
        "##### 3. Will the gained insights help creating a positive business impact?\n",
        "Are there any insights that lead to negative growth? Justify with specific reason."
      ],
      "metadata": {
        "id": "RoGjAbkUYoAp"
      }
    },
    {
      "cell_type": "markdown",
      "source": [
        "Answer Here"
      ],
      "metadata": {
        "id": "zfJ8IqMcYoAp"
      }
    },
    {
      "cell_type": "markdown",
      "source": [
        "#### Chart - 4"
      ],
      "metadata": {
        "id": "4Of9eVA-YrdM"
      }
    },
    {
      "cell_type": "code",
      "source": [
        "# Chart - 4 visualization code"
      ],
      "metadata": {
        "id": "irlUoxc8YrdO"
      },
      "execution_count": null,
      "outputs": []
    },
    {
      "cell_type": "markdown",
      "source": [
        "##### 1. Why did you pick the specific chart?"
      ],
      "metadata": {
        "id": "iky9q4vBYrdO"
      }
    },
    {
      "cell_type": "markdown",
      "source": [
        "Answer Here."
      ],
      "metadata": {
        "id": "aJRCwT6DYrdO"
      }
    },
    {
      "cell_type": "markdown",
      "source": [
        "##### 2. What is/are the insight(s) found from the chart?"
      ],
      "metadata": {
        "id": "F6T5p64dYrdO"
      }
    },
    {
      "cell_type": "markdown",
      "source": [
        "Answer Here"
      ],
      "metadata": {
        "id": "Xx8WAJvtYrdO"
      }
    },
    {
      "cell_type": "markdown",
      "source": [
        "##### 3. Will the gained insights help creating a positive business impact?\n",
        "Are there any insights that lead to negative growth? Justify with specific reason."
      ],
      "metadata": {
        "id": "y-Ehk30pYrdP"
      }
    },
    {
      "cell_type": "markdown",
      "source": [
        "Answer Here"
      ],
      "metadata": {
        "id": "jLNxxz7MYrdP"
      }
    },
    {
      "cell_type": "markdown",
      "source": [
        "#### Chart - 5"
      ],
      "metadata": {
        "id": "bamQiAODYuh1"
      }
    },
    {
      "cell_type": "code",
      "source": [
        "# Chart - 5 visualization code"
      ],
      "metadata": {
        "id": "TIJwrbroYuh3"
      },
      "execution_count": null,
      "outputs": []
    },
    {
      "cell_type": "markdown",
      "source": [
        "##### 1. Why did you pick the specific chart?"
      ],
      "metadata": {
        "id": "QHF8YVU7Yuh3"
      }
    },
    {
      "cell_type": "markdown",
      "source": [
        "Answer Here."
      ],
      "metadata": {
        "id": "dcxuIMRPYuh3"
      }
    },
    {
      "cell_type": "markdown",
      "source": [
        "##### 2. What is/are the insight(s) found from the chart?"
      ],
      "metadata": {
        "id": "GwzvFGzlYuh3"
      }
    },
    {
      "cell_type": "markdown",
      "source": [
        "Answer Here"
      ],
      "metadata": {
        "id": "uyqkiB8YYuh3"
      }
    },
    {
      "cell_type": "markdown",
      "source": [
        "##### 3. Will the gained insights help creating a positive business impact?\n",
        "Are there any insights that lead to negative growth? Justify with specific reason."
      ],
      "metadata": {
        "id": "qYpmQ266Yuh3"
      }
    },
    {
      "cell_type": "markdown",
      "source": [
        "Answer Here"
      ],
      "metadata": {
        "id": "_WtzZ_hCYuh4"
      }
    },
    {
      "cell_type": "markdown",
      "source": [
        "#### Chart - 6"
      ],
      "metadata": {
        "id": "OH-pJp9IphqM"
      }
    },
    {
      "cell_type": "code",
      "source": [
        "# Chart - 6 visualization code"
      ],
      "metadata": {
        "id": "kuRf4wtuphqN"
      },
      "execution_count": null,
      "outputs": []
    },
    {
      "cell_type": "markdown",
      "source": [
        "##### 1. Why did you pick the specific chart?"
      ],
      "metadata": {
        "id": "bbFf2-_FphqN"
      }
    },
    {
      "cell_type": "markdown",
      "source": [
        "Answer Here."
      ],
      "metadata": {
        "id": "loh7H2nzphqN"
      }
    },
    {
      "cell_type": "markdown",
      "source": [
        "##### 2. What is/are the insight(s) found from the chart?"
      ],
      "metadata": {
        "id": "_ouA3fa0phqN"
      }
    },
    {
      "cell_type": "markdown",
      "source": [
        "Answer Here"
      ],
      "metadata": {
        "id": "VECbqPI7phqN"
      }
    },
    {
      "cell_type": "markdown",
      "source": [
        "##### 3. Will the gained insights help creating a positive business impact?\n",
        "Are there any insights that lead to negative growth? Justify with specific reason."
      ],
      "metadata": {
        "id": "Seke61FWphqN"
      }
    },
    {
      "cell_type": "markdown",
      "source": [
        "Answer Here"
      ],
      "metadata": {
        "id": "DW4_bGpfphqN"
      }
    },
    {
      "cell_type": "markdown",
      "source": [
        "#### Chart - 7"
      ],
      "metadata": {
        "id": "PIIx-8_IphqN"
      }
    },
    {
      "cell_type": "code",
      "source": [
        "# Chart - 7 visualization code"
      ],
      "metadata": {
        "id": "lqAIGUfyphqO"
      },
      "execution_count": null,
      "outputs": []
    },
    {
      "cell_type": "markdown",
      "source": [
        "##### 1. Why did you pick the specific chart?"
      ],
      "metadata": {
        "id": "t27r6nlMphqO"
      }
    },
    {
      "cell_type": "markdown",
      "source": [
        "Answer Here."
      ],
      "metadata": {
        "id": "iv6ro40sphqO"
      }
    },
    {
      "cell_type": "markdown",
      "source": [
        "##### 2. What is/are the insight(s) found from the chart?"
      ],
      "metadata": {
        "id": "r2jJGEOYphqO"
      }
    },
    {
      "cell_type": "markdown",
      "source": [
        "Answer Here"
      ],
      "metadata": {
        "id": "Po6ZPi4hphqO"
      }
    },
    {
      "cell_type": "markdown",
      "source": [
        "##### 3. Will the gained insights help creating a positive business impact?\n",
        "Are there any insights that lead to negative growth? Justify with specific reason."
      ],
      "metadata": {
        "id": "b0JNsNcRphqO"
      }
    },
    {
      "cell_type": "markdown",
      "source": [
        "Answer Here"
      ],
      "metadata": {
        "id": "xvSq8iUTphqO"
      }
    },
    {
      "cell_type": "markdown",
      "source": [
        "#### Chart - 8"
      ],
      "metadata": {
        "id": "BZR9WyysphqO"
      }
    },
    {
      "cell_type": "code",
      "source": [
        "# Chart - 8 visualization code"
      ],
      "metadata": {
        "id": "TdPTWpAVphqO"
      },
      "execution_count": null,
      "outputs": []
    },
    {
      "cell_type": "markdown",
      "source": [
        "##### 1. Why did you pick the specific chart?"
      ],
      "metadata": {
        "id": "jj7wYXLtphqO"
      }
    },
    {
      "cell_type": "markdown",
      "source": [
        "Answer Here."
      ],
      "metadata": {
        "id": "Ob8u6rCTphqO"
      }
    },
    {
      "cell_type": "markdown",
      "source": [
        "##### 2. What is/are the insight(s) found from the chart?"
      ],
      "metadata": {
        "id": "eZrbJ2SmphqO"
      }
    },
    {
      "cell_type": "markdown",
      "source": [
        "Answer Here"
      ],
      "metadata": {
        "id": "mZtgC_hjphqO"
      }
    },
    {
      "cell_type": "markdown",
      "source": [
        "##### 3. Will the gained insights help creating a positive business impact?\n",
        "Are there any insights that lead to negative growth? Justify with specific reason."
      ],
      "metadata": {
        "id": "rFu4xreNphqO"
      }
    },
    {
      "cell_type": "markdown",
      "source": [
        "Answer Here"
      ],
      "metadata": {
        "id": "ey_0qi68phqO"
      }
    },
    {
      "cell_type": "markdown",
      "source": [
        "#### Chart - 9"
      ],
      "metadata": {
        "id": "YJ55k-q6phqO"
      }
    },
    {
      "cell_type": "code",
      "source": [
        "# Chart - 9 visualization code"
      ],
      "metadata": {
        "id": "B2aS4O1ophqO"
      },
      "execution_count": null,
      "outputs": []
    },
    {
      "cell_type": "markdown",
      "source": [
        "##### 1. Why did you pick the specific chart?"
      ],
      "metadata": {
        "id": "gCFgpxoyphqP"
      }
    },
    {
      "cell_type": "markdown",
      "source": [
        "Answer Here."
      ],
      "metadata": {
        "id": "TVxDimi2phqP"
      }
    },
    {
      "cell_type": "markdown",
      "source": [
        "##### 2. What is/are the insight(s) found from the chart?"
      ],
      "metadata": {
        "id": "OVtJsKN_phqQ"
      }
    },
    {
      "cell_type": "markdown",
      "source": [
        "Answer Here"
      ],
      "metadata": {
        "id": "ngGi97qjphqQ"
      }
    },
    {
      "cell_type": "markdown",
      "source": [
        "##### 3. Will the gained insights help creating a positive business impact?\n",
        "Are there any insights that lead to negative growth? Justify with specific reason."
      ],
      "metadata": {
        "id": "lssrdh5qphqQ"
      }
    },
    {
      "cell_type": "markdown",
      "source": [
        "Answer Here"
      ],
      "metadata": {
        "id": "tBpY5ekJphqQ"
      }
    },
    {
      "cell_type": "markdown",
      "source": [
        "#### Chart - 10"
      ],
      "metadata": {
        "id": "U2RJ9gkRphqQ"
      }
    },
    {
      "cell_type": "code",
      "source": [
        "# Chart - 10 visualization code"
      ],
      "metadata": {
        "id": "GM7a4YP4phqQ"
      },
      "execution_count": null,
      "outputs": []
    },
    {
      "cell_type": "markdown",
      "source": [
        "##### 1. Why did you pick the specific chart?"
      ],
      "metadata": {
        "id": "1M8mcRywphqQ"
      }
    },
    {
      "cell_type": "markdown",
      "source": [
        "Answer Here."
      ],
      "metadata": {
        "id": "8agQvks0phqQ"
      }
    },
    {
      "cell_type": "markdown",
      "source": [
        "##### 2. What is/are the insight(s) found from the chart?"
      ],
      "metadata": {
        "id": "tgIPom80phqQ"
      }
    },
    {
      "cell_type": "markdown",
      "source": [
        "Answer Here"
      ],
      "metadata": {
        "id": "Qp13pnNzphqQ"
      }
    },
    {
      "cell_type": "markdown",
      "source": [
        "##### 3. Will the gained insights help creating a positive business impact?\n",
        "Are there any insights that lead to negative growth? Justify with specific reason."
      ],
      "metadata": {
        "id": "JMzcOPDDphqR"
      }
    },
    {
      "cell_type": "markdown",
      "source": [
        "Answer Here"
      ],
      "metadata": {
        "id": "R4Ka1PC2phqR"
      }
    },
    {
      "cell_type": "markdown",
      "source": [
        "#### Chart - 11"
      ],
      "metadata": {
        "id": "x-EpHcCOp1ci"
      }
    },
    {
      "cell_type": "code",
      "source": [
        "# Chart - 11 visualization code"
      ],
      "metadata": {
        "id": "mAQTIvtqp1cj"
      },
      "execution_count": null,
      "outputs": []
    },
    {
      "cell_type": "markdown",
      "source": [
        "##### 1. Why did you pick the specific chart?"
      ],
      "metadata": {
        "id": "X_VqEhTip1ck"
      }
    },
    {
      "cell_type": "markdown",
      "source": [
        "Answer Here."
      ],
      "metadata": {
        "id": "-vsMzt_np1ck"
      }
    },
    {
      "cell_type": "markdown",
      "source": [
        "##### 2. What is/are the insight(s) found from the chart?"
      ],
      "metadata": {
        "id": "8zGJKyg5p1ck"
      }
    },
    {
      "cell_type": "markdown",
      "source": [
        "Answer Here"
      ],
      "metadata": {
        "id": "ZYdMsrqVp1ck"
      }
    },
    {
      "cell_type": "markdown",
      "source": [
        "##### 3. Will the gained insights help creating a positive business impact?\n",
        "Are there any insights that lead to negative growth? Justify with specific reason."
      ],
      "metadata": {
        "id": "PVzmfK_Ep1ck"
      }
    },
    {
      "cell_type": "markdown",
      "source": [
        "Answer Here"
      ],
      "metadata": {
        "id": "druuKYZpp1ck"
      }
    },
    {
      "cell_type": "markdown",
      "source": [
        "#### Chart - 12"
      ],
      "metadata": {
        "id": "n3dbpmDWp1ck"
      }
    },
    {
      "cell_type": "code",
      "source": [
        "# Chart - 12 visualization code"
      ],
      "metadata": {
        "id": "bwevp1tKp1ck"
      },
      "execution_count": null,
      "outputs": []
    },
    {
      "cell_type": "markdown",
      "source": [
        "##### 1. Why did you pick the specific chart?"
      ],
      "metadata": {
        "id": "ylSl6qgtp1ck"
      }
    },
    {
      "cell_type": "markdown",
      "source": [
        "Answer Here."
      ],
      "metadata": {
        "id": "m2xqNkiQp1ck"
      }
    },
    {
      "cell_type": "markdown",
      "source": [
        "##### 2. What is/are the insight(s) found from the chart?"
      ],
      "metadata": {
        "id": "ZWILFDl5p1ck"
      }
    },
    {
      "cell_type": "markdown",
      "source": [
        "Answer Here"
      ],
      "metadata": {
        "id": "x-lUsV2mp1ck"
      }
    },
    {
      "cell_type": "markdown",
      "source": [
        "##### 3. Will the gained insights help creating a positive business impact?\n",
        "Are there any insights that lead to negative growth? Justify with specific reason."
      ],
      "metadata": {
        "id": "M7G43BXep1ck"
      }
    },
    {
      "cell_type": "markdown",
      "source": [
        "Answer Here"
      ],
      "metadata": {
        "id": "5wwDJXsLp1cl"
      }
    },
    {
      "cell_type": "markdown",
      "source": [
        "#### Chart - 13"
      ],
      "metadata": {
        "id": "Ag9LCva-p1cl"
      }
    },
    {
      "cell_type": "code",
      "source": [
        "# Chart - 13 visualization code"
      ],
      "metadata": {
        "id": "EUfxeq9-p1cl"
      },
      "execution_count": null,
      "outputs": []
    },
    {
      "cell_type": "markdown",
      "source": [
        "##### 1. Why did you pick the specific chart?"
      ],
      "metadata": {
        "id": "E6MkPsBcp1cl"
      }
    },
    {
      "cell_type": "markdown",
      "source": [
        "Answer Here."
      ],
      "metadata": {
        "id": "V22bRsFWp1cl"
      }
    },
    {
      "cell_type": "markdown",
      "source": [
        "##### 2. What is/are the insight(s) found from the chart?"
      ],
      "metadata": {
        "id": "2cELzS2fp1cl"
      }
    },
    {
      "cell_type": "markdown",
      "source": [
        "Answer Here"
      ],
      "metadata": {
        "id": "ozQPc2_Ip1cl"
      }
    },
    {
      "cell_type": "markdown",
      "source": [
        "##### 3. Will the gained insights help creating a positive business impact?\n",
        "Are there any insights that lead to negative growth? Justify with specific reason."
      ],
      "metadata": {
        "id": "3MPXvC8up1cl"
      }
    },
    {
      "cell_type": "markdown",
      "source": [
        "Answer Here"
      ],
      "metadata": {
        "id": "GL8l1tdLp1cl"
      }
    },
    {
      "cell_type": "markdown",
      "source": [
        "#### Chart - 14 - Correlation Heatmap"
      ],
      "metadata": {
        "id": "NC_X3p0fY2L0"
      }
    },
    {
      "cell_type": "code",
      "source": [
        "# Correlation Heatmap visualization code"
      ],
      "metadata": {
        "id": "xyC9zolEZNRQ"
      },
      "execution_count": null,
      "outputs": []
    },
    {
      "cell_type": "markdown",
      "source": [
        "##### 1. Why did you pick the specific chart?"
      ],
      "metadata": {
        "id": "UV0SzAkaZNRQ"
      }
    },
    {
      "cell_type": "markdown",
      "source": [
        "Answer Here."
      ],
      "metadata": {
        "id": "DVPuT8LYZNRQ"
      }
    },
    {
      "cell_type": "markdown",
      "source": [
        "##### 2. What is/are the insight(s) found from the chart?"
      ],
      "metadata": {
        "id": "YPEH6qLeZNRQ"
      }
    },
    {
      "cell_type": "markdown",
      "source": [
        "Answer Here"
      ],
      "metadata": {
        "id": "bfSqtnDqZNRR"
      }
    },
    {
      "cell_type": "markdown",
      "source": [
        "#### Chart - 15 - Pair Plot"
      ],
      "metadata": {
        "id": "q29F0dvdveiT"
      }
    },
    {
      "cell_type": "code",
      "source": [
        "# Pair Plot visualization code"
      ],
      "metadata": {
        "id": "o58-TEIhveiU"
      },
      "execution_count": null,
      "outputs": []
    },
    {
      "cell_type": "markdown",
      "source": [
        "##### 1. Why did you pick the specific chart?"
      ],
      "metadata": {
        "id": "EXh0U9oCveiU"
      }
    },
    {
      "cell_type": "markdown",
      "source": [
        "Answer Here."
      ],
      "metadata": {
        "id": "eMmPjTByveiU"
      }
    },
    {
      "cell_type": "markdown",
      "source": [
        "##### 2. What is/are the insight(s) found from the chart?"
      ],
      "metadata": {
        "id": "22aHeOlLveiV"
      }
    },
    {
      "cell_type": "markdown",
      "source": [
        "Answer Here"
      ],
      "metadata": {
        "id": "uPQ8RGwHveiV"
      }
    },
    {
      "cell_type": "markdown",
      "source": [
        "## **5. Solution to Business Objective**"
      ],
      "metadata": {
        "id": "JcMwzZxoAimU"
      }
    },
    {
      "cell_type": "markdown",
      "source": [
        "#### What do you suggest the client to achieve Business Objective ?\n",
        "Explain Briefly."
      ],
      "metadata": {
        "id": "8G2x9gOozGDZ"
      }
    },
    {
      "cell_type": "markdown",
      "source": [
        "Answer Here."
      ],
      "metadata": {
        "id": "pASKb0qOza21"
      }
    },
    {
      "cell_type": "markdown",
      "source": [
        "# **Conclusion**"
      ],
      "metadata": {
        "id": "gCX9965dhzqZ"
      }
    },
    {
      "cell_type": "markdown",
      "source": [
        "**🧠Conclusion:**\n",
        "\n",
        "The Play Store App Review Analysis - Exploratory Data Analysis project combines the power of data manipulation, visualization, and statistical techniques to provide stakeholders with actionable insights. By systematically exploring play store data and user reviews, we unearth patterns and trends that empower stakeholders to make informed decisions, thereby elevating their app-related strategies. This project is a testament to the value of data-driven approaches in understanding user behavior and app performance.\n",
        "\n",
        "Feel free to explore the full project on our GitHub repository, where you can find detailed code, datasets, visualizations, and insights that drive the heart of the Play Store App Review Analysis project."
      ],
      "metadata": {
        "id": "Fjb1IsQkh3yE"
      }
    },
    {
      "cell_type": "markdown",
      "source": [
        "### ***Hurrah! We have successfully completed our EDA Capstone Project !!!***"
      ],
      "metadata": {
        "id": "gIfDvo9L0UH2"
      }
    }
  ]
}