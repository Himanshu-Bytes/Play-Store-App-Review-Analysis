{
  "nbformat": 4,
  "nbformat_minor": 0,
  "metadata": {
    "colab": {
      "provenance": [],
      "collapsed_sections": [
        "w6K7xa23Elo4",
        "mDgbUHAGgjLW",
        "Y3lxredqlCYt",
        "x71ZqKXriCWQ",
        "7hBIi_osiCS2",
        "JlHwYmJAmNHm",
        "u3PMJOP6ngxN",
        "dauF4eBmngu3",
        "0wOQAZs5pc--",
        "KSlN3yHqYklG",
        "EM7whBJCYoAo",
        "4Of9eVA-YrdM",
        "bamQiAODYuh1",
        "OH-pJp9IphqM",
        "PIIx-8_IphqN",
        "YJ55k-q6phqO",
        "gCFgpxoyphqP",
        "OVtJsKN_phqQ",
        "lssrdh5qphqQ",
        "U2RJ9gkRphqQ",
        "1M8mcRywphqQ",
        "tgIPom80phqQ",
        "JMzcOPDDphqR",
        "x-EpHcCOp1ci",
        "X_VqEhTip1ck",
        "8zGJKyg5p1ck",
        "PVzmfK_Ep1ck",
        "n3dbpmDWp1ck",
        "ylSl6qgtp1ck",
        "ZWILFDl5p1ck",
        "M7G43BXep1ck",
        "Ag9LCva-p1cl",
        "E6MkPsBcp1cl",
        "2cELzS2fp1cl",
        "3MPXvC8up1cl",
        "NC_X3p0fY2L0",
        "UV0SzAkaZNRQ",
        "YPEH6qLeZNRQ",
        "q29F0dvdveiT",
        "EXh0U9oCveiU",
        "22aHeOlLveiV",
        "gIfDvo9L0UH2"
      ],
      "include_colab_link": true
    },
    "kernelspec": {
      "name": "python3",
      "display_name": "Python 3"
    },
    "language_info": {
      "name": "python"
    }
  },
  "cells": [
    {
      "cell_type": "markdown",
      "metadata": {
        "id": "view-in-github",
        "colab_type": "text"
      },
      "source": [
        "<a href=\"https://colab.research.google.com/github/Himanshu-Bytes/Play-Store-App-Review-Analysis/blob/main/Play_Store_App_Review_Analysis_EDA_Project.ipynb\" target=\"_parent\"><img src=\"https://colab.research.google.com/assets/colab-badge.svg\" alt=\"Open In Colab\"/></a>"
      ]
    },
    {
      "cell_type": "markdown",
      "source": [
        "# **Project Name**    - Play Store App Review Analysis (EDA Project)\n"
      ],
      "metadata": {
        "id": "vncDsAP0Gaoa"
      }
    },
    {
      "cell_type": "markdown",
      "source": [
        "##### **Project Type**    - Exploratory Data Analysis (EDA)\n",
        "\n",
        "##### **Contribution**    - Individual\n"
      ],
      "metadata": {
        "id": "beRrZCGUAJYm"
      }
    },
    {
      "cell_type": "markdown",
      "source": [
        "# **Project Summary -**\n",
        "\n",
        "# **👋Hey! Wassup Folks!!🙋‍♂️**\n",
        "\n",
        "Welcome to the Play Store App Review Analysis project🙂, where we will dive into the world of app data and user reviews to extract meaningful insights and understand user preferences. In this project, we will adopt a systematic approach to explore and analyze two datasets: one containing play store data and the other containing user reviews. By employing data manipulation, visualization, and statistical techniques, we aim to provide valuable insights to stakeholders and uncover patterns that can drive informed decision-making.\n",
        "\n",
        "Throughout the project we will follow an efficient approach by starting with data collection and preprocessing, followed by thorough exploratory data analysis. This approach will ensure that we are efficiently tackling each step, from handling missing values and outliers to crafting insightful visualizations and generating actionable insights.\n",
        "\n",
        "\n",
        "![play-store-logo.png](data:image/png;base64,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)\n",
        "-----------------------------------------------------------------\n",
        "\n",
        "**Mainly we will be using these popular libraries to achieve our goal of providing insightful information:**\n",
        "\n",
        "**🐼Pandas:** For seamless data manipulation and aggregation.\n",
        "\n",
        "**Matplotlib and Seaborn:** For visually rich representations of data.\n",
        "\n",
        "**NumPy:** For efficient numerical operations and calculations.\n",
        "\n",
        "-----------------------------------------------------------------\n",
        "\n",
        "**🤔Insights and Understandings:**\n",
        "\n",
        "Our main focus is on extracting insights that cater to stakeholders' interests. By identifying which types of apps are most popular, understanding the correlation between user ratings and app features, and discerning sentiment trends in user reviews, we create a comprehensive narrative that helps stakeholders make informed decisions regarding app development and marketing strategies.\n",
        "\n",
        "-----------------------------------------------------------------\n",
        "**📜Business Context:**\n",
        "\n",
        "The Play Store apps data has enormous potential to drive app-making businesses to success. Actionable insights can be drawn for developers to work on and capture the Android market. Each app (row) has values for category, rating, size, and more. Another dataset contains customer reviews of the android apps. Explore and analyse the data to discover key factors responsible for app engagement and success.\n",
        "\n",
        "-----------------------------------------------------------------\n",
        "\n",
        "**💯Project's Usefulness to Stakeholders:**\n",
        "\n",
        "This project offers stakeholders a deep understanding of the dynamics within the Play Store app landscape. By revealing user preferences, sentiment trends, and correlations between app attributes and success metrics, stakeholders can optimize app development, marketing efforts, and user engagement strategies. The insights drawn from this analysis pave the way for data-driven decisions that are tailored to enhance app performance and user satisfaction.\n"
      ],
      "metadata": {
        "id": "F6v_1wHtG2nS"
      }
    },
    {
      "cell_type": "markdown",
      "source": [
        "# **GitHub Link -**"
      ],
      "metadata": {
        "id": "w6K7xa23Elo4"
      }
    },
    {
      "cell_type": "markdown",
      "source": [
        "GitHub Link: https://github.com/Himanshu-Bytes/Play-Store-App-Review-Analysis"
      ],
      "metadata": {
        "id": "h1o69JH3Eqqn"
      }
    },
    {
      "cell_type": "markdown",
      "source": [
        "# **Problem Statement**\n"
      ],
      "metadata": {
        "id": "yQaldy8SH6Dl"
      }
    },
    {
      "cell_type": "markdown",
      "source": [
        "1. Which app categories have the highest average user ratings, and what factors might be contributing to these high ratings?\n",
        "\n",
        "2. Do free apps generally receive higher user ratings than paid apps, and if so, why might this be the case?\n",
        "\n",
        "3. Are there specific days of the week when users tend to leave more reviews, and can we identify any patterns in user feedback during these times?\n",
        "\n",
        "4. Which app categories have the highest number of installs, and is there a correlation between the number of installs and user ratings?\n",
        "\n",
        "5. What is the relationship between long translated reviews and User Ratings? Are long reviews more of higher ratings?\n",
        "\n",
        "6. What percentage of apps offer in-app purchases, and how does the presence of in-app purchases relate to user ratings?\n",
        "\n",
        "9. Is there a correlation between app size and user ratings, and do users prefer smaller or larger apps?\n",
        "\n",
        "10. Are there specific countries or regions where user reviews are consistently more positive or negative, and what factors might be influencing these regional variations?\n",
        "\n",
        "11. What are the most common reasons cited in user reviews for uninstalling an app, and how can developers address these issues to improve retention?\n",
        "\n",
        "12. Do apps with a high number of screenshots or promotional images tend to have higher user ratings, and what is the optimal number of images for user engagement?"
      ],
      "metadata": {
        "id": "DpeJGUA3kjGy"
      }
    },
    {
      "cell_type": "markdown",
      "source": [
        "#### **Define Your Business Objective?**"
      ],
      "metadata": {
        "id": "PH-0ReGfmX4f"
      }
    },
    {
      "cell_type": "markdown",
      "source": [
        "The Play Store apps data has enormous potential to drive app-making businesses to success. Actionable insights can be drawn for developers to work on and capture the Android market. Each app (row) has values for category, rating, size, and more. Another dataset contains customer reviews of the android apps. Explore and analyse the data to discover key factors responsible for app engagement and success."
      ],
      "metadata": {
        "id": "PhDvGCAqmjP1"
      }
    },
    {
      "cell_type": "markdown",
      "source": [
        "# **General Guidelines** : -  "
      ],
      "metadata": {
        "id": "mDgbUHAGgjLW"
      }
    },
    {
      "cell_type": "markdown",
      "source": [
        "1.   Well-structured, formatted, and commented code is required.\n",
        "2.   Exception Handling, Production Grade Code & Deployment Ready Code will be a plus. Those students will be awarded some additional credits.\n",
        "     \n",
        "     The additional credits will have advantages over other students during Star Student selection.\n",
        "       \n",
        "             [ Note: - Deployment Ready Code is defined as, the whole .ipynb notebook should be executable in one go\n",
        "                       without a single error logged. ]\n",
        "\n",
        "3.   Each and every logic should have proper comments.\n",
        "4. You may add as many number of charts you want. Make Sure for each and every chart the following format should be answered.\n",
        "        \n",
        "\n",
        "```\n",
        "# Chart visualization code\n",
        "```\n",
        "            \n",
        "\n",
        "*   Why did you pick the specific chart?\n",
        "*   What is/are the insight(s) found from the chart?\n",
        "* Will the gained insights help creating a positive business impact?\n",
        "Are there any insights that lead to negative growth? Justify with specific reason.\n",
        "\n",
        "5. You have to create at least 20 logical & meaningful charts having important insights.\n",
        "\n",
        "\n",
        "[ Hints : - Do the Vizualization in  a structured way while following \"UBM\" Rule.\n",
        "\n",
        "U - Univariate Analysis,\n",
        "\n",
        "B - Bivariate Analysis (Numerical - Categorical, Numerical - Numerical, Categorical - Categorical)\n",
        "\n",
        "M - Multivariate Analysis\n",
        " ]\n",
        "\n",
        "\n",
        "\n"
      ],
      "metadata": {
        "id": "ZrxVaUj-hHfC"
      }
    },
    {
      "cell_type": "markdown",
      "source": [
        "# ***Let's Begin !***"
      ],
      "metadata": {
        "id": "O_i_v8NEhb9l"
      }
    },
    {
      "cell_type": "markdown",
      "source": [
        "## ***1. Know Your Data***"
      ],
      "metadata": {
        "id": "HhfV-JJviCcP"
      }
    },
    {
      "cell_type": "markdown",
      "source": [
        "### Import Libraries"
      ],
      "metadata": {
        "id": "Y3lxredqlCYt"
      }
    },
    {
      "cell_type": "code",
      "source": [
        "# Import Libraries\n",
        "import pandas as pd\n",
        "import matplotlib.pyplot as plt\n",
        "import numpy as np\n",
        "import seaborn as sns\n",
        "from datetime import datetime"
      ],
      "metadata": {
        "id": "M8Vqi-pPk-HR"
      },
      "execution_count": 263,
      "outputs": []
    },
    {
      "cell_type": "markdown",
      "source": [
        "### Dataset Loading"
      ],
      "metadata": {
        "id": "3RnN4peoiCZX"
      }
    },
    {
      "cell_type": "code",
      "source": [
        "# Loading both the Datasets\n",
        "play_store_df = pd.read_csv(\"/content/Play Store Data.csv\")\n",
        "user_reviews_df = pd.read_csv(\"/content/User Reviews.csv\")"
      ],
      "metadata": {
        "id": "4CkvbW_SlZ_R"
      },
      "execution_count": 264,
      "outputs": []
    },
    {
      "cell_type": "markdown",
      "source": [
        "### Dataset First View"
      ],
      "metadata": {
        "id": "x71ZqKXriCWQ"
      }
    },
    {
      "cell_type": "code",
      "source": [
        "# Dataset First Look - After merging both the datsets\n",
        "merged_df = pd.merge(play_store_df, user_reviews_df, on = \"App\")\n",
        "display(merged_df)"
      ],
      "metadata": {
        "id": "LWNFOSvLl09H",
        "colab": {
          "base_uri": "https://localhost:8080/",
          "height": 0
        },
        "outputId": "993c8830-813f-442f-af9c-e74d6aea3b09"
      },
      "execution_count": 265,
      "outputs": [
        {
          "output_type": "display_data",
          "data": {
            "text/plain": [
              "                                 App        Category  Rating Reviews  \\\n",
              "0                Coloring book moana  ART_AND_DESIGN     3.9     967   \n",
              "1                Coloring book moana  ART_AND_DESIGN     3.9     967   \n",
              "2                Coloring book moana  ART_AND_DESIGN     3.9     967   \n",
              "3                Coloring book moana  ART_AND_DESIGN     3.9     967   \n",
              "4                Coloring book moana  ART_AND_DESIGN     3.9     967   \n",
              "...                              ...             ...     ...     ...   \n",
              "122657  A+ Gallery - Photos & Videos     PHOTOGRAPHY     4.5  223941   \n",
              "122658  A+ Gallery - Photos & Videos     PHOTOGRAPHY     4.5  223941   \n",
              "122659  A+ Gallery - Photos & Videos     PHOTOGRAPHY     4.5  223941   \n",
              "122660  A+ Gallery - Photos & Videos     PHOTOGRAPHY     4.5  223941   \n",
              "122661  A+ Gallery - Photos & Videos     PHOTOGRAPHY     4.5  223941   \n",
              "\n",
              "                      Size     Installs  Type Price Content Rating  \\\n",
              "0                      14M     500,000+  Free     0       Everyone   \n",
              "1                      14M     500,000+  Free     0       Everyone   \n",
              "2                      14M     500,000+  Free     0       Everyone   \n",
              "3                      14M     500,000+  Free     0       Everyone   \n",
              "4                      14M     500,000+  Free     0       Everyone   \n",
              "...                    ...          ...   ...   ...            ...   \n",
              "122657  Varies with device  10,000,000+  Free     0       Everyone   \n",
              "122658  Varies with device  10,000,000+  Free     0       Everyone   \n",
              "122659  Varies with device  10,000,000+  Free     0       Everyone   \n",
              "122660  Varies with device  10,000,000+  Free     0       Everyone   \n",
              "122661  Varies with device  10,000,000+  Free     0       Everyone   \n",
              "\n",
              "                           Genres      Last Updated         Current Ver  \\\n",
              "0       Art & Design;Pretend Play  January 15, 2018               2.0.0   \n",
              "1       Art & Design;Pretend Play  January 15, 2018               2.0.0   \n",
              "2       Art & Design;Pretend Play  January 15, 2018               2.0.0   \n",
              "3       Art & Design;Pretend Play  January 15, 2018               2.0.0   \n",
              "4       Art & Design;Pretend Play  January 15, 2018               2.0.0   \n",
              "...                           ...               ...                 ...   \n",
              "122657                Photography    August 6, 2018  Varies with device   \n",
              "122658                Photography    August 6, 2018  Varies with device   \n",
              "122659                Photography    August 6, 2018  Varies with device   \n",
              "122660                Photography    August 6, 2018  Varies with device   \n",
              "122661                Photography    August 6, 2018  Varies with device   \n",
              "\n",
              "               Android Ver                                  Translated_Review  \\\n",
              "0             4.0.3 and up  A kid's excessive ads. The types ads allowed a...   \n",
              "1             4.0.3 and up                                         It bad >:(   \n",
              "2             4.0.3 and up                                               like   \n",
              "3             4.0.3 and up                                                NaN   \n",
              "4             4.0.3 and up                           I love colors inspyering   \n",
              "...                    ...                                                ...   \n",
              "122657  Varies with device                                                NaN   \n",
              "122658  Varies with device                                                NaN   \n",
              "122659  Varies with device                                       Too much ads   \n",
              "122660  Varies with device                                Just allow time ...   \n",
              "122661  Varies with device                       It's good best gallery phone   \n",
              "\n",
              "       Sentiment  Sentiment_Polarity  Sentiment_Subjectivity  \n",
              "0       Negative              -0.250                1.000000  \n",
              "1       Negative              -0.725                0.833333  \n",
              "2        Neutral               0.000                0.000000  \n",
              "3            NaN                 NaN                     NaN  \n",
              "4       Positive               0.500                0.600000  \n",
              "...          ...                 ...                     ...  \n",
              "122657       NaN                 NaN                     NaN  \n",
              "122658       NaN                 NaN                     NaN  \n",
              "122659  Positive               0.200                0.200000  \n",
              "122660   Neutral               0.000                0.000000  \n",
              "122661  Positive               0.850                0.450000  \n",
              "\n",
              "[122662 rows x 17 columns]"
            ],
            "text/html": [
              "\n",
              "  <div id=\"df-3897b797-189c-4f17-b12f-04b8a58f1ffb\" class=\"colab-df-container\">\n",
              "    <div>\n",
              "<style scoped>\n",
              "    .dataframe tbody tr th:only-of-type {\n",
              "        vertical-align: middle;\n",
              "    }\n",
              "\n",
              "    .dataframe tbody tr th {\n",
              "        vertical-align: top;\n",
              "    }\n",
              "\n",
              "    .dataframe thead th {\n",
              "        text-align: right;\n",
              "    }\n",
              "</style>\n",
              "<table border=\"1\" class=\"dataframe\">\n",
              "  <thead>\n",
              "    <tr style=\"text-align: right;\">\n",
              "      <th></th>\n",
              "      <th>App</th>\n",
              "      <th>Category</th>\n",
              "      <th>Rating</th>\n",
              "      <th>Reviews</th>\n",
              "      <th>Size</th>\n",
              "      <th>Installs</th>\n",
              "      <th>Type</th>\n",
              "      <th>Price</th>\n",
              "      <th>Content Rating</th>\n",
              "      <th>Genres</th>\n",
              "      <th>Last Updated</th>\n",
              "      <th>Current Ver</th>\n",
              "      <th>Android Ver</th>\n",
              "      <th>Translated_Review</th>\n",
              "      <th>Sentiment</th>\n",
              "      <th>Sentiment_Polarity</th>\n",
              "      <th>Sentiment_Subjectivity</th>\n",
              "    </tr>\n",
              "  </thead>\n",
              "  <tbody>\n",
              "    <tr>\n",
              "      <th>0</th>\n",
              "      <td>Coloring book moana</td>\n",
              "      <td>ART_AND_DESIGN</td>\n",
              "      <td>3.9</td>\n",
              "      <td>967</td>\n",
              "      <td>14M</td>\n",
              "      <td>500,000+</td>\n",
              "      <td>Free</td>\n",
              "      <td>0</td>\n",
              "      <td>Everyone</td>\n",
              "      <td>Art &amp; Design;Pretend Play</td>\n",
              "      <td>January 15, 2018</td>\n",
              "      <td>2.0.0</td>\n",
              "      <td>4.0.3 and up</td>\n",
              "      <td>A kid's excessive ads. The types ads allowed a...</td>\n",
              "      <td>Negative</td>\n",
              "      <td>-0.250</td>\n",
              "      <td>1.000000</td>\n",
              "    </tr>\n",
              "    <tr>\n",
              "      <th>1</th>\n",
              "      <td>Coloring book moana</td>\n",
              "      <td>ART_AND_DESIGN</td>\n",
              "      <td>3.9</td>\n",
              "      <td>967</td>\n",
              "      <td>14M</td>\n",
              "      <td>500,000+</td>\n",
              "      <td>Free</td>\n",
              "      <td>0</td>\n",
              "      <td>Everyone</td>\n",
              "      <td>Art &amp; Design;Pretend Play</td>\n",
              "      <td>January 15, 2018</td>\n",
              "      <td>2.0.0</td>\n",
              "      <td>4.0.3 and up</td>\n",
              "      <td>It bad &gt;:(</td>\n",
              "      <td>Negative</td>\n",
              "      <td>-0.725</td>\n",
              "      <td>0.833333</td>\n",
              "    </tr>\n",
              "    <tr>\n",
              "      <th>2</th>\n",
              "      <td>Coloring book moana</td>\n",
              "      <td>ART_AND_DESIGN</td>\n",
              "      <td>3.9</td>\n",
              "      <td>967</td>\n",
              "      <td>14M</td>\n",
              "      <td>500,000+</td>\n",
              "      <td>Free</td>\n",
              "      <td>0</td>\n",
              "      <td>Everyone</td>\n",
              "      <td>Art &amp; Design;Pretend Play</td>\n",
              "      <td>January 15, 2018</td>\n",
              "      <td>2.0.0</td>\n",
              "      <td>4.0.3 and up</td>\n",
              "      <td>like</td>\n",
              "      <td>Neutral</td>\n",
              "      <td>0.000</td>\n",
              "      <td>0.000000</td>\n",
              "    </tr>\n",
              "    <tr>\n",
              "      <th>3</th>\n",
              "      <td>Coloring book moana</td>\n",
              "      <td>ART_AND_DESIGN</td>\n",
              "      <td>3.9</td>\n",
              "      <td>967</td>\n",
              "      <td>14M</td>\n",
              "      <td>500,000+</td>\n",
              "      <td>Free</td>\n",
              "      <td>0</td>\n",
              "      <td>Everyone</td>\n",
              "      <td>Art &amp; Design;Pretend Play</td>\n",
              "      <td>January 15, 2018</td>\n",
              "      <td>2.0.0</td>\n",
              "      <td>4.0.3 and up</td>\n",
              "      <td>NaN</td>\n",
              "      <td>NaN</td>\n",
              "      <td>NaN</td>\n",
              "      <td>NaN</td>\n",
              "    </tr>\n",
              "    <tr>\n",
              "      <th>4</th>\n",
              "      <td>Coloring book moana</td>\n",
              "      <td>ART_AND_DESIGN</td>\n",
              "      <td>3.9</td>\n",
              "      <td>967</td>\n",
              "      <td>14M</td>\n",
              "      <td>500,000+</td>\n",
              "      <td>Free</td>\n",
              "      <td>0</td>\n",
              "      <td>Everyone</td>\n",
              "      <td>Art &amp; Design;Pretend Play</td>\n",
              "      <td>January 15, 2018</td>\n",
              "      <td>2.0.0</td>\n",
              "      <td>4.0.3 and up</td>\n",
              "      <td>I love colors inspyering</td>\n",
              "      <td>Positive</td>\n",
              "      <td>0.500</td>\n",
              "      <td>0.600000</td>\n",
              "    </tr>\n",
              "    <tr>\n",
              "      <th>...</th>\n",
              "      <td>...</td>\n",
              "      <td>...</td>\n",
              "      <td>...</td>\n",
              "      <td>...</td>\n",
              "      <td>...</td>\n",
              "      <td>...</td>\n",
              "      <td>...</td>\n",
              "      <td>...</td>\n",
              "      <td>...</td>\n",
              "      <td>...</td>\n",
              "      <td>...</td>\n",
              "      <td>...</td>\n",
              "      <td>...</td>\n",
              "      <td>...</td>\n",
              "      <td>...</td>\n",
              "      <td>...</td>\n",
              "      <td>...</td>\n",
              "    </tr>\n",
              "    <tr>\n",
              "      <th>122657</th>\n",
              "      <td>A+ Gallery - Photos &amp; Videos</td>\n",
              "      <td>PHOTOGRAPHY</td>\n",
              "      <td>4.5</td>\n",
              "      <td>223941</td>\n",
              "      <td>Varies with device</td>\n",
              "      <td>10,000,000+</td>\n",
              "      <td>Free</td>\n",
              "      <td>0</td>\n",
              "      <td>Everyone</td>\n",
              "      <td>Photography</td>\n",
              "      <td>August 6, 2018</td>\n",
              "      <td>Varies with device</td>\n",
              "      <td>Varies with device</td>\n",
              "      <td>NaN</td>\n",
              "      <td>NaN</td>\n",
              "      <td>NaN</td>\n",
              "      <td>NaN</td>\n",
              "    </tr>\n",
              "    <tr>\n",
              "      <th>122658</th>\n",
              "      <td>A+ Gallery - Photos &amp; Videos</td>\n",
              "      <td>PHOTOGRAPHY</td>\n",
              "      <td>4.5</td>\n",
              "      <td>223941</td>\n",
              "      <td>Varies with device</td>\n",
              "      <td>10,000,000+</td>\n",
              "      <td>Free</td>\n",
              "      <td>0</td>\n",
              "      <td>Everyone</td>\n",
              "      <td>Photography</td>\n",
              "      <td>August 6, 2018</td>\n",
              "      <td>Varies with device</td>\n",
              "      <td>Varies with device</td>\n",
              "      <td>NaN</td>\n",
              "      <td>NaN</td>\n",
              "      <td>NaN</td>\n",
              "      <td>NaN</td>\n",
              "    </tr>\n",
              "    <tr>\n",
              "      <th>122659</th>\n",
              "      <td>A+ Gallery - Photos &amp; Videos</td>\n",
              "      <td>PHOTOGRAPHY</td>\n",
              "      <td>4.5</td>\n",
              "      <td>223941</td>\n",
              "      <td>Varies with device</td>\n",
              "      <td>10,000,000+</td>\n",
              "      <td>Free</td>\n",
              "      <td>0</td>\n",
              "      <td>Everyone</td>\n",
              "      <td>Photography</td>\n",
              "      <td>August 6, 2018</td>\n",
              "      <td>Varies with device</td>\n",
              "      <td>Varies with device</td>\n",
              "      <td>Too much ads</td>\n",
              "      <td>Positive</td>\n",
              "      <td>0.200</td>\n",
              "      <td>0.200000</td>\n",
              "    </tr>\n",
              "    <tr>\n",
              "      <th>122660</th>\n",
              "      <td>A+ Gallery - Photos &amp; Videos</td>\n",
              "      <td>PHOTOGRAPHY</td>\n",
              "      <td>4.5</td>\n",
              "      <td>223941</td>\n",
              "      <td>Varies with device</td>\n",
              "      <td>10,000,000+</td>\n",
              "      <td>Free</td>\n",
              "      <td>0</td>\n",
              "      <td>Everyone</td>\n",
              "      <td>Photography</td>\n",
              "      <td>August 6, 2018</td>\n",
              "      <td>Varies with device</td>\n",
              "      <td>Varies with device</td>\n",
              "      <td>Just allow time ...</td>\n",
              "      <td>Neutral</td>\n",
              "      <td>0.000</td>\n",
              "      <td>0.000000</td>\n",
              "    </tr>\n",
              "    <tr>\n",
              "      <th>122661</th>\n",
              "      <td>A+ Gallery - Photos &amp; Videos</td>\n",
              "      <td>PHOTOGRAPHY</td>\n",
              "      <td>4.5</td>\n",
              "      <td>223941</td>\n",
              "      <td>Varies with device</td>\n",
              "      <td>10,000,000+</td>\n",
              "      <td>Free</td>\n",
              "      <td>0</td>\n",
              "      <td>Everyone</td>\n",
              "      <td>Photography</td>\n",
              "      <td>August 6, 2018</td>\n",
              "      <td>Varies with device</td>\n",
              "      <td>Varies with device</td>\n",
              "      <td>It's good best gallery phone</td>\n",
              "      <td>Positive</td>\n",
              "      <td>0.850</td>\n",
              "      <td>0.450000</td>\n",
              "    </tr>\n",
              "  </tbody>\n",
              "</table>\n",
              "<p>122662 rows × 17 columns</p>\n",
              "</div>\n",
              "    <div class=\"colab-df-buttons\">\n",
              "\n",
              "  <div class=\"colab-df-container\">\n",
              "    <button class=\"colab-df-convert\" onclick=\"convertToInteractive('df-3897b797-189c-4f17-b12f-04b8a58f1ffb')\"\n",
              "            title=\"Convert this dataframe to an interactive table.\"\n",
              "            style=\"display:none;\">\n",
              "\n",
              "  <svg xmlns=\"http://www.w3.org/2000/svg\" height=\"24px\" viewBox=\"0 -960 960 960\">\n",
              "    <path d=\"M120-120v-720h720v720H120Zm60-500h600v-160H180v160Zm220 220h160v-160H400v160Zm0 220h160v-160H400v160ZM180-400h160v-160H180v160Zm440 0h160v-160H620v160ZM180-180h160v-160H180v160Zm440 0h160v-160H620v160Z\"/>\n",
              "  </svg>\n",
              "    </button>\n",
              "\n",
              "  <style>\n",
              "    .colab-df-container {\n",
              "      display:flex;\n",
              "      gap: 12px;\n",
              "    }\n",
              "\n",
              "    .colab-df-convert {\n",
              "      background-color: #E8F0FE;\n",
              "      border: none;\n",
              "      border-radius: 50%;\n",
              "      cursor: pointer;\n",
              "      display: none;\n",
              "      fill: #1967D2;\n",
              "      height: 32px;\n",
              "      padding: 0 0 0 0;\n",
              "      width: 32px;\n",
              "    }\n",
              "\n",
              "    .colab-df-convert:hover {\n",
              "      background-color: #E2EBFA;\n",
              "      box-shadow: 0px 1px 2px rgba(60, 64, 67, 0.3), 0px 1px 3px 1px rgba(60, 64, 67, 0.15);\n",
              "      fill: #174EA6;\n",
              "    }\n",
              "\n",
              "    .colab-df-buttons div {\n",
              "      margin-bottom: 4px;\n",
              "    }\n",
              "\n",
              "    [theme=dark] .colab-df-convert {\n",
              "      background-color: #3B4455;\n",
              "      fill: #D2E3FC;\n",
              "    }\n",
              "\n",
              "    [theme=dark] .colab-df-convert:hover {\n",
              "      background-color: #434B5C;\n",
              "      box-shadow: 0px 1px 3px 1px rgba(0, 0, 0, 0.15);\n",
              "      filter: drop-shadow(0px 1px 2px rgba(0, 0, 0, 0.3));\n",
              "      fill: #FFFFFF;\n",
              "    }\n",
              "  </style>\n",
              "\n",
              "    <script>\n",
              "      const buttonEl =\n",
              "        document.querySelector('#df-3897b797-189c-4f17-b12f-04b8a58f1ffb button.colab-df-convert');\n",
              "      buttonEl.style.display =\n",
              "        google.colab.kernel.accessAllowed ? 'block' : 'none';\n",
              "\n",
              "      async function convertToInteractive(key) {\n",
              "        const element = document.querySelector('#df-3897b797-189c-4f17-b12f-04b8a58f1ffb');\n",
              "        const dataTable =\n",
              "          await google.colab.kernel.invokeFunction('convertToInteractive',\n",
              "                                                    [key], {});\n",
              "        if (!dataTable) return;\n",
              "\n",
              "        const docLinkHtml = 'Like what you see? Visit the ' +\n",
              "          '<a target=\"_blank\" href=https://colab.research.google.com/notebooks/data_table.ipynb>data table notebook</a>'\n",
              "          + ' to learn more about interactive tables.';\n",
              "        element.innerHTML = '';\n",
              "        dataTable['output_type'] = 'display_data';\n",
              "        await google.colab.output.renderOutput(dataTable, element);\n",
              "        const docLink = document.createElement('div');\n",
              "        docLink.innerHTML = docLinkHtml;\n",
              "        element.appendChild(docLink);\n",
              "      }\n",
              "    </script>\n",
              "  </div>\n",
              "\n",
              "\n",
              "<div id=\"df-b437ab02-1d5f-43c4-ae7f-b3098865a07e\">\n",
              "  <button class=\"colab-df-quickchart\" onclick=\"quickchart('df-b437ab02-1d5f-43c4-ae7f-b3098865a07e')\"\n",
              "            title=\"Suggest charts.\"\n",
              "            style=\"display:none;\">\n",
              "\n",
              "<svg xmlns=\"http://www.w3.org/2000/svg\" height=\"24px\"viewBox=\"0 0 24 24\"\n",
              "     width=\"24px\">\n",
              "    <g>\n",
              "        <path d=\"M19 3H5c-1.1 0-2 .9-2 2v14c0 1.1.9 2 2 2h14c1.1 0 2-.9 2-2V5c0-1.1-.9-2-2-2zM9 17H7v-7h2v7zm4 0h-2V7h2v10zm4 0h-2v-4h2v4z\"/>\n",
              "    </g>\n",
              "</svg>\n",
              "  </button>\n",
              "\n",
              "<style>\n",
              "  .colab-df-quickchart {\n",
              "      --bg-color: #E8F0FE;\n",
              "      --fill-color: #1967D2;\n",
              "      --hover-bg-color: #E2EBFA;\n",
              "      --hover-fill-color: #174EA6;\n",
              "      --disabled-fill-color: #AAA;\n",
              "      --disabled-bg-color: #DDD;\n",
              "  }\n",
              "\n",
              "  [theme=dark] .colab-df-quickchart {\n",
              "      --bg-color: #3B4455;\n",
              "      --fill-color: #D2E3FC;\n",
              "      --hover-bg-color: #434B5C;\n",
              "      --hover-fill-color: #FFFFFF;\n",
              "      --disabled-bg-color: #3B4455;\n",
              "      --disabled-fill-color: #666;\n",
              "  }\n",
              "\n",
              "  .colab-df-quickchart {\n",
              "    background-color: var(--bg-color);\n",
              "    border: none;\n",
              "    border-radius: 50%;\n",
              "    cursor: pointer;\n",
              "    display: none;\n",
              "    fill: var(--fill-color);\n",
              "    height: 32px;\n",
              "    padding: 0;\n",
              "    width: 32px;\n",
              "  }\n",
              "\n",
              "  .colab-df-quickchart:hover {\n",
              "    background-color: var(--hover-bg-color);\n",
              "    box-shadow: 0 1px 2px rgba(60, 64, 67, 0.3), 0 1px 3px 1px rgba(60, 64, 67, 0.15);\n",
              "    fill: var(--button-hover-fill-color);\n",
              "  }\n",
              "\n",
              "  .colab-df-quickchart-complete:disabled,\n",
              "  .colab-df-quickchart-complete:disabled:hover {\n",
              "    background-color: var(--disabled-bg-color);\n",
              "    fill: var(--disabled-fill-color);\n",
              "    box-shadow: none;\n",
              "  }\n",
              "\n",
              "  .colab-df-spinner {\n",
              "    border: 2px solid var(--fill-color);\n",
              "    border-color: transparent;\n",
              "    border-bottom-color: var(--fill-color);\n",
              "    animation:\n",
              "      spin 1s steps(1) infinite;\n",
              "  }\n",
              "\n",
              "  @keyframes spin {\n",
              "    0% {\n",
              "      border-color: transparent;\n",
              "      border-bottom-color: var(--fill-color);\n",
              "      border-left-color: var(--fill-color);\n",
              "    }\n",
              "    20% {\n",
              "      border-color: transparent;\n",
              "      border-left-color: var(--fill-color);\n",
              "      border-top-color: var(--fill-color);\n",
              "    }\n",
              "    30% {\n",
              "      border-color: transparent;\n",
              "      border-left-color: var(--fill-color);\n",
              "      border-top-color: var(--fill-color);\n",
              "      border-right-color: var(--fill-color);\n",
              "    }\n",
              "    40% {\n",
              "      border-color: transparent;\n",
              "      border-right-color: var(--fill-color);\n",
              "      border-top-color: var(--fill-color);\n",
              "    }\n",
              "    60% {\n",
              "      border-color: transparent;\n",
              "      border-right-color: var(--fill-color);\n",
              "    }\n",
              "    80% {\n",
              "      border-color: transparent;\n",
              "      border-right-color: var(--fill-color);\n",
              "      border-bottom-color: var(--fill-color);\n",
              "    }\n",
              "    90% {\n",
              "      border-color: transparent;\n",
              "      border-bottom-color: var(--fill-color);\n",
              "    }\n",
              "  }\n",
              "</style>\n",
              "\n",
              "  <script>\n",
              "    async function quickchart(key) {\n",
              "      const quickchartButtonEl =\n",
              "        document.querySelector('#' + key + ' button');\n",
              "      quickchartButtonEl.disabled = true;  // To prevent multiple clicks.\n",
              "      quickchartButtonEl.classList.add('colab-df-spinner');\n",
              "      try {\n",
              "        const charts = await google.colab.kernel.invokeFunction(\n",
              "            'suggestCharts', [key], {});\n",
              "      } catch (error) {\n",
              "        console.error('Error during call to suggestCharts:', error);\n",
              "      }\n",
              "      quickchartButtonEl.classList.remove('colab-df-spinner');\n",
              "      quickchartButtonEl.classList.add('colab-df-quickchart-complete');\n",
              "    }\n",
              "    (() => {\n",
              "      let quickchartButtonEl =\n",
              "        document.querySelector('#df-b437ab02-1d5f-43c4-ae7f-b3098865a07e button');\n",
              "      quickchartButtonEl.style.display =\n",
              "        google.colab.kernel.accessAllowed ? 'block' : 'none';\n",
              "    })();\n",
              "  </script>\n",
              "</div>\n",
              "    </div>\n",
              "  </div>\n"
            ]
          },
          "metadata": {}
        }
      ]
    },
    {
      "cell_type": "markdown",
      "source": [
        "### Dataset Rows & Columns count"
      ],
      "metadata": {
        "id": "7hBIi_osiCS2"
      }
    },
    {
      "cell_type": "code",
      "source": [
        "# Dataset Rows & Columns count using pandas shape attribute\n",
        "num_rows, num_columns = merged_df.shape\n",
        "\n",
        "print(f\"Number of Rows: {num_rows}\")\n",
        "print(f\"Number of Columns: {num_columns}\")"
      ],
      "metadata": {
        "id": "Kllu7SJgmLij",
        "colab": {
          "base_uri": "https://localhost:8080/"
        },
        "outputId": "10aee9e5-780b-41c3-8008-6cca2192dc2a"
      },
      "execution_count": 266,
      "outputs": [
        {
          "output_type": "stream",
          "name": "stdout",
          "text": [
            "Number of Rows: 122662\n",
            "Number of Columns: 17\n"
          ]
        }
      ]
    },
    {
      "cell_type": "markdown",
      "source": [
        "### Dataset Information"
      ],
      "metadata": {
        "id": "JlHwYmJAmNHm"
      }
    },
    {
      "cell_type": "code",
      "source": [
        "# Dataset Information using info method\n",
        "merged_df.info()"
      ],
      "metadata": {
        "id": "e9hRXRi6meOf",
        "colab": {
          "base_uri": "https://localhost:8080/"
        },
        "outputId": "66b10ca3-f140-4979-bc3d-c5a3a93b24e0"
      },
      "execution_count": 267,
      "outputs": [
        {
          "output_type": "stream",
          "name": "stdout",
          "text": [
            "<class 'pandas.core.frame.DataFrame'>\n",
            "Int64Index: 122662 entries, 0 to 122661\n",
            "Data columns (total 17 columns):\n",
            " #   Column                  Non-Null Count   Dtype  \n",
            "---  ------                  --------------   -----  \n",
            " 0   App                     122662 non-null  object \n",
            " 1   Category                122662 non-null  object \n",
            " 2   Rating                  122622 non-null  float64\n",
            " 3   Reviews                 122662 non-null  object \n",
            " 4   Size                    122662 non-null  object \n",
            " 5   Installs                122662 non-null  object \n",
            " 6   Type                    122662 non-null  object \n",
            " 7   Price                   122662 non-null  object \n",
            " 8   Content Rating          122662 non-null  object \n",
            " 9   Genres                  122662 non-null  object \n",
            " 10  Last Updated            122662 non-null  object \n",
            " 11  Current Ver             122662 non-null  object \n",
            " 12  Android Ver             122662 non-null  object \n",
            " 13  Translated_Review       72605 non-null   object \n",
            " 14  Sentiment               72615 non-null   object \n",
            " 15  Sentiment_Polarity      72615 non-null   float64\n",
            " 16  Sentiment_Subjectivity  72615 non-null   float64\n",
            "dtypes: float64(3), object(14)\n",
            "memory usage: 16.8+ MB\n"
          ]
        }
      ]
    },
    {
      "cell_type": "markdown",
      "source": [
        "#### Duplicate Values"
      ],
      "metadata": {
        "id": "35m5QtbWiB9F"
      }
    },
    {
      "cell_type": "code",
      "source": [
        "# Dataset Duplicate Value Count\n",
        "num_duplicates = merged_df.duplicated().sum()\n",
        "print(f\"Number of Duplicate Rows: {num_duplicates}\")"
      ],
      "metadata": {
        "id": "1sLdpKYkmox0",
        "colab": {
          "base_uri": "https://localhost:8080/"
        },
        "outputId": "55bf7140-4285-4847-edbc-3849e5b3ad43"
      },
      "execution_count": 268,
      "outputs": [
        {
          "output_type": "stream",
          "name": "stdout",
          "text": [
            "Number of Duplicate Rows: 81001\n"
          ]
        }
      ]
    },
    {
      "cell_type": "code",
      "source": [
        "# Removing the duplicate values\n",
        "merged_df.drop_duplicates(inplace = True)\n",
        "display(merged_df)"
      ],
      "metadata": {
        "id": "U8UAEKXOnetA",
        "colab": {
          "base_uri": "https://localhost:8080/",
          "height": 0
        },
        "outputId": "e696529e-d197-4dfe-f29d-221ae252e95e"
      },
      "execution_count": 269,
      "outputs": [
        {
          "output_type": "display_data",
          "data": {
            "text/plain": [
              "                                 App        Category  Rating Reviews  \\\n",
              "0                Coloring book moana  ART_AND_DESIGN     3.9     967   \n",
              "1                Coloring book moana  ART_AND_DESIGN     3.9     967   \n",
              "2                Coloring book moana  ART_AND_DESIGN     3.9     967   \n",
              "3                Coloring book moana  ART_AND_DESIGN     3.9     967   \n",
              "4                Coloring book moana  ART_AND_DESIGN     3.9     967   \n",
              "...                              ...             ...     ...     ...   \n",
              "122646  A+ Gallery - Photos & Videos     PHOTOGRAPHY     4.5  223941   \n",
              "122652  A+ Gallery - Photos & Videos     PHOTOGRAPHY     4.5  223941   \n",
              "122659  A+ Gallery - Photos & Videos     PHOTOGRAPHY     4.5  223941   \n",
              "122660  A+ Gallery - Photos & Videos     PHOTOGRAPHY     4.5  223941   \n",
              "122661  A+ Gallery - Photos & Videos     PHOTOGRAPHY     4.5  223941   \n",
              "\n",
              "                      Size     Installs  Type Price Content Rating  \\\n",
              "0                      14M     500,000+  Free     0       Everyone   \n",
              "1                      14M     500,000+  Free     0       Everyone   \n",
              "2                      14M     500,000+  Free     0       Everyone   \n",
              "3                      14M     500,000+  Free     0       Everyone   \n",
              "4                      14M     500,000+  Free     0       Everyone   \n",
              "...                    ...          ...   ...   ...            ...   \n",
              "122646  Varies with device  10,000,000+  Free     0       Everyone   \n",
              "122652  Varies with device  10,000,000+  Free     0       Everyone   \n",
              "122659  Varies with device  10,000,000+  Free     0       Everyone   \n",
              "122660  Varies with device  10,000,000+  Free     0       Everyone   \n",
              "122661  Varies with device  10,000,000+  Free     0       Everyone   \n",
              "\n",
              "                           Genres      Last Updated         Current Ver  \\\n",
              "0       Art & Design;Pretend Play  January 15, 2018               2.0.0   \n",
              "1       Art & Design;Pretend Play  January 15, 2018               2.0.0   \n",
              "2       Art & Design;Pretend Play  January 15, 2018               2.0.0   \n",
              "3       Art & Design;Pretend Play  January 15, 2018               2.0.0   \n",
              "4       Art & Design;Pretend Play  January 15, 2018               2.0.0   \n",
              "...                           ...               ...                 ...   \n",
              "122646                Photography    August 6, 2018  Varies with device   \n",
              "122652                Photography    August 6, 2018  Varies with device   \n",
              "122659                Photography    August 6, 2018  Varies with device   \n",
              "122660                Photography    August 6, 2018  Varies with device   \n",
              "122661                Photography    August 6, 2018  Varies with device   \n",
              "\n",
              "               Android Ver                                  Translated_Review  \\\n",
              "0             4.0.3 and up  A kid's excessive ads. The types ads allowed a...   \n",
              "1             4.0.3 and up                                         It bad >:(   \n",
              "2             4.0.3 and up                                               like   \n",
              "3             4.0.3 and up                                                NaN   \n",
              "4             4.0.3 and up                           I love colors inspyering   \n",
              "...                    ...                                                ...   \n",
              "122646  Varies with device           Overall great app. Best gallery seen far   \n",
              "122652  Varies with device  Recommended, 100% love it, keep good work dev ...   \n",
              "122659  Varies with device                                       Too much ads   \n",
              "122660  Varies with device                                Just allow time ...   \n",
              "122661  Varies with device                       It's good best gallery phone   \n",
              "\n",
              "       Sentiment  Sentiment_Polarity  Sentiment_Subjectivity  \n",
              "0       Negative           -0.250000                1.000000  \n",
              "1       Negative           -0.725000                0.833333  \n",
              "2        Neutral            0.000000                0.000000  \n",
              "3            NaN                 NaN                     NaN  \n",
              "4       Positive            0.500000                0.600000  \n",
              "...          ...                 ...                     ...  \n",
              "122646  Positive            0.475000                0.512500  \n",
              "122652  Positive            0.566667                0.733333  \n",
              "122659  Positive            0.200000                0.200000  \n",
              "122660   Neutral            0.000000                0.000000  \n",
              "122661  Positive            0.850000                0.450000  \n",
              "\n",
              "[41661 rows x 17 columns]"
            ],
            "text/html": [
              "\n",
              "  <div id=\"df-46a30bb1-a4c7-4e7e-96c6-1b7b633bb642\" class=\"colab-df-container\">\n",
              "    <div>\n",
              "<style scoped>\n",
              "    .dataframe tbody tr th:only-of-type {\n",
              "        vertical-align: middle;\n",
              "    }\n",
              "\n",
              "    .dataframe tbody tr th {\n",
              "        vertical-align: top;\n",
              "    }\n",
              "\n",
              "    .dataframe thead th {\n",
              "        text-align: right;\n",
              "    }\n",
              "</style>\n",
              "<table border=\"1\" class=\"dataframe\">\n",
              "  <thead>\n",
              "    <tr style=\"text-align: right;\">\n",
              "      <th></th>\n",
              "      <th>App</th>\n",
              "      <th>Category</th>\n",
              "      <th>Rating</th>\n",
              "      <th>Reviews</th>\n",
              "      <th>Size</th>\n",
              "      <th>Installs</th>\n",
              "      <th>Type</th>\n",
              "      <th>Price</th>\n",
              "      <th>Content Rating</th>\n",
              "      <th>Genres</th>\n",
              "      <th>Last Updated</th>\n",
              "      <th>Current Ver</th>\n",
              "      <th>Android Ver</th>\n",
              "      <th>Translated_Review</th>\n",
              "      <th>Sentiment</th>\n",
              "      <th>Sentiment_Polarity</th>\n",
              "      <th>Sentiment_Subjectivity</th>\n",
              "    </tr>\n",
              "  </thead>\n",
              "  <tbody>\n",
              "    <tr>\n",
              "      <th>0</th>\n",
              "      <td>Coloring book moana</td>\n",
              "      <td>ART_AND_DESIGN</td>\n",
              "      <td>3.9</td>\n",
              "      <td>967</td>\n",
              "      <td>14M</td>\n",
              "      <td>500,000+</td>\n",
              "      <td>Free</td>\n",
              "      <td>0</td>\n",
              "      <td>Everyone</td>\n",
              "      <td>Art &amp; Design;Pretend Play</td>\n",
              "      <td>January 15, 2018</td>\n",
              "      <td>2.0.0</td>\n",
              "      <td>4.0.3 and up</td>\n",
              "      <td>A kid's excessive ads. The types ads allowed a...</td>\n",
              "      <td>Negative</td>\n",
              "      <td>-0.250000</td>\n",
              "      <td>1.000000</td>\n",
              "    </tr>\n",
              "    <tr>\n",
              "      <th>1</th>\n",
              "      <td>Coloring book moana</td>\n",
              "      <td>ART_AND_DESIGN</td>\n",
              "      <td>3.9</td>\n",
              "      <td>967</td>\n",
              "      <td>14M</td>\n",
              "      <td>500,000+</td>\n",
              "      <td>Free</td>\n",
              "      <td>0</td>\n",
              "      <td>Everyone</td>\n",
              "      <td>Art &amp; Design;Pretend Play</td>\n",
              "      <td>January 15, 2018</td>\n",
              "      <td>2.0.0</td>\n",
              "      <td>4.0.3 and up</td>\n",
              "      <td>It bad &gt;:(</td>\n",
              "      <td>Negative</td>\n",
              "      <td>-0.725000</td>\n",
              "      <td>0.833333</td>\n",
              "    </tr>\n",
              "    <tr>\n",
              "      <th>2</th>\n",
              "      <td>Coloring book moana</td>\n",
              "      <td>ART_AND_DESIGN</td>\n",
              "      <td>3.9</td>\n",
              "      <td>967</td>\n",
              "      <td>14M</td>\n",
              "      <td>500,000+</td>\n",
              "      <td>Free</td>\n",
              "      <td>0</td>\n",
              "      <td>Everyone</td>\n",
              "      <td>Art &amp; Design;Pretend Play</td>\n",
              "      <td>January 15, 2018</td>\n",
              "      <td>2.0.0</td>\n",
              "      <td>4.0.3 and up</td>\n",
              "      <td>like</td>\n",
              "      <td>Neutral</td>\n",
              "      <td>0.000000</td>\n",
              "      <td>0.000000</td>\n",
              "    </tr>\n",
              "    <tr>\n",
              "      <th>3</th>\n",
              "      <td>Coloring book moana</td>\n",
              "      <td>ART_AND_DESIGN</td>\n",
              "      <td>3.9</td>\n",
              "      <td>967</td>\n",
              "      <td>14M</td>\n",
              "      <td>500,000+</td>\n",
              "      <td>Free</td>\n",
              "      <td>0</td>\n",
              "      <td>Everyone</td>\n",
              "      <td>Art &amp; Design;Pretend Play</td>\n",
              "      <td>January 15, 2018</td>\n",
              "      <td>2.0.0</td>\n",
              "      <td>4.0.3 and up</td>\n",
              "      <td>NaN</td>\n",
              "      <td>NaN</td>\n",
              "      <td>NaN</td>\n",
              "      <td>NaN</td>\n",
              "    </tr>\n",
              "    <tr>\n",
              "      <th>4</th>\n",
              "      <td>Coloring book moana</td>\n",
              "      <td>ART_AND_DESIGN</td>\n",
              "      <td>3.9</td>\n",
              "      <td>967</td>\n",
              "      <td>14M</td>\n",
              "      <td>500,000+</td>\n",
              "      <td>Free</td>\n",
              "      <td>0</td>\n",
              "      <td>Everyone</td>\n",
              "      <td>Art &amp; Design;Pretend Play</td>\n",
              "      <td>January 15, 2018</td>\n",
              "      <td>2.0.0</td>\n",
              "      <td>4.0.3 and up</td>\n",
              "      <td>I love colors inspyering</td>\n",
              "      <td>Positive</td>\n",
              "      <td>0.500000</td>\n",
              "      <td>0.600000</td>\n",
              "    </tr>\n",
              "    <tr>\n",
              "      <th>...</th>\n",
              "      <td>...</td>\n",
              "      <td>...</td>\n",
              "      <td>...</td>\n",
              "      <td>...</td>\n",
              "      <td>...</td>\n",
              "      <td>...</td>\n",
              "      <td>...</td>\n",
              "      <td>...</td>\n",
              "      <td>...</td>\n",
              "      <td>...</td>\n",
              "      <td>...</td>\n",
              "      <td>...</td>\n",
              "      <td>...</td>\n",
              "      <td>...</td>\n",
              "      <td>...</td>\n",
              "      <td>...</td>\n",
              "      <td>...</td>\n",
              "    </tr>\n",
              "    <tr>\n",
              "      <th>122646</th>\n",
              "      <td>A+ Gallery - Photos &amp; Videos</td>\n",
              "      <td>PHOTOGRAPHY</td>\n",
              "      <td>4.5</td>\n",
              "      <td>223941</td>\n",
              "      <td>Varies with device</td>\n",
              "      <td>10,000,000+</td>\n",
              "      <td>Free</td>\n",
              "      <td>0</td>\n",
              "      <td>Everyone</td>\n",
              "      <td>Photography</td>\n",
              "      <td>August 6, 2018</td>\n",
              "      <td>Varies with device</td>\n",
              "      <td>Varies with device</td>\n",
              "      <td>Overall great app. Best gallery seen far</td>\n",
              "      <td>Positive</td>\n",
              "      <td>0.475000</td>\n",
              "      <td>0.512500</td>\n",
              "    </tr>\n",
              "    <tr>\n",
              "      <th>122652</th>\n",
              "      <td>A+ Gallery - Photos &amp; Videos</td>\n",
              "      <td>PHOTOGRAPHY</td>\n",
              "      <td>4.5</td>\n",
              "      <td>223941</td>\n",
              "      <td>Varies with device</td>\n",
              "      <td>10,000,000+</td>\n",
              "      <td>Free</td>\n",
              "      <td>0</td>\n",
              "      <td>Everyone</td>\n",
              "      <td>Photography</td>\n",
              "      <td>August 6, 2018</td>\n",
              "      <td>Varies with device</td>\n",
              "      <td>Varies with device</td>\n",
              "      <td>Recommended, 100% love it, keep good work dev ...</td>\n",
              "      <td>Positive</td>\n",
              "      <td>0.566667</td>\n",
              "      <td>0.733333</td>\n",
              "    </tr>\n",
              "    <tr>\n",
              "      <th>122659</th>\n",
              "      <td>A+ Gallery - Photos &amp; Videos</td>\n",
              "      <td>PHOTOGRAPHY</td>\n",
              "      <td>4.5</td>\n",
              "      <td>223941</td>\n",
              "      <td>Varies with device</td>\n",
              "      <td>10,000,000+</td>\n",
              "      <td>Free</td>\n",
              "      <td>0</td>\n",
              "      <td>Everyone</td>\n",
              "      <td>Photography</td>\n",
              "      <td>August 6, 2018</td>\n",
              "      <td>Varies with device</td>\n",
              "      <td>Varies with device</td>\n",
              "      <td>Too much ads</td>\n",
              "      <td>Positive</td>\n",
              "      <td>0.200000</td>\n",
              "      <td>0.200000</td>\n",
              "    </tr>\n",
              "    <tr>\n",
              "      <th>122660</th>\n",
              "      <td>A+ Gallery - Photos &amp; Videos</td>\n",
              "      <td>PHOTOGRAPHY</td>\n",
              "      <td>4.5</td>\n",
              "      <td>223941</td>\n",
              "      <td>Varies with device</td>\n",
              "      <td>10,000,000+</td>\n",
              "      <td>Free</td>\n",
              "      <td>0</td>\n",
              "      <td>Everyone</td>\n",
              "      <td>Photography</td>\n",
              "      <td>August 6, 2018</td>\n",
              "      <td>Varies with device</td>\n",
              "      <td>Varies with device</td>\n",
              "      <td>Just allow time ...</td>\n",
              "      <td>Neutral</td>\n",
              "      <td>0.000000</td>\n",
              "      <td>0.000000</td>\n",
              "    </tr>\n",
              "    <tr>\n",
              "      <th>122661</th>\n",
              "      <td>A+ Gallery - Photos &amp; Videos</td>\n",
              "      <td>PHOTOGRAPHY</td>\n",
              "      <td>4.5</td>\n",
              "      <td>223941</td>\n",
              "      <td>Varies with device</td>\n",
              "      <td>10,000,000+</td>\n",
              "      <td>Free</td>\n",
              "      <td>0</td>\n",
              "      <td>Everyone</td>\n",
              "      <td>Photography</td>\n",
              "      <td>August 6, 2018</td>\n",
              "      <td>Varies with device</td>\n",
              "      <td>Varies with device</td>\n",
              "      <td>It's good best gallery phone</td>\n",
              "      <td>Positive</td>\n",
              "      <td>0.850000</td>\n",
              "      <td>0.450000</td>\n",
              "    </tr>\n",
              "  </tbody>\n",
              "</table>\n",
              "<p>41661 rows × 17 columns</p>\n",
              "</div>\n",
              "    <div class=\"colab-df-buttons\">\n",
              "\n",
              "  <div class=\"colab-df-container\">\n",
              "    <button class=\"colab-df-convert\" onclick=\"convertToInteractive('df-46a30bb1-a4c7-4e7e-96c6-1b7b633bb642')\"\n",
              "            title=\"Convert this dataframe to an interactive table.\"\n",
              "            style=\"display:none;\">\n",
              "\n",
              "  <svg xmlns=\"http://www.w3.org/2000/svg\" height=\"24px\" viewBox=\"0 -960 960 960\">\n",
              "    <path d=\"M120-120v-720h720v720H120Zm60-500h600v-160H180v160Zm220 220h160v-160H400v160Zm0 220h160v-160H400v160ZM180-400h160v-160H180v160Zm440 0h160v-160H620v160ZM180-180h160v-160H180v160Zm440 0h160v-160H620v160Z\"/>\n",
              "  </svg>\n",
              "    </button>\n",
              "\n",
              "  <style>\n",
              "    .colab-df-container {\n",
              "      display:flex;\n",
              "      gap: 12px;\n",
              "    }\n",
              "\n",
              "    .colab-df-convert {\n",
              "      background-color: #E8F0FE;\n",
              "      border: none;\n",
              "      border-radius: 50%;\n",
              "      cursor: pointer;\n",
              "      display: none;\n",
              "      fill: #1967D2;\n",
              "      height: 32px;\n",
              "      padding: 0 0 0 0;\n",
              "      width: 32px;\n",
              "    }\n",
              "\n",
              "    .colab-df-convert:hover {\n",
              "      background-color: #E2EBFA;\n",
              "      box-shadow: 0px 1px 2px rgba(60, 64, 67, 0.3), 0px 1px 3px 1px rgba(60, 64, 67, 0.15);\n",
              "      fill: #174EA6;\n",
              "    }\n",
              "\n",
              "    .colab-df-buttons div {\n",
              "      margin-bottom: 4px;\n",
              "    }\n",
              "\n",
              "    [theme=dark] .colab-df-convert {\n",
              "      background-color: #3B4455;\n",
              "      fill: #D2E3FC;\n",
              "    }\n",
              "\n",
              "    [theme=dark] .colab-df-convert:hover {\n",
              "      background-color: #434B5C;\n",
              "      box-shadow: 0px 1px 3px 1px rgba(0, 0, 0, 0.15);\n",
              "      filter: drop-shadow(0px 1px 2px rgba(0, 0, 0, 0.3));\n",
              "      fill: #FFFFFF;\n",
              "    }\n",
              "  </style>\n",
              "\n",
              "    <script>\n",
              "      const buttonEl =\n",
              "        document.querySelector('#df-46a30bb1-a4c7-4e7e-96c6-1b7b633bb642 button.colab-df-convert');\n",
              "      buttonEl.style.display =\n",
              "        google.colab.kernel.accessAllowed ? 'block' : 'none';\n",
              "\n",
              "      async function convertToInteractive(key) {\n",
              "        const element = document.querySelector('#df-46a30bb1-a4c7-4e7e-96c6-1b7b633bb642');\n",
              "        const dataTable =\n",
              "          await google.colab.kernel.invokeFunction('convertToInteractive',\n",
              "                                                    [key], {});\n",
              "        if (!dataTable) return;\n",
              "\n",
              "        const docLinkHtml = 'Like what you see? Visit the ' +\n",
              "          '<a target=\"_blank\" href=https://colab.research.google.com/notebooks/data_table.ipynb>data table notebook</a>'\n",
              "          + ' to learn more about interactive tables.';\n",
              "        element.innerHTML = '';\n",
              "        dataTable['output_type'] = 'display_data';\n",
              "        await google.colab.output.renderOutput(dataTable, element);\n",
              "        const docLink = document.createElement('div');\n",
              "        docLink.innerHTML = docLinkHtml;\n",
              "        element.appendChild(docLink);\n",
              "      }\n",
              "    </script>\n",
              "  </div>\n",
              "\n",
              "\n",
              "<div id=\"df-c8bd2b06-cc04-4d63-8f85-05acd5e06b28\">\n",
              "  <button class=\"colab-df-quickchart\" onclick=\"quickchart('df-c8bd2b06-cc04-4d63-8f85-05acd5e06b28')\"\n",
              "            title=\"Suggest charts.\"\n",
              "            style=\"display:none;\">\n",
              "\n",
              "<svg xmlns=\"http://www.w3.org/2000/svg\" height=\"24px\"viewBox=\"0 0 24 24\"\n",
              "     width=\"24px\">\n",
              "    <g>\n",
              "        <path d=\"M19 3H5c-1.1 0-2 .9-2 2v14c0 1.1.9 2 2 2h14c1.1 0 2-.9 2-2V5c0-1.1-.9-2-2-2zM9 17H7v-7h2v7zm4 0h-2V7h2v10zm4 0h-2v-4h2v4z\"/>\n",
              "    </g>\n",
              "</svg>\n",
              "  </button>\n",
              "\n",
              "<style>\n",
              "  .colab-df-quickchart {\n",
              "      --bg-color: #E8F0FE;\n",
              "      --fill-color: #1967D2;\n",
              "      --hover-bg-color: #E2EBFA;\n",
              "      --hover-fill-color: #174EA6;\n",
              "      --disabled-fill-color: #AAA;\n",
              "      --disabled-bg-color: #DDD;\n",
              "  }\n",
              "\n",
              "  [theme=dark] .colab-df-quickchart {\n",
              "      --bg-color: #3B4455;\n",
              "      --fill-color: #D2E3FC;\n",
              "      --hover-bg-color: #434B5C;\n",
              "      --hover-fill-color: #FFFFFF;\n",
              "      --disabled-bg-color: #3B4455;\n",
              "      --disabled-fill-color: #666;\n",
              "  }\n",
              "\n",
              "  .colab-df-quickchart {\n",
              "    background-color: var(--bg-color);\n",
              "    border: none;\n",
              "    border-radius: 50%;\n",
              "    cursor: pointer;\n",
              "    display: none;\n",
              "    fill: var(--fill-color);\n",
              "    height: 32px;\n",
              "    padding: 0;\n",
              "    width: 32px;\n",
              "  }\n",
              "\n",
              "  .colab-df-quickchart:hover {\n",
              "    background-color: var(--hover-bg-color);\n",
              "    box-shadow: 0 1px 2px rgba(60, 64, 67, 0.3), 0 1px 3px 1px rgba(60, 64, 67, 0.15);\n",
              "    fill: var(--button-hover-fill-color);\n",
              "  }\n",
              "\n",
              "  .colab-df-quickchart-complete:disabled,\n",
              "  .colab-df-quickchart-complete:disabled:hover {\n",
              "    background-color: var(--disabled-bg-color);\n",
              "    fill: var(--disabled-fill-color);\n",
              "    box-shadow: none;\n",
              "  }\n",
              "\n",
              "  .colab-df-spinner {\n",
              "    border: 2px solid var(--fill-color);\n",
              "    border-color: transparent;\n",
              "    border-bottom-color: var(--fill-color);\n",
              "    animation:\n",
              "      spin 1s steps(1) infinite;\n",
              "  }\n",
              "\n",
              "  @keyframes spin {\n",
              "    0% {\n",
              "      border-color: transparent;\n",
              "      border-bottom-color: var(--fill-color);\n",
              "      border-left-color: var(--fill-color);\n",
              "    }\n",
              "    20% {\n",
              "      border-color: transparent;\n",
              "      border-left-color: var(--fill-color);\n",
              "      border-top-color: var(--fill-color);\n",
              "    }\n",
              "    30% {\n",
              "      border-color: transparent;\n",
              "      border-left-color: var(--fill-color);\n",
              "      border-top-color: var(--fill-color);\n",
              "      border-right-color: var(--fill-color);\n",
              "    }\n",
              "    40% {\n",
              "      border-color: transparent;\n",
              "      border-right-color: var(--fill-color);\n",
              "      border-top-color: var(--fill-color);\n",
              "    }\n",
              "    60% {\n",
              "      border-color: transparent;\n",
              "      border-right-color: var(--fill-color);\n",
              "    }\n",
              "    80% {\n",
              "      border-color: transparent;\n",
              "      border-right-color: var(--fill-color);\n",
              "      border-bottom-color: var(--fill-color);\n",
              "    }\n",
              "    90% {\n",
              "      border-color: transparent;\n",
              "      border-bottom-color: var(--fill-color);\n",
              "    }\n",
              "  }\n",
              "</style>\n",
              "\n",
              "  <script>\n",
              "    async function quickchart(key) {\n",
              "      const quickchartButtonEl =\n",
              "        document.querySelector('#' + key + ' button');\n",
              "      quickchartButtonEl.disabled = true;  // To prevent multiple clicks.\n",
              "      quickchartButtonEl.classList.add('colab-df-spinner');\n",
              "      try {\n",
              "        const charts = await google.colab.kernel.invokeFunction(\n",
              "            'suggestCharts', [key], {});\n",
              "      } catch (error) {\n",
              "        console.error('Error during call to suggestCharts:', error);\n",
              "      }\n",
              "      quickchartButtonEl.classList.remove('colab-df-spinner');\n",
              "      quickchartButtonEl.classList.add('colab-df-quickchart-complete');\n",
              "    }\n",
              "    (() => {\n",
              "      let quickchartButtonEl =\n",
              "        document.querySelector('#df-c8bd2b06-cc04-4d63-8f85-05acd5e06b28 button');\n",
              "      quickchartButtonEl.style.display =\n",
              "        google.colab.kernel.accessAllowed ? 'block' : 'none';\n",
              "    })();\n",
              "  </script>\n",
              "</div>\n",
              "    </div>\n",
              "  </div>\n"
            ]
          },
          "metadata": {}
        }
      ]
    },
    {
      "cell_type": "markdown",
      "source": [
        "#### Missing Values/Null Values"
      ],
      "metadata": {
        "id": "PoPl-ycgm1ru"
      }
    },
    {
      "cell_type": "code",
      "source": [
        "# Missing Values/Null Values Count\n",
        "missing_values = merged_df.isnull().sum()\n",
        "print(missing_values)"
      ],
      "metadata": {
        "id": "GgHWkxvamxVg",
        "colab": {
          "base_uri": "https://localhost:8080/"
        },
        "outputId": "68763e1f-a1da-419d-b6c8-b89c337a8f47"
      },
      "execution_count": 270,
      "outputs": [
        {
          "output_type": "stream",
          "name": "stdout",
          "text": [
            "App                          0\n",
            "Category                     0\n",
            "Rating                      39\n",
            "Reviews                      0\n",
            "Size                         0\n",
            "Installs                     0\n",
            "Type                         0\n",
            "Price                        0\n",
            "Content Rating               0\n",
            "Genres                       0\n",
            "Last Updated                 0\n",
            "Current Ver                  0\n",
            "Android Ver                  0\n",
            "Translated_Review         1247\n",
            "Sentiment                 1239\n",
            "Sentiment_Polarity        1239\n",
            "Sentiment_Subjectivity    1239\n",
            "dtype: int64\n"
          ]
        }
      ]
    },
    {
      "cell_type": "code",
      "source": [
        "# Visualizing the missing values using the bar plot\n",
        "plt.figure(figsize = (16, 4))\n",
        "sns.barplot( x = missing_values.index, y = missing_values.values)\n",
        "plt.xticks(rotation = 90)\n",
        "plt.xlabel(\"Columns\")\n",
        "plt.ylabel(\"Missing Values Count\")\n",
        "plt.title(\"Missing Values in Each Column\")\n",
        "plt.show()"
      ],
      "metadata": {
        "id": "3q5wnI3om9sJ",
        "colab": {
          "base_uri": "https://localhost:8080/",
          "height": 0
        },
        "outputId": "98357225-dbe7-4490-bd85-3e052544b5ba"
      },
      "execution_count": 271,
      "outputs": [
        {
          "output_type": "display_data",
          "data": {
            "text/plain": [
              "<Figure size 1600x400 with 1 Axes>"
            ],
            "image/png": "[encoded data removed]"
          },
          "metadata": {}
        }
      ]
    },
    {
      "cell_type": "markdown",
      "source": [
        "### What did you know about your dataset?"
      ],
      "metadata": {
        "id": "H0kj-8xxnORC"
      }
    },
    {
      "cell_type": "markdown",
      "source": [
        "**Let us first define what information the columns contain based on our inspection.**\n",
        "\n",
        "merged_df dataframe has 41661 rows × 17 columns. The 17 columns are identified as below:\n",
        "\n",
        "1. App - This column tells us about the name of the application with a short description (optional).\n",
        "2. Category - This column tells the category of the app.\n",
        "3. Rating - This column contains the average rating of the respective app received from its users.\n",
        "4. Reviews - This column tells us about the total number of users who have given a review for the application.\n",
        "5. Size - This column tells us about the size being occupied the application on the mobile phone.\n",
        "6. Installs - This column tells us about the total number of installs/downloads of the application.\n",
        "7. Type - This column states whether the app is free or paid.\n",
        "8. Price - This column gives the price payable to install the app. For free type apps, the price is zero.\n",
        "9. Content Rating - This column states whether or not an app is suitable for all age groups or not.\n",
        "10. Genres - This column tells us about the genre of the application.\n",
        "11. Last Updated - This column tells us that when the application was last updated.\n",
        "12. Current Ver - This column tells us about the current version of the application.\n",
        "13. Android Ver - This column tells us about the android version which can support the application on its platform.\n",
        "14. Translated_Review - This column tells about the review given by the user.\n",
        "15. Sentiment - This columm shows wether the review given by the user is positive or negative or neutral.\n",
        "16. Sentiment_Polarity - This column shows the sentiment popularity.\n",
        "17. Sentiment_Subjectivity -This column gives the sentiment subjectivity."
      ],
      "metadata": {
        "id": "gfoNAAC-nUe_"
      }
    },
    {
      "cell_type": "markdown",
      "source": [
        "## ***2. Understanding Your Variables***"
      ],
      "metadata": {
        "id": "nA9Y7ga8ng1Z"
      }
    },
    {
      "cell_type": "code",
      "source": [
        "# Dataset Columns\n",
        "merged_df.columns"
      ],
      "metadata": {
        "id": "j7xfkqrt5Ag5",
        "colab": {
          "base_uri": "https://localhost:8080/"
        },
        "outputId": "6e3698af-bed8-426d-b2d7-1130dd3e895f"
      },
      "execution_count": 272,
      "outputs": [
        {
          "output_type": "execute_result",
          "data": {
            "text/plain": [
              "Index(['App', 'Category', 'Rating', 'Reviews', 'Size', 'Installs', 'Type',\n",
              "       'Price', 'Content Rating', 'Genres', 'Last Updated', 'Current Ver',\n",
              "       'Android Ver', 'Translated_Review', 'Sentiment', 'Sentiment_Polarity',\n",
              "       'Sentiment_Subjectivity'],\n",
              "      dtype='object')"
            ]
          },
          "metadata": {},
          "execution_count": 272
        }
      ]
    },
    {
      "cell_type": "code",
      "source": [
        "# Dataset Describe\n",
        "merged_df.describe()"
      ],
      "metadata": {
        "id": "DnOaZdaE5Q5t",
        "colab": {
          "base_uri": "https://localhost:8080/",
          "height": 300
        },
        "outputId": "4e7f3c74-a99c-467a-b95c-100bccde9890"
      },
      "execution_count": 273,
      "outputs": [
        {
          "output_type": "execute_result",
          "data": {
            "text/plain": [
              "             Rating  Sentiment_Polarity  Sentiment_Subjectivity\n",
              "count  41622.000000        40422.000000            40422.000000\n",
              "mean       4.323949            0.168339                0.495081\n",
              "std        0.286479            0.343402                0.250631\n",
              "min        2.500000           -1.000000                0.000000\n",
              "25%        4.200000            0.000000                0.373333\n",
              "50%        4.400000            0.136364                0.512971\n",
              "75%        4.500000            0.389983                0.646429\n",
              "max        4.900000            1.000000                1.000000"
            ],
            "text/html": [
              "\n",
              "  <div id=\"df-6528bc39-5d07-439f-a1b5-8329252ab343\" class=\"colab-df-container\">\n",
              "    <div>\n",
              "<style scoped>\n",
              "    .dataframe tbody tr th:only-of-type {\n",
              "        vertical-align: middle;\n",
              "    }\n",
              "\n",
              "    .dataframe tbody tr th {\n",
              "        vertical-align: top;\n",
              "    }\n",
              "\n",
              "    .dataframe thead th {\n",
              "        text-align: right;\n",
              "    }\n",
              "</style>\n",
              "<table border=\"1\" class=\"dataframe\">\n",
              "  <thead>\n",
              "    <tr style=\"text-align: right;\">\n",
              "      <th></th>\n",
              "      <th>Rating</th>\n",
              "      <th>Sentiment_Polarity</th>\n",
              "      <th>Sentiment_Subjectivity</th>\n",
              "    </tr>\n",
              "  </thead>\n",
              "  <tbody>\n",
              "    <tr>\n",
              "      <th>count</th>\n",
              "      <td>41622.000000</td>\n",
              "      <td>40422.000000</td>\n",
              "      <td>40422.000000</td>\n",
              "    </tr>\n",
              "    <tr>\n",
              "      <th>mean</th>\n",
              "      <td>4.323949</td>\n",
              "      <td>0.168339</td>\n",
              "      <td>0.495081</td>\n",
              "    </tr>\n",
              "    <tr>\n",
              "      <th>std</th>\n",
              "      <td>0.286479</td>\n",
              "      <td>0.343402</td>\n",
              "      <td>0.250631</td>\n",
              "    </tr>\n",
              "    <tr>\n",
              "      <th>min</th>\n",
              "      <td>2.500000</td>\n",
              "      <td>-1.000000</td>\n",
              "      <td>0.000000</td>\n",
              "    </tr>\n",
              "    <tr>\n",
              "      <th>25%</th>\n",
              "      <td>4.200000</td>\n",
              "      <td>0.000000</td>\n",
              "      <td>0.373333</td>\n",
              "    </tr>\n",
              "    <tr>\n",
              "      <th>50%</th>\n",
              "      <td>4.400000</td>\n",
              "      <td>0.136364</td>\n",
              "      <td>0.512971</td>\n",
              "    </tr>\n",
              "    <tr>\n",
              "      <th>75%</th>\n",
              "      <td>4.500000</td>\n",
              "      <td>0.389983</td>\n",
              "      <td>0.646429</td>\n",
              "    </tr>\n",
              "    <tr>\n",
              "      <th>max</th>\n",
              "      <td>4.900000</td>\n",
              "      <td>1.000000</td>\n",
              "      <td>1.000000</td>\n",
              "    </tr>\n",
              "  </tbody>\n",
              "</table>\n",
              "</div>\n",
              "    <div class=\"colab-df-buttons\">\n",
              "\n",
              "  <div class=\"colab-df-container\">\n",
              "    <button class=\"colab-df-convert\" onclick=\"convertToInteractive('df-6528bc39-5d07-439f-a1b5-8329252ab343')\"\n",
              "            title=\"Convert this dataframe to an interactive table.\"\n",
              "            style=\"display:none;\">\n",
              "\n",
              "  <svg xmlns=\"http://www.w3.org/2000/svg\" height=\"24px\" viewBox=\"0 -960 960 960\">\n",
              "    <path d=\"M120-120v-720h720v720H120Zm60-500h600v-160H180v160Zm220 220h160v-160H400v160Zm0 220h160v-160H400v160ZM180-400h160v-160H180v160Zm440 0h160v-160H620v160ZM180-180h160v-160H180v160Zm440 0h160v-160H620v160Z\"/>\n",
              "  </svg>\n",
              "    </button>\n",
              "\n",
              "  <style>\n",
              "    .colab-df-container {\n",
              "      display:flex;\n",
              "      gap: 12px;\n",
              "    }\n",
              "\n",
              "    .colab-df-convert {\n",
              "      background-color: #E8F0FE;\n",
              "      border: none;\n",
              "      border-radius: 50%;\n",
              "      cursor: pointer;\n",
              "      display: none;\n",
              "      fill: #1967D2;\n",
              "      height: 32px;\n",
              "      padding: 0 0 0 0;\n",
              "      width: 32px;\n",
              "    }\n",
              "\n",
              "    .colab-df-convert:hover {\n",
              "      background-color: #E2EBFA;\n",
              "      box-shadow: 0px 1px 2px rgba(60, 64, 67, 0.3), 0px 1px 3px 1px rgba(60, 64, 67, 0.15);\n",
              "      fill: #174EA6;\n",
              "    }\n",
              "\n",
              "    .colab-df-buttons div {\n",
              "      margin-bottom: 4px;\n",
              "    }\n",
              "\n",
              "    [theme=dark] .colab-df-convert {\n",
              "      background-color: #3B4455;\n",
              "      fill: #D2E3FC;\n",
              "    }\n",
              "\n",
              "    [theme=dark] .colab-df-convert:hover {\n",
              "      background-color: #434B5C;\n",
              "      box-shadow: 0px 1px 3px 1px rgba(0, 0, 0, 0.15);\n",
              "      filter: drop-shadow(0px 1px 2px rgba(0, 0, 0, 0.3));\n",
              "      fill: #FFFFFF;\n",
              "    }\n",
              "  </style>\n",
              "\n",
              "    <script>\n",
              "      const buttonEl =\n",
              "        document.querySelector('#df-6528bc39-5d07-439f-a1b5-8329252ab343 button.colab-df-convert');\n",
              "      buttonEl.style.display =\n",
              "        google.colab.kernel.accessAllowed ? 'block' : 'none';\n",
              "\n",
              "      async function convertToInteractive(key) {\n",
              "        const element = document.querySelector('#df-6528bc39-5d07-439f-a1b5-8329252ab343');\n",
              "        const dataTable =\n",
              "          await google.colab.kernel.invokeFunction('convertToInteractive',\n",
              "                                                    [key], {});\n",
              "        if (!dataTable) return;\n",
              "\n",
              "        const docLinkHtml = 'Like what you see? Visit the ' +\n",
              "          '<a target=\"_blank\" href=https://colab.research.google.com/notebooks/data_table.ipynb>data table notebook</a>'\n",
              "          + ' to learn more about interactive tables.';\n",
              "        element.innerHTML = '';\n",
              "        dataTable['output_type'] = 'display_data';\n",
              "        await google.colab.output.renderOutput(dataTable, element);\n",
              "        const docLink = document.createElement('div');\n",
              "        docLink.innerHTML = docLinkHtml;\n",
              "        element.appendChild(docLink);\n",
              "      }\n",
              "    </script>\n",
              "  </div>\n",
              "\n",
              "\n",
              "<div id=\"df-fb63e997-e43a-484c-8ae3-06ff65106541\">\n",
              "  <button class=\"colab-df-quickchart\" onclick=\"quickchart('df-fb63e997-e43a-484c-8ae3-06ff65106541')\"\n",
              "            title=\"Suggest charts.\"\n",
              "            style=\"display:none;\">\n",
              "\n",
              "<svg xmlns=\"http://www.w3.org/2000/svg\" height=\"24px\"viewBox=\"0 0 24 24\"\n",
              "     width=\"24px\">\n",
              "    <g>\n",
              "        <path d=\"M19 3H5c-1.1 0-2 .9-2 2v14c0 1.1.9 2 2 2h14c1.1 0 2-.9 2-2V5c0-1.1-.9-2-2-2zM9 17H7v-7h2v7zm4 0h-2V7h2v10zm4 0h-2v-4h2v4z\"/>\n",
              "    </g>\n",
              "</svg>\n",
              "  </button>\n",
              "\n",
              "<style>\n",
              "  .colab-df-quickchart {\n",
              "      --bg-color: #E8F0FE;\n",
              "      --fill-color: #1967D2;\n",
              "      --hover-bg-color: #E2EBFA;\n",
              "      --hover-fill-color: #174EA6;\n",
              "      --disabled-fill-color: #AAA;\n",
              "      --disabled-bg-color: #DDD;\n",
              "  }\n",
              "\n",
              "  [theme=dark] .colab-df-quickchart {\n",
              "      --bg-color: #3B4455;\n",
              "      --fill-color: #D2E3FC;\n",
              "      --hover-bg-color: #434B5C;\n",
              "      --hover-fill-color: #FFFFFF;\n",
              "      --disabled-bg-color: #3B4455;\n",
              "      --disabled-fill-color: #666;\n",
              "  }\n",
              "\n",
              "  .colab-df-quickchart {\n",
              "    background-color: var(--bg-color);\n",
              "    border: none;\n",
              "    border-radius: 50%;\n",
              "    cursor: pointer;\n",
              "    display: none;\n",
              "    fill: var(--fill-color);\n",
              "    height: 32px;\n",
              "    padding: 0;\n",
              "    width: 32px;\n",
              "  }\n",
              "\n",
              "  .colab-df-quickchart:hover {\n",
              "    background-color: var(--hover-bg-color);\n",
              "    box-shadow: 0 1px 2px rgba(60, 64, 67, 0.3), 0 1px 3px 1px rgba(60, 64, 67, 0.15);\n",
              "    fill: var(--button-hover-fill-color);\n",
              "  }\n",
              "\n",
              "  .colab-df-quickchart-complete:disabled,\n",
              "  .colab-df-quickchart-complete:disabled:hover {\n",
              "    background-color: var(--disabled-bg-color);\n",
              "    fill: var(--disabled-fill-color);\n",
              "    box-shadow: none;\n",
              "  }\n",
              "\n",
              "  .colab-df-spinner {\n",
              "    border: 2px solid var(--fill-color);\n",
              "    border-color: transparent;\n",
              "    border-bottom-color: var(--fill-color);\n",
              "    animation:\n",
              "      spin 1s steps(1) infinite;\n",
              "  }\n",
              "\n",
              "  @keyframes spin {\n",
              "    0% {\n",
              "      border-color: transparent;\n",
              "      border-bottom-color: var(--fill-color);\n",
              "      border-left-color: var(--fill-color);\n",
              "    }\n",
              "    20% {\n",
              "      border-color: transparent;\n",
              "      border-left-color: var(--fill-color);\n",
              "      border-top-color: var(--fill-color);\n",
              "    }\n",
              "    30% {\n",
              "      border-color: transparent;\n",
              "      border-left-color: var(--fill-color);\n",
              "      border-top-color: var(--fill-color);\n",
              "      border-right-color: var(--fill-color);\n",
              "    }\n",
              "    40% {\n",
              "      border-color: transparent;\n",
              "      border-right-color: var(--fill-color);\n",
              "      border-top-color: var(--fill-color);\n",
              "    }\n",
              "    60% {\n",
              "      border-color: transparent;\n",
              "      border-right-color: var(--fill-color);\n",
              "    }\n",
              "    80% {\n",
              "      border-color: transparent;\n",
              "      border-right-color: var(--fill-color);\n",
              "      border-bottom-color: var(--fill-color);\n",
              "    }\n",
              "    90% {\n",
              "      border-color: transparent;\n",
              "      border-bottom-color: var(--fill-color);\n",
              "    }\n",
              "  }\n",
              "</style>\n",
              "\n",
              "  <script>\n",
              "    async function quickchart(key) {\n",
              "      const quickchartButtonEl =\n",
              "        document.querySelector('#' + key + ' button');\n",
              "      quickchartButtonEl.disabled = true;  // To prevent multiple clicks.\n",
              "      quickchartButtonEl.classList.add('colab-df-spinner');\n",
              "      try {\n",
              "        const charts = await google.colab.kernel.invokeFunction(\n",
              "            'suggestCharts', [key], {});\n",
              "      } catch (error) {\n",
              "        console.error('Error during call to suggestCharts:', error);\n",
              "      }\n",
              "      quickchartButtonEl.classList.remove('colab-df-spinner');\n",
              "      quickchartButtonEl.classList.add('colab-df-quickchart-complete');\n",
              "    }\n",
              "    (() => {\n",
              "      let quickchartButtonEl =\n",
              "        document.querySelector('#df-fb63e997-e43a-484c-8ae3-06ff65106541 button');\n",
              "      quickchartButtonEl.style.display =\n",
              "        google.colab.kernel.accessAllowed ? 'block' : 'none';\n",
              "    })();\n",
              "  </script>\n",
              "</div>\n",
              "    </div>\n",
              "  </div>\n"
            ]
          },
          "metadata": {},
          "execution_count": 273
        }
      ]
    },
    {
      "cell_type": "markdown",
      "source": [
        "### Variables Description"
      ],
      "metadata": {
        "id": "PBTbrJXOngz2"
      }
    },
    {
      "cell_type": "markdown",
      "source": [
        "Answer Here"
      ],
      "metadata": {
        "id": "aJV4KIxSnxay"
      }
    },
    {
      "cell_type": "markdown",
      "source": [
        "### Check Unique Values for each variable."
      ],
      "metadata": {
        "id": "u3PMJOP6ngxN"
      }
    },
    {
      "cell_type": "code",
      "source": [
        "# Check Unique Values for each variable.\n",
        "unique_values_per_column = {}\n",
        "for column in merged_df.columns:\n",
        "    unique_values_per_column[column] = merged_df[column].unique()\n",
        "\n",
        "# Display unique values for each variable\n",
        "for column, values in unique_values_per_column.items():\n",
        "    print(f\"Unique values for '{column}': {len(values)}\")\n",
        "    print(values)\n",
        "    print()"
      ],
      "metadata": {
        "id": "zms12Yq5n-jE",
        "colab": {
          "base_uri": "https://localhost:8080/"
        },
        "outputId": "a978f1f9-85a7-4f4e-80bf-4dcd055b0127"
      },
      "execution_count": 274,
      "outputs": [
        {
          "output_type": "stream",
          "name": "stdout",
          "text": [
            "Unique values for 'App': 1020\n",
            "['Coloring book moana' 'Garden Coloring Book'\n",
            " '3D Color Pixel by Number - Sandbox Art Coloring' ...\n",
            " 'Diary with lock password' 'Avakin Life - 3D virtual world'\n",
            " 'A+ Gallery - Photos & Videos']\n",
            "\n",
            "Unique values for 'Category': 33\n",
            "['ART_AND_DESIGN' 'FAMILY' 'AUTO_AND_VEHICLES' 'BEAUTY'\n",
            " 'BOOKS_AND_REFERENCE' 'BUSINESS' 'COMMUNICATION' 'COMICS' 'DATING'\n",
            " 'TOOLS' 'EDUCATION' 'ENTERTAINMENT' 'EVENTS' 'FINANCE' 'FOOD_AND_DRINK'\n",
            " 'HEALTH_AND_FITNESS' 'HOUSE_AND_HOME' 'LIBRARIES_AND_DEMO' 'LIFESTYLE'\n",
            " 'GAME' 'SPORTS' 'MEDICAL' 'SOCIAL' 'SHOPPING' 'PHOTOGRAPHY'\n",
            " 'TRAVEL_AND_LOCAL' 'PERSONALIZATION' 'PRODUCTIVITY' 'PARENTING' 'WEATHER'\n",
            " 'VIDEO_PLAYERS' 'NEWS_AND_MAGAZINES' 'MAPS_AND_NAVIGATION']\n",
            "\n",
            "Unique values for 'Rating': 24\n",
            "[3.9 4.4 4.3 4.1 4.7 4.5 4.2 4.9 4.6 4.  4.8 3.4 3.5 3.8 3.2 3.7 2.6 3.3\n",
            " 3.  2.5 3.6 3.1 nan 2.7]\n",
            "\n",
            "Unique values for 'Reviews': 1330\n",
            "['967' '974' '13791' ... '179139' '1275373' '223941']\n",
            "\n",
            "Unique values for 'Size': 178\n",
            "['14M' '33M' '37M' '39M' '12M' '25M' '6.1M' '11M' 'Varies with device'\n",
            " '15M' '24M' '17M' '2.4M' '27M' '16M' '2.9M' '38M' '21M' '52M' '8.2M'\n",
            " '4.2M' '2.8M' '5.0M' '5.9M' '19M' '73M' '6.8M' '4.0M' '10M' '2.1M' '42M'\n",
            " '30M' '29M' '3.9M' '18M' '3.2M' '20M' '26M' '48M' '22M' '8.5M' '28M'\n",
            " '46M' '23M' '7.1M' '40M' '7.8M' '6.6M' '5.1M' '79k' '32M' '2.2M' '4.7M'\n",
            " '2.7M' '13M' '118k' '44M' '7.3M' '695k' '6.2M' '56M' '3.1M' '31M' '8.0M'\n",
            " '7.9M' '1.4M' '7.2M' '3.8M' '41M' '9.0M' '4.9M' '8.1M' '3.7M' '4.5M'\n",
            " '2.6M' '6.9M' '7.4M' '1.9M' '1.8M' '2.3M' '5.2M' '1.2M' '59M' '5.6M'\n",
            " '72M' '9.6M' '43M' '3.6M' '9.5M' '8.9M' '65M' '79M' '8.4M' '58M' '50M'\n",
            " '45M' '53M' '68M' '66M' '35M' '76M' '9.4M' '4.3M' '67M' '60M' '5.5M'\n",
            " '3.3M' '7.5M' '9.1M' '8.3M' '9.2M' '7.0M' '77M' '5.7M' '5.3M' '232k'\n",
            " '99M' '624k' '95M' '8.5k' '292k' '55M' '80M' '4.4M' '36M' '3.0M' '1.7M'\n",
            " '4.6M' '7.7M' '74M' '97M' '98M' '78M' '85M' '63M' '70M' '71M' '49M' '82M'\n",
            " '57M' '86M' '81M' '96M' '93M' '83M' '54M' '61M' '75M' '51M' '91M' '1.6M'\n",
            " '47M' '6.4M' '34M' '2.0M' '1.5M' '62M' '4.1M' '9.3M' '9.7M' '8.7M' '9.8M'\n",
            " '6.0M' '6.5M' '88M' '7.6M' '10.0M' '5.8M' '1.3M' '9.9M' '3.5M' '5.4M'\n",
            " '853k' '720k' '3.4M' '6.3M' '92M' '94M']\n",
            "\n",
            "Unique values for 'Installs': 13\n",
            "['500,000+' '1,000,000+' '100,000+' '5,000,000+' '10,000+' '10,000,000+'\n",
            " '100,000,000+' '1,000,000,000+' '50,000,000+' '500,000,000+' '1,000+'\n",
            " '50,000+' '5,000+']\n",
            "\n",
            "Unique values for 'Type': 2\n",
            "['Free' 'Paid']\n",
            "\n",
            "Unique values for 'Price': 14\n",
            "['0' '$6.99' '$1.99' '$4.99' '$3.99' '$2.99' '$11.99' '$9.99' '$7.99'\n",
            " '$33.99' '$3.95' '$29.99' '$2.49' '$0.99']\n",
            "\n",
            "Unique values for 'Content Rating': 5\n",
            "['Everyone' 'Teen' 'Mature 17+' 'Everyone 10+' 'Adults only 18+']\n",
            "\n",
            "Unique values for 'Genres': 73\n",
            "['Art & Design;Pretend Play' 'Art & Design' 'Art & Design;Creativity'\n",
            " 'Auto & Vehicles' 'Beauty' 'Books & Reference' 'Business' 'Communication'\n",
            " 'Comics' 'Dating' 'Tools' 'Education;Education' 'Education'\n",
            " 'Entertainment' 'Entertainment;Creativity' 'Events' 'Finance'\n",
            " 'Food & Drink' 'Health & Fitness' 'House & Home' 'Libraries & Demo'\n",
            " 'Lifestyle' 'Casual' 'Puzzle;Brain Games' 'Arcade' 'Casual;Pretend Play'\n",
            " 'Strategy' 'Action' 'Puzzle' 'Sports' 'Casual;Creativity' 'Racing'\n",
            " 'Simulation' 'Board' 'Adventure' 'Role Playing' 'Simulation;Education'\n",
            " 'Action;Action & Adventure' 'Casual;Brain Games'\n",
            " 'Simulation;Action & Adventure' 'Educational;Creativity'\n",
            " 'Educational;Education' 'Educational;Pretend Play' 'Casual;Education'\n",
            " 'Racing;Action & Adventure' 'Entertainment;Music & Video'\n",
            " 'Educational;Brain Games' 'Casual;Action & Adventure'\n",
            " 'Education;Pretend Play' 'Simulation;Pretend Play'\n",
            " 'Sports;Action & Adventure' 'Role Playing;Action & Adventure'\n",
            " 'Arcade;Action & Adventure' 'Puzzle;Action & Adventure'\n",
            " 'Board;Brain Games' 'Role Playing;Pretend Play' 'Card;Action & Adventure'\n",
            " 'Medical' 'Social' 'Shopping' 'Photography' 'Travel & Local'\n",
            " 'Travel & Local;Action & Adventure' 'Personalization' 'Productivity'\n",
            " 'Parenting;Education' 'Parenting' 'Parenting;Music & Video' 'Weather'\n",
            " 'Video Players & Editors' 'Video Players & Editors;Music & Video'\n",
            " 'News & Magazines' 'Maps & Navigation']\n",
            "\n",
            "Unique values for 'Last Updated': 299\n",
            "['January 15, 2018' 'September 20, 2017' 'August 3, 2018' 'March 20, 2018'\n",
            " 'October 11, 2017' 'March 21, 2018' 'July 19, 2018' 'January 6, 2018'\n",
            " 'July 14, 2018' 'July 20, 2018' 'July 31, 2018' 'July 3, 2018'\n",
            " 'June 12, 2018' 'July 11, 2018' 'March 27, 2018' 'August 4, 2018'\n",
            " 'July 29, 2018' 'August 2, 2018' 'July 12, 2018' 'February 28, 2018'\n",
            " 'July 25, 2018' 'May 10, 2018' 'August 3, 2017' 'May 24, 2018'\n",
            " 'May 14, 2018' 'March 1, 2017' 'July 27, 2018' 'July 17, 2015'\n",
            " 'May 18, 2018' 'June 28, 2018' 'January 21, 2018' 'August 1, 2018'\n",
            " 'May 27, 2018' 'June 25, 2018' 'November 23, 2017' 'August 28, 2017'\n",
            " 'August 20, 2016' 'July 28, 2018' 'February 15, 2018' 'July 17, 2018'\n",
            " 'April 2, 2018' 'July 24, 2018' 'July 8, 2018' 'June 26, 2018'\n",
            " 'August 6, 2018' 'June 21, 2018' 'July 26, 2018' 'June 8, 2018'\n",
            " 'July 30, 2018' 'April 18, 2018' 'February 13, 2018' 'June 29, 2018'\n",
            " 'May 23, 2018' 'June 5, 2018' 'May 26, 2018' 'June 16, 2018'\n",
            " 'July 21, 2018' 'July 10, 2018' 'June 19, 2018' 'July 2, 2018'\n",
            " 'July 6, 2018' 'June 27, 2018' 'September 2, 2015' 'April 19, 2018'\n",
            " 'January 23, 2018' 'April 1, 2016' 'March 5, 2017' 'May 15, 2018'\n",
            " 'June 22, 2018' 'July 5, 2018' 'June 7, 2016' 'April 3, 2018'\n",
            " 'July 6, 2014' 'October 25, 2017' 'November 21, 2017' 'January 27, 2017'\n",
            " 'February 3, 2017' 'February 25, 2016' 'June 20, 2018' 'May 21, 2018'\n",
            " 'December 28, 2017' 'July 7, 2018' 'February 1, 2017' 'June 1, 2018'\n",
            " 'May 31, 2018' 'March 29, 2018' 'July 23, 2018' 'February 16, 2018'\n",
            " 'July 9, 2018' 'July 18, 2018' 'October 23, 2016' 'March 9, 2018'\n",
            " 'August 17, 2017' 'August 21, 2014' 'August 22, 2015' 'June 28, 2015'\n",
            " 'April 29, 2015' 'December 2, 2013' 'June 6, 2018' 'September 20, 2016'\n",
            " 'December 20, 2016' 'January 11, 2015' 'July 16, 2018'\n",
            " 'September 14, 2016' 'June 11, 2018' 'March 5, 2018' 'April 12, 2018'\n",
            " 'June 15, 2018' 'July 13, 2018' 'July 7, 2017' 'May 4, 2018'\n",
            " 'May 29, 2018' 'December 4, 2017' 'June 23, 2018' 'May 8, 2018'\n",
            " 'May 25, 2018' 'June 9, 2018' 'June 18, 2018' 'July 22, 2018'\n",
            " 'June 7, 2017' 'March 13, 2018' 'May 9, 2018' 'May 30, 2018'\n",
            " 'October 18, 2017' 'April 25, 2018' 'April 10, 2018' 'June 14, 2018'\n",
            " 'July 28, 2016' 'May 17, 2018' 'August 5, 2018' 'February 17, 2017'\n",
            " 'August 27, 2016' 'July 15, 2018' 'March 22, 2018' 'January 29, 2018'\n",
            " 'July 23, 2014' 'February 18, 2018' 'March 13, 2015' 'April 7, 2015'\n",
            " 'March 12, 2015' 'March 6, 2013' 'January 17, 2012' 'September 27, 2017'\n",
            " 'March 14, 2016' 'June 29, 2011' 'February 20, 2018' 'January 9, 2018'\n",
            " 'April 26, 2018' 'December 20, 2017' 'November 3, 2016' 'June 30, 2018'\n",
            " 'June 30, 2016' 'December 17, 2016' 'September 27, 2016'\n",
            " 'August 29, 2017' 'April 30, 2014' 'March 8, 2017' 'September 13, 2017'\n",
            " 'April 17, 2018' 'April 9, 2018' 'March 6, 2018' 'April 13, 2018'\n",
            " 'April 11, 2018' 'August 7, 2018' 'December 22, 2017' 'May 3, 2018'\n",
            " 'April 12, 2017' 'March 14, 2017' 'October 12, 2017' 'June 4, 2018'\n",
            " 'July 4, 2018' 'July 17, 2017' 'May 22, 2018' 'February 1, 2018'\n",
            " 'October 6, 2017' 'March 23, 2018' 'February 7, 2018' 'March 28, 2018'\n",
            " 'August 31, 2017' 'July 22, 2016' 'February 18, 2016' 'August 2, 2017'\n",
            " 'June 7, 2018' 'September 8, 2016' 'June 13, 2018' 'January 31, 2018'\n",
            " 'August 4, 2017' 'December 9, 2014' 'December 30, 2016'\n",
            " 'February 11, 2016' 'August 7, 2014' 'January 8, 2017' 'October 2, 2017'\n",
            " 'March 14, 2015' 'January 2, 2018' 'October 17, 2016' 'May 2, 2018'\n",
            " 'March 24, 2018' 'December 11, 2017' 'October 22, 2013'\n",
            " 'September 6, 2016' 'January 18, 2015' 'April 5, 2017'\n",
            " 'September 12, 2016' 'June 8, 2016' 'February 29, 2016' 'May 18, 2017'\n",
            " 'July 25, 2015' 'December 1, 2017' 'March 5, 2015' 'February 6, 2018'\n",
            " 'November 22, 2017' 'February 10, 2015' 'November 10, 2017'\n",
            " 'October 17, 2015' 'April 6, 2017' 'January 19, 2017' 'February 11, 2018'\n",
            " 'March 15, 2017' 'April 23, 2018' 'June 23, 2017' 'September 8, 2017'\n",
            " 'March 14, 2018' 'August 23, 2016' 'December 6, 2016' 'March 21, 2016'\n",
            " 'November 13, 2017' 'August 9, 2017' 'July 14, 2015' 'August 10, 2016'\n",
            " 'July 27, 2016' 'March 21, 2017' 'May 12, 2017' 'April 22, 2014'\n",
            " 'March 16, 2018' 'January 22, 2018' 'December 29, 2017'\n",
            " 'December 14, 2017' 'October 27, 2017' 'November 18, 2017' 'May 12, 2018'\n",
            " 'June 18, 2017' 'February 25, 2018' 'July 25, 2017' 'September 17, 2017'\n",
            " 'February 2, 2018' 'September 25, 2017' 'March 9, 2017' 'July 1, 2018'\n",
            " 'January 22, 2017' 'August 24, 2016' 'October 20, 2016'\n",
            " 'December 7, 2016' 'May 11, 2016' 'April 4, 2014' 'March 17, 2018'\n",
            " 'November 20, 2017' 'September 14, 2017' 'May 1, 2014' 'October 29, 2017'\n",
            " 'December 8, 2017' 'October 9, 2017' 'April 22, 2016' 'April 14, 2017'\n",
            " 'December 27, 2017' 'March 15, 2018' 'August 7, 2016' 'December 11, 2016'\n",
            " 'December 19, 2015' 'January 24, 2016' 'September 30, 2013'\n",
            " 'January 16, 2017' 'April 29, 2018' 'January 8, 2018' 'March 30, 2018'\n",
            " 'March 19, 2018' 'August 10, 2017' 'July 29, 2017' 'December 3, 2015'\n",
            " 'February 13, 2015' 'February 3, 2015' 'June 3, 2016' 'January 13, 2018'\n",
            " 'March 11, 2016' 'May 25, 2017' 'August 9, 2016' 'November 6, 2017'\n",
            " 'December 4, 2016' 'January 5, 2017' 'April 22, 2018' 'June 16, 2017'\n",
            " 'December 30, 2017' 'May 13, 2018' 'February 27, 2018' 'May 19, 2017'\n",
            " 'August 24, 2015' 'May 4, 2015' 'May 3, 2017' 'November 1, 2017']\n",
            "\n",
            "Unique values for 'Current Ver': 598\n",
            "['2.0.0' '2.9.2' '1.2.3' '2.2.5' '1.1' '1.0.8' '1.03' '2.20' '1.1.0'\n",
            " 'Varies with device' '2.0.1' '1.6.1' '1.7' '1.37' '1.6' '1.0.3' '1.0.6'\n",
            " '1.9' '1.0.2.0' '2.1' '1.0' '2.0.075' '1.911805270' '2.3.18' '5.0.6'\n",
            " '2.0' '6.0.8' '9.00.950462' '3.05' '2.5.3' '7.0.4.6' '1.15' '3.1.7.9'\n",
            " '3.9.1' '3.4.2' '2.19.0.204537701' '3.3' '3.550.2' '1.1.13' '5.86'\n",
            " '99.0.0.35.75' '3.9.2' '1.12.0' '1.7.14' '3.19.005' '6.1.2' '6.4.4'\n",
            " '3.7.5' '2.6.158' '5.20.7' '11.1.0' '3.0.4651' '3.3.0' '2.22.397' '3.1.0'\n",
            " '1.7.7' '1.01' '2.8.4.201036949' '1.3.4' '24.6.6' '3.2.0.100171' '5.2'\n",
            " '69.0.3497.24' '37.1.206017801.DR37_RC14' '0.1.100944346' '3.0.4' '7.73'\n",
            " '5.65.0' '5.22.18.0006' '1.4.1.0' '6.4.0.4' '5.85.1' '196' '3.5.0'\n",
            " '8.1.2-6310' '1.286' '2.17.3' '5.28.0' '1.9.4.74' '5.0.9' '2.8' '1.1.6'\n",
            " '2.5.2' '6.1.3' '4.17.2' '3.5.0.1' '4.19.0.2320' '1.639' '2.5.1' '1.9.7'\n",
            " '1.308.us' '5.0.1' '4.5.5' '1.6.5' '1.31.4' '1.230' '2.2' '15.8' '4.8.5'\n",
            " '2.9.6' '1.0.5' '1.5' '2.0.5' '2.2.0.1748' '3.0.15' '12.0.4' '6.4.1'\n",
            " '8.7.2' '2.8.0' '3.4.1.1' '5.5.7' '1.5.4.0' '5.2.9' '4.3.2' '4.4.1' '8.2'\n",
            " '4.813' '2.1.8' '20.7.2' '1.17' '2.2.4' '3.0' '2.8.1' '1.2.0' '2.9'\n",
            " '8.5.2' '2.3.1' '15.9.4' '9.12.5' '9.12.6' '4.21.1' '2.6.6' '5.7.0'\n",
            " '2.4.4' '5.7.1' '4.6.2' '3.0.231.18141' '2.19.0' '2.1.1' '6.18.3' '2.9.4'\n",
            " '01.01.66' '4.8.6' '3.1.4' '11.45.0' '1.16' '16.0.0.437' '6.6.1' '2.3.2'\n",
            " '8.1' '8.4' '4.3.6' '3.8' '1.3' '11.1.1' '20.1.0' '2.31.1' '2.6.0'\n",
            " '5.10.1.40699' '5.38.1' '2.70.206190089' '6.0.16' '2.29.01' '2.0.4'\n",
            " '5.1.1' '2.1.4' '1.17.1' '1.18.0' '3.1.16' '2.9.5' '1.9.9.9.3' '2.10.3'\n",
            " '6.8.2' '3.0.22' '6.0.6' '4.2.1' '2.131' '6.0.2' '5.1' '4.10.0' '5.9.1.0'\n",
            " '7.8.8' '9.7.0' '6.7.0' '9.9.0' '3.52' '6.29.37589' '2.12' '1.9.117'\n",
            " '5.0.0' '7.12' '6.0.1' '2.1.0' '3.2.0' '4.0.0.427' '24.5.0'\n",
            " '2.76.2.0-android' '5.7.23' '3.1.14' '2.4.11' '1.0.2' '1.1.22' '1.0.12'\n",
            " '3.0.7' '2.8.2' '2.6' '112.0' '3.48' '5.3' '4.4' '6.2.73' '6.7' '2.6.1'\n",
            " '3.0.0' '3.6.4' '7.3.4-play' '2.9.18' '10.24' '8.8.14' '4.5.4' '6.5.1'\n",
            " '2.3.4' '10.2.0' '1.0.9' '1.31.0-15160.950adac99' '9.6.8' '6.7.12.2018'\n",
            " '3.6' '3.2.4' '2.4.2' '4.7.13' '4.3.0' '1.2' '1.4' '5.20.38' '7.0' '5.0'\n",
            " '1.02' '1.8' '2.4' '8.0' '4.2.2' '5.1.2' '2.5' '5.2.4(881)' '2.2.9'\n",
            " '4.90' '3.7' '16.7.1' '8.00.775375' '9.6.3' '1.5.1' '7.0.8' '10.0'\n",
            " '3.1.2.1' '1.6.2' '9.1.0' '2.2.6' '12.1.0' '3.6.3' '1.129.0.2' '1.20.1'\n",
            " '2.3.3122' '2.6.9' '1.118.4' '10.322.16' '4.0.0' '4.8.4' '1.4.0.1'\n",
            " '7.9.3' '4.0' '2.21.5' '5.66' '3.5' '1.3.7' '2.1.10' '1.37.2' '2.6.2'\n",
            " '5.1.8' '5.2.6' '3.7.2' '1.21.0' '2.12.5' '5.064' '3.3.3179' '1.17.2'\n",
            " '2.10.2' '1.9.2' '2.0.6' '1.0.1.049' '2.5.0' '1.7.2' '1.8.2' '1.4.51'\n",
            " '1.1.1' '1.11.0' '1.2.2' '1.8.0.900' '2.1.1.4.0' '1.5.2' '2.0.2'\n",
            " '3.30.4.83' '2.0081_206' '1.3.3' '2.2.1' '1.0.11' '2.21.1' '1.13.12'\n",
            " '5.8.1' '2.3.5' '1.8.225278' '3.0.2' '1.1.40' '1.7.1' '1.8.20' '1.1.5'\n",
            " '2.11.1' '3.1.1' '1.1.7' '2.2.8' '0.5.8' '1.2.6' '1.2.7' '1.15.2'\n",
            " '2.6.61' '1.9.1' '57.0.8' '2.9.3181' '1.0.109' '60' '1.4.12' '1.49'\n",
            " '2.0.3165' '2.2.3169' '1.0.3122' '8.25.10.00' '6.1' '3.5.3183' '8.4.3180'\n",
            " '1.4.4' '2.2.3172' '1.0.89' '2.0.5.0' '8.25.10.01' '1.6.4' '2.0.7.4'\n",
            " '1.2.1' '149' '1.1.9' '3.2.0h' '37893' '3.200.18289' '1.19' '1.0.4'\n",
            " '1.15.3028.0' '2.72' '4.0.2' '2.9.7' '2.2.3' '4.2' '20180609' '2.0.7'\n",
            " '3.46' '3.53' '1.38.0' '7.2.0' '28.0.14' '1.1.3' '3.0.5' '4.4.5' '2.1.35'\n",
            " '5.4.8' '3.27.3' '3.25.0' '8.0.226' '7.4.1' '1.4.6' '4.36' '2.25.0'\n",
            " '2.1.3' '2.15' '4.6.0' '2.4.0' '1.3.185' '4.4.7' '4.3.2.315' '4.5.2'\n",
            " '4.5.1' '2.1.0.372' '2.7.36' '1.0.0.10' '10.4.1.015_05' '4.0.9' '0.6.88'\n",
            " '4.0.5' '2.4.12' '1.8.19179' '13.0' '8.00.752746' '3.8.1' '7.0.7'\n",
            " '4.6.2.0' '3.4.5' '1.8.0' '16.14.0.850' '16.14.0.100' '6.0.4' '7.8.1'\n",
            " '29.14' '4.89' '3.0.3' '4.31.2' '5.0.2' '3.13.09' '11.6.0' '5.3.1'\n",
            " '4.4.9' '2.18.2' '2.1.9' '5.0.508' '7.6.5' '1.8.5' '22.0' '6.9.031' '4.1'\n",
            " '2.74.685' '1.6.0' '4.7.3' '4.47' '9.3.1' '1.32' '3.31.4' '2.2.93'\n",
            " '6.2.9' '1.5.5' '4.6.0.0' '5.5.2' '6.4.3' '4.5' '4.0.7' '3.3.5' '4.3.1'\n",
            " '1004.0' '5.3.0' '2.9.9go' '3.17.0+3' '4.5.19.56' '1.31.0' '8.9.3'\n",
            " '4.18.0' '2.46.1' '3.21.324' '7.0.2' '2.5.7.1' '4.4.15' '5.5.9' '18.30.0'\n",
            " '10.9.8 (Play)' '6.7.1' '1.10.0.205086730' '4.6' '9.2.17.13'\n",
            " '5.2.0 21127' '5.10.6.2.8466393' '5.0.4' '3.9.7' '5.16.1' '3.1.3'\n",
            " '4.0.9.1' '1.1.2' '7.8.0' '4.13.2' '8.8.2' '17.7.8' '4.20' '3.6.6'\n",
            " '53.89.55' '4.9.2' '4.0.38' '8.1.171' '1.28.1' '3.1.2' 'v8.0.1.8.0629.1'\n",
            " '8.1.6' '1.0.204375696' 'v7.0.7.1.0625.1_06_0629' '3.2'\n",
            " '1.8.203182757.armeabi-v7a.release' '1.5.0' '9.7.753080' '10.4' '1.2.5'\n",
            " '1.4.9' '8.10.1' '1.4.0' '2.4.1' '3.5.6' '32.1' '2.2.7' '3.1.00' '1.51'\n",
            " '4.0.6' '1.6.11' '6.1.0' '2.5.1.7592' '3.4.500' '5.34.10' '1.284.1.83'\n",
            " '5.41.0' '2.6.2.1' '3.3.a' '2.0.0.39_171124' '3.2.5' '6.7.24.2018'\n",
            " '2.11.5' '5.7.8' '5.7.6' '2.85' '11.0' '1.1.8' '2.41' '4.0.0.7' '18.0'\n",
            " '15.0' '1.9.7.07' '2.5.9' '4.6.4' '68.0.3440.91' '68.0.3440.70'\n",
            " '0.1.187945513' '4.1.4' '4.1.8.2.2' '1.10.0.33_180403' '3.5.12'\n",
            " '2.2.1B216' 'v1.39.3' '3.2.1' '9.3.5776' '2.4.5' '6.4.0' '1.07.59'\n",
            " '1.26.2' '2.30.1' '1.9.1.147.0-google' '2.7'\n",
            " 'FreeTimeApp-aosp_v3.14_Build-1.0.204367.0.13014' '1.04' '1.3.0'\n",
            " '12.2.6.3660' '7.1.34.28' '8.50.935520' '3.1.7' '1.0.1' '7.10.621414'\n",
            " '6.5.852058' '9.51.755029' '2.71' '5.17' '5.8.0' '5.2.0' '8.0.6' '7.5.0'\n",
            " '5.38' '2.42.1.9' '5.9.1.1347176.a3ca6ab274' '3.19.11' '4.4.3' '3.1.12'\n",
            " '3.9.0' '17.4.11' '4.3' '2.1.2' '7.16.8' '2.7.2' '5.2.10' '4.2.3' '5.8'\n",
            " '6.5.2' '8.6' '1.3.13' '5.4.4' '4.1.1' '4.0.4' '1.3.8' '3.7.1a' '1.16.2'\n",
            " '1.58' '4.5.19' '5.4' '2.0.3.1' '2.8.0.17' '1.10' '1_39_93'\n",
            " '2.6.7.487220' '1.7.1.3' '2.3.3' '3.5.3' '1.021.10']\n",
            "\n",
            "Unique values for 'Android Ver': 25\n",
            "['4.0.3 and up' '3.0 and up' '2.3 and up' '4.0 and up' '4.1 and up'\n",
            " '2.3.3 and up' '4.2 and up' '5.0 and up' 'Varies with device'\n",
            " '1.6 and up' '1.5 and up' '4.4 and up' '7.0 and up' '2.2 and up'\n",
            " '4.3 and up' '4.0.3 - 7.1.1' '2.1 and up' '2.0 and up' '5.1 and up'\n",
            " '6.0 and up' '7.1 and up' '3.2 and up' '4.4W and up' '8.0 and up'\n",
            " '5.0 - 8.0']\n",
            "\n",
            "Unique values for 'Translated_Review': 26683\n",
            "[\"A kid's excessive ads. The types ads allowed app, let alone kids\"\n",
            " 'It bad >:(' 'like' ...\n",
            " 'Recommended, 100% love it, keep good work dev :) :*'\n",
            " 'Just allow time ...' \"It's good best gallery phone\"]\n",
            "\n",
            "Unique values for 'Sentiment': 4\n",
            "['Negative' 'Neutral' nan 'Positive']\n",
            "\n",
            "Unique values for 'Sentiment_Polarity': 5296\n",
            "[-0.25       -0.725       0.         ...  0.00272109 -0.0440051\n",
            "  0.50982143]\n",
            "\n",
            "Unique values for 'Sentiment_Subjectivity': 4383\n",
            "[1.         0.83333333 0.         ... 0.3914966  0.28605442 0.54571429]\n",
            "\n"
          ]
        }
      ]
    },
    {
      "cell_type": "markdown",
      "source": [
        "## 3. ***Data Wrangling***"
      ],
      "metadata": {
        "id": "dauF4eBmngu3"
      }
    },
    {
      "cell_type": "markdown",
      "source": [
        "### Data Wrangling Code"
      ],
      "metadata": {
        "id": "bKJF3rekwFvQ"
      }
    },
    {
      "cell_type": "code",
      "source": [
        "# Write your code to make your dataset analysis ready."
      ],
      "metadata": {
        "id": "wk-9a2fpoLcV"
      },
      "execution_count": 275,
      "outputs": []
    },
    {
      "cell_type": "code",
      "source": [
        "# Rating Column\n",
        "\n",
        "# Calculating the average ratings for each app category\n",
        "category_avg_ratings = merged_df.groupby('Category')['Rating'].transform('mean')\n",
        "\n",
        "# Filling missing \"Rating\" values with the average rating of their respective categories\n",
        "category_avg_ratings_filled = merged_df['Rating'].fillna(category_avg_ratings, inplace=True)"
      ],
      "metadata": {
        "id": "Ehel008PtMwO"
      },
      "execution_count": 276,
      "outputs": []
    },
    {
      "cell_type": "code",
      "source": [
        "# Last Updated Column\n",
        "\n",
        "# Converting the \"Last Updated\" column datatype to datetime\n",
        "merged_df['Last Updated'] = pd.to_datetime(merged_df['Last Updated'])"
      ],
      "metadata": {
        "id": "4XJvBUXctS0N"
      },
      "execution_count": 277,
      "outputs": []
    },
    {
      "cell_type": "code",
      "source": [
        "# Installs Column\n",
        "\n",
        "# Checking the current data type of the \"Installs\" column\n",
        "print(merged_df['Installs'].dtype)\n",
        "\n",
        "# Removing any non-numeric characters from the column\n",
        "merged_df['Installs'] = merged_df['Installs'].str.replace(',', '').str.replace('+', '')\n",
        "\n",
        "# Converting the cleaned \"Installs\" column to an integer data type\n",
        "merged_df['Installs'] = merged_df['Installs'].astype(int)"
      ],
      "metadata": {
        "colab": {
          "base_uri": "https://localhost:8080/"
        },
        "id": "ptDCjBshtYbb",
        "outputId": "18f593e3-fe61-45c9-dc17-ff74fd0c3870"
      },
      "execution_count": 278,
      "outputs": [
        {
          "output_type": "stream",
          "name": "stdout",
          "text": [
            "object\n"
          ]
        },
        {
          "output_type": "stream",
          "name": "stderr",
          "text": [
            "<ipython-input-278-e39b806db0d8>:7: FutureWarning: The default value of regex will change from True to False in a future version. In addition, single character regular expressions will *not* be treated as literal strings when regex=True.\n",
            "  merged_df['Installs'] = merged_df['Installs'].str.replace(',', '').str.replace('+', '')\n"
          ]
        }
      ]
    },
    {
      "cell_type": "code",
      "source": [
        "# Reviews Column\n",
        "\n",
        "# Removing commas from the column and converting the column into integer data type\n",
        "merged_df['Reviews'] = merged_df['Reviews'].str.replace(',', '').astype(int)"
      ],
      "metadata": {
        "id": "uDQVlD-ktyqM"
      },
      "execution_count": 279,
      "outputs": []
    },
    {
      "cell_type": "code",
      "source": [
        "# Price Colummn\n",
        "\n",
        "# Removing dollar signs ($) from the column and converting the column into float data type\n",
        "merged_df['Price'] = merged_df['Price'].str.replace('$', '').astype(float)"
      ],
      "metadata": {
        "colab": {
          "base_uri": "https://localhost:8080/"
        },
        "id": "QmQMHXGKuMir",
        "outputId": "2dd6d29b-6f6a-4212-e089-2b9a18a5a33a"
      },
      "execution_count": 280,
      "outputs": [
        {
          "output_type": "stream",
          "name": "stderr",
          "text": [
            "<ipython-input-280-a4b0d6450011>:4: FutureWarning: The default value of regex will change from True to False in a future version. In addition, single character regular expressions will *not* be treated as literal strings when regex=True.\n",
            "  merged_df['Price'] = merged_df['Price'].str.replace('$', '').astype(float)\n"
          ]
        }
      ]
    },
    {
      "cell_type": "markdown",
      "source": [
        "### What all manipulations have you done and insights you found?"
      ],
      "metadata": {
        "id": "MSa1f5Uengrz"
      }
    },
    {
      "cell_type": "markdown",
      "source": [
        "**On our dataset, we have applied the following data wrangling techniques manipulations:**\n",
        "\n",
        "**Rating Column:**\n",
        "\n",
        "1. Calculated the average ratings for each app category using groupby and transform.\n",
        "\n",
        "2. Filled missing \"Rating\" values with the average rating of their respective categories using fillna.\n",
        "\n",
        "**Last Updated Column:**\n",
        "\n",
        "1. Converted the \"Last Updated\" column's data type to datetime using pd.to_datetime.\n",
        "\n",
        "**Installs Column:**\n",
        "\n",
        "1. Checked the current data type of the \"Installs\" column.\n",
        "Removed any non-numeric characters (e.g., commas and plus signs) from the column using string operations.\n",
        "\n",
        "2. Converted the cleaned \"Installs\" column to an integer data type using astype(int).\n",
        "\n",
        "**Reviews Column:**\n",
        "\n",
        "1. Removed commas from the \"Reviews\" column and converted it to an integer data type.\n",
        "\n",
        "**Price Column:**\n",
        "\n",
        "1. Removed dollar signs from the \"Price\" column and converted it to a float data type."
      ],
      "metadata": {
        "id": "LbyXE7I1olp8"
      }
    },
    {
      "cell_type": "markdown",
      "source": [
        "## ***4. Data Vizualization, Storytelling & Experimenting with charts : Understand the relationships between variables***"
      ],
      "metadata": {
        "id": "GF8Ens_Soomf"
      }
    },
    {
      "cell_type": "markdown",
      "source": [
        "#### PS1 - Categories having the highest Avg user ratings - (Horizontal Bar Chart)"
      ],
      "metadata": {
        "id": "0wOQAZs5pc--"
      }
    },
    {
      "cell_type": "code",
      "source": [
        "# Chart - 1 visualization code\n",
        "\n",
        "# Calculating the average user rating for each app category\n",
        "avg_rating_categories = merged_df.groupby('Category')['Rating'].mean()\n",
        "\n",
        "# Sort the categories by average user rating in descending order\n",
        "avg_rating_categories_sorted = avg_rating_categories.sort_values(ascending=False)\n",
        "\n",
        "# Specifying the number of top categories to display\n",
        "top_n = 10\n",
        "\n",
        "# Selecting the top N categories with the highest average user ratings\n",
        "top_categories = avg_rating_categories_sorted.head(top_n)\n",
        "\n",
        "# Creating a bar plot to visualize the top N categories with the highest average user ratings\n",
        "plt.figure(figsize=(12, 6))\n",
        "plt.barh(top_categories.index, top_categories.values)\n",
        "plt.xlabel('Average User Rating')\n",
        "plt.ylabel('App Category')\n",
        "plt.title(f'Top {top_n} App Categories with Highest Average User Ratings')\n",
        "plt.gca().invert_yaxis()  # Inverting the y-axis to show the highest ratings at the top\n",
        "plt.tight_layout()\n",
        "plt.show()"
      ],
      "metadata": {
        "id": "7v_ESjsspbW7",
        "colab": {
          "base_uri": "https://localhost:8080/",
          "height": 0
        },
        "outputId": "d385674f-5b19-45c4-8178-dade3745e581"
      },
      "execution_count": 281,
      "outputs": [
        {
          "output_type": "display_data",
          "data": {
            "text/plain": [
              "<Figure size 1200x600 with 1 Axes>"
            ],
            "image/png": "[encoded data removed]"
          },
          "metadata": {}
        }
      ]
    },
    {
      "cell_type": "markdown",
      "source": [
        "##### 1. Why did you pick the specific chart?"
      ],
      "metadata": {
        "id": "K5QZ13OEpz2H"
      }
    },
    {
      "cell_type": "markdown",
      "source": [
        "I opted for a horizontal bar chart to compare average user ratings across app categories effectively."
      ],
      "metadata": {
        "id": "XESiWehPqBRc"
      }
    },
    {
      "cell_type": "markdown",
      "source": [
        "##### 2. What is/are the insight(s) found from the chart?"
      ],
      "metadata": {
        "id": "lQ7QKXXCp7Bj"
      }
    },
    {
      "cell_type": "markdown",
      "source": [
        "The chart highlights the top-rated app categories, including \"AUTO_AND_VEHICLES,\" \"GAME,\" and \"HEALTH_AND_FITNESS.\" These insights can inform marketing and user acquisition strategies for businesses in these categories."
      ],
      "metadata": {
        "id": "C_j1G7yiqdRP"
      }
    },
    {
      "cell_type": "markdown",
      "source": [
        "##### 3. Will the gained insights help creating a positive business impact?\n",
        "Are there any insights that lead to negative growth? Justify with specific reason."
      ],
      "metadata": {
        "id": "448CDAPjqfQr"
      }
    },
    {
      "cell_type": "markdown",
      "source": [
        "The insights can positively impact businesses in top-rated categories by attracting more users. Negative growth may occur if lower-rated categories do not improve app quality and user experience."
      ],
      "metadata": {
        "id": "3cspy4FjqxJW"
      }
    },
    {
      "cell_type": "markdown",
      "source": [
        "#### PS2 - Comparing Free Apps Vs. Paid Apps user ratings - (Box Plot)"
      ],
      "metadata": {
        "id": "KSlN3yHqYklG"
      }
    },
    {
      "cell_type": "code",
      "source": [
        "# Creating a box plot to compare user ratings of free and paid apps\n",
        "\n",
        "plt.figure(figsize=(10,6))\n",
        "sns.boxplot(x = \"Type\", y = \"Rating\", data = merged_df)\n",
        "plt.xlabel(\"App Type\")\n",
        "plt.ylabel(\"User Rating\")\n",
        "plt.title(\"Comparison of User Ratings: Free vs. Paid Apps\")\n",
        "plt.show()\n",
        "\n",
        "# Analyzing the plot and provide insights\n",
        "free_apps_median_rating = merged_df[merged_df[\"Type\"] == \"Free\"][\"Rating\"].median()\n",
        "paid_apps_median_rating = merged_df[merged_df[\"Type\"] == \"Paid\"][\"Rating\"].median()\n",
        "\n",
        "print(f\"\\n Median Rating For Free Apps: {free_apps_median_rating:.2f}\")\n",
        "print(f\"\\n Median Rating For Paid Apps: {paid_apps_median_rating:.2f}\")"
      ],
      "metadata": {
        "colab": {
          "base_uri": "https://localhost:8080/",
          "height": 0
        },
        "id": "1sibzFL8Ci8E",
        "outputId": "961194f8-e142-4b40-ec0b-d1904153da66"
      },
      "execution_count": 282,
      "outputs": [
        {
          "output_type": "display_data",
          "data": {
            "text/plain": [
              "<Figure size 1000x600 with 1 Axes>"
            ],
            "image/png": "[encoded data removed]"
          },
          "metadata": {}
        },
        {
          "output_type": "stream",
          "name": "stdout",
          "text": [
            "\n",
            " Median Rating For Free Apps: 4.40\n",
            "\n",
            " Median Rating For Paid Apps: 4.30\n"
          ]
        }
      ]
    },
    {
      "cell_type": "markdown",
      "source": [
        "##### 1. Why did you pick the specific chart?"
      ],
      "metadata": {
        "id": "t6dVpIINYklI"
      }
    },
    {
      "cell_type": "markdown",
      "source": [
        "I selected a box plot for comparing user ratings between free and paid apps due to its effectiveness in displaying rating distributions."
      ],
      "metadata": {
        "id": "5aaW0BYyYklI"
      }
    },
    {
      "cell_type": "markdown",
      "source": [
        "##### 2. What is/are the insight(s) found from the chart?"
      ],
      "metadata": {
        "id": "ijmpgYnKYklI"
      }
    },
    {
      "cell_type": "markdown",
      "source": [
        "Free apps exhibit a wider range of user ratings, with both high and low outliers. Paid apps show a more concentrated distribution. Businesses can leverage these insights to tailor strategies for user satisfaction and pricing."
      ],
      "metadata": {
        "id": "PSx9atu2YklI"
      }
    },
    {
      "cell_type": "markdown",
      "source": [
        "##### 3. Will the gained insights help creating a positive business impact?\n",
        "Are there any insights that lead to negative growth? Justify with specific reason."
      ],
      "metadata": {
        "id": "-JiQyfWJYklI"
      }
    },
    {
      "cell_type": "markdown",
      "source": [
        "Insights can have a positive impact by informing user acquisition and retention strategies. Negative growth can occur if businesses neglect user feedback or consistently receive low ratings."
      ],
      "metadata": {
        "id": "BcBbebzrYklV"
      }
    },
    {
      "cell_type": "markdown",
      "source": [
        "#### PS3 - Highest reviews dropped days of week - (Line Plot)"
      ],
      "metadata": {
        "id": "EM7whBJCYoAo"
      }
    },
    {
      "cell_type": "code",
      "source": [
        "# Chart - 3 visualization code\n",
        "\n",
        "# Sorting the days in Ascending order\n",
        "days_order = ['Monday', 'Tuesday', 'Wednesday', 'Thursday', 'Friday', 'Saturday', 'Sunday']\n",
        "\n",
        "# Creating a new column of days of the week with 'Last Updated' column\n",
        "merged_df['Day_of_Week'] = pd.Categorical(merged_df['Last Updated'].dt.day_name(), categories=days_order, ordered=True)\n",
        "\n",
        "\n",
        "# Counting reviews grouped by the new column created 'Day_of_Week'\n",
        "reviews_by_day_of_week = merged_df.groupby('Day_of_Week')['Reviews'].count()\n",
        "\n",
        "plt.figure(figsize=(12,6))\n",
        "plt.plot(reviews_by_day_of_week.index, reviews_by_day_of_week.values, marker = 'o', linestyle = '-', color = 'b')\n",
        "plt.xlabel('Day of the Week')\n",
        "plt.ylabel('Total Reviews')\n",
        "plt.title('Total Reviews by Day of the week')\n",
        "plt.grid(True)\n",
        "plt.show()"
      ],
      "metadata": {
        "colab": {
          "base_uri": "https://localhost:8080/",
          "height": 0
        },
        "id": "i3-FLUK2ITJL",
        "outputId": "2dbea5b0-cb1d-4b39-985b-ba20623e02be"
      },
      "execution_count": 283,
      "outputs": [
        {
          "output_type": "display_data",
          "data": {
            "text/plain": [
              "<Figure size 1200x600 with 1 Axes>"
            ],
            "image/png": "[encoded data removed]"
          },
          "metadata": {}
        }
      ]
    },
    {
      "cell_type": "markdown",
      "source": [
        "##### 1. Why did you pick the specific chart?"
      ],
      "metadata": {
        "id": "fge-S5ZAYoAp"
      }
    },
    {
      "cell_type": "markdown",
      "source": [
        "I opted for a line plot as it effectively visualizes trends over days of the week."
      ],
      "metadata": {
        "id": "5dBItgRVYoAp"
      }
    },
    {
      "cell_type": "markdown",
      "source": [
        "##### 2. What is/are the insight(s) found from the chart?"
      ],
      "metadata": {
        "id": "85gYPyotYoAp"
      }
    },
    {
      "cell_type": "markdown",
      "source": [
        "The chart helps identify user review patterns throughout the week, enabling decisions for better user engagement."
      ],
      "metadata": {
        "id": "4jstXR6OYoAp"
      }
    },
    {
      "cell_type": "markdown",
      "source": [
        "##### 3. Will the gained insights help creating a positive business impact?\n",
        "Are there any insights that lead to negative growth? Justify with specific reason."
      ],
      "metadata": {
        "id": "RoGjAbkUYoAp"
      }
    },
    {
      "cell_type": "markdown",
      "source": [
        "Insights can positively impact business by optimizing updates and promotions based on user engagement patterns. There's no direct negative impact, but misinterpreting data could lead to poor decisions."
      ],
      "metadata": {
        "id": "zfJ8IqMcYoAp"
      }
    },
    {
      "cell_type": "markdown",
      "source": [
        "#### PS4 - Categories having highest number of installs - (Vertical Bar Chart)"
      ],
      "metadata": {
        "id": "4Of9eVA-YrdM"
      }
    },
    {
      "cell_type": "code",
      "source": [
        "# Chart - 4 visualization code - Which app categories have the highest number of installs\n",
        "\n",
        "# Grouping by Category\n",
        "category_installs_ratings = merged_df.groupby('Category').agg({'Installs': 'sum', 'Rating': 'mean'}).reset_index()\n",
        "\n",
        "# Identifying Categories with the Highest Installs\n",
        "top_categories_by_installs = category_installs_ratings.sort_values(by='Installs', ascending=False)\n",
        "\n",
        "# Plotting bar chart\n",
        "plt.figure(figsize=(16, 6))\n",
        "sns.barplot(x='Category', y='Installs', data=top_categories_by_installs, palette='viridis')\n",
        "plt.xticks(rotation=90)\n",
        "plt.xlabel('Category')\n",
        "plt.ylabel('Total Installs')\n",
        "plt.title('Top Categories by Total Installs')\n",
        "plt.show()"
      ],
      "metadata": {
        "id": "irlUoxc8YrdO",
        "colab": {
          "base_uri": "https://localhost:8080/",
          "height": 0
        },
        "outputId": "513248d9-0a55-4618-9fbb-335ec6fd3615"
      },
      "execution_count": 284,
      "outputs": [
        {
          "output_type": "display_data",
          "data": {
            "text/plain": [
              "<Figure size 1600x600 with 1 Axes>"
            ],
            "image/png": "[encoded data removed]"
          },
          "metadata": {}
        }
      ]
    },
    {
      "cell_type": "markdown",
      "source": [
        "##### 1. Why did you pick the specific chart?"
      ],
      "metadata": {
        "id": "iky9q4vBYrdO"
      }
    },
    {
      "cell_type": "markdown",
      "source": [
        "I chose a bar chart because it effectively displays and compares categorical data, such as app categories and their total installs."
      ],
      "metadata": {
        "id": "aJRCwT6DYrdO"
      }
    },
    {
      "cell_type": "markdown",
      "source": [
        "##### 2. What is/are the insight(s) found from the chart?"
      ],
      "metadata": {
        "id": "F6T5p64dYrdO"
      }
    },
    {
      "cell_type": "markdown",
      "source": [
        "The chart reveals the top app categories by total installs, showcasing which categories are most popular among users. \"COMMUNICATION\" and \"PRODUCTIVITY\" lead, while categories like \"BEAUTY\" have fewer installs."
      ],
      "metadata": {
        "id": "Xx8WAJvtYrdO"
      }
    },
    {
      "cell_type": "markdown",
      "source": [
        "##### 3. Will the gained insights help creating a positive business impact?\n",
        "Are there any insights that lead to negative growth? Justify with specific reason."
      ],
      "metadata": {
        "id": "y-Ehk30pYrdP"
      }
    },
    {
      "cell_type": "markdown",
      "source": [
        "This insight can positively impact developers and marketers by guiding them to focus on popular categories. While it doesn't lead to negative growth, it highlights opportunities and competition levels in various categories."
      ],
      "metadata": {
        "id": "jLNxxz7MYrdP"
      }
    },
    {
      "cell_type": "markdown",
      "source": [
        "#### PS4 - Correlation between the number of installs and user ratings - (Scatter Plot)"
      ],
      "metadata": {
        "id": "bamQiAODYuh1"
      }
    },
    {
      "cell_type": "code",
      "source": [
        "# Chart - 5 visualization code - Is there a correlation between the number of installs and user ratings?\n",
        "\n",
        "# Investigating Correlation\n",
        "correlation = category_installs_ratings['Installs'].corr(category_installs_ratings['Rating'])\n",
        "\n",
        "# Scatter plot for correlation between installs and ratings\n",
        "plt.figure(figsize=(10, 6))\n",
        "sns.scatterplot(x='Installs', y='Rating', data=category_installs_ratings)\n",
        "plt.xlabel('Total Installs')\n",
        "plt.ylabel('Average Rating')\n",
        "plt.title(f'Correlation between Installs and Ratings (Correlation: {correlation:.2f})')\n",
        "plt.show()"
      ],
      "metadata": {
        "id": "TIJwrbroYuh3",
        "colab": {
          "base_uri": "https://localhost:8080/",
          "height": 0
        },
        "outputId": "3ac3d264-b7a3-4c22-9a6e-5b819caa2687"
      },
      "execution_count": 285,
      "outputs": [
        {
          "output_type": "display_data",
          "data": {
            "text/plain": [
              "<Figure size 1000x600 with 1 Axes>"
            ],
            "image/png": "[encoded data removed]"
          },
          "metadata": {}
        }
      ]
    },
    {
      "cell_type": "markdown",
      "source": [
        "##### 1. Why did you pick the specific chart?"
      ],
      "metadata": {
        "id": "QHF8YVU7Yuh3"
      }
    },
    {
      "cell_type": "markdown",
      "source": [
        "I selected a scatter plot because it's suitable for visualizing the correlation between two continuous variables."
      ],
      "metadata": {
        "id": "dcxuIMRPYuh3"
      }
    },
    {
      "cell_type": "markdown",
      "source": [
        "##### 2. What is/are the insight(s) found from the chart?"
      ],
      "metadata": {
        "id": "GwzvFGzlYuh3"
      }
    },
    {
      "cell_type": "markdown",
      "source": [
        "The scatter plot reveals a positive correlation between total installs and average user ratings across app categories. Higher installs are associated with better ratings on average."
      ],
      "metadata": {
        "id": "uyqkiB8YYuh3"
      }
    },
    {
      "cell_type": "markdown",
      "source": [
        "##### 3. Will the gained insights help creating a positive business impact?\n",
        "Are there any insights that lead to negative growth? Justify with specific reason."
      ],
      "metadata": {
        "id": "qYpmQ266Yuh3"
      }
    },
    {
      "cell_type": "markdown",
      "source": [
        "This insight can positively impact businesses by informing them that choosing popular app categories may lead to higher user satisfaction. However, it's essential to remember that correlation doesn't imply causation, and other factors also influence user ratings."
      ],
      "metadata": {
        "id": "_WtzZ_hCYuh4"
      }
    },
    {
      "cell_type": "markdown",
      "source": [
        "#### PS5 - Relationship between Long reviews and User Ratings - (Scatter Plot)"
      ],
      "metadata": {
        "id": "OH-pJp9IphqM"
      }
    },
    {
      "cell_type": "code",
      "source": [
        "# Chart - 6 visualization code - Relationship between Long reviews and User Ratings\n",
        "\n",
        "# Calculating description lengths\n",
        "merged_df['Review_Length'] = merged_df['Translated_Review'].str.len()\n",
        "\n",
        "# Visualize the relationship between description length and ratings\n",
        "plt.figure(figsize=(18, 6))\n",
        "sns.scatterplot(x='Review_Length', y='Rating', data=merged_df)\n",
        "plt.xlabel('Review Length')\n",
        "plt.ylabel('User Rating')\n",
        "plt.title('Relationship between Review Length and User Ratings')\n",
        "plt.show()\n",
        "\n",
        "# Calculate correlation\n",
        "correlation = merged_df['Review_Length'].corr(merged_df['Rating'])\n",
        "print(f'\\n\\nCorrelation between Review Length and User Ratings: {correlation:.2f}')\n"
      ],
      "metadata": {
        "id": "kuRf4wtuphqN",
        "colab": {
          "base_uri": "https://localhost:8080/",
          "height": 0
        },
        "outputId": "55c9984d-817b-4526-9b70-18b3bef467e9"
      },
      "execution_count": 286,
      "outputs": [
        {
          "output_type": "display_data",
          "data": {
            "text/plain": [
              "<Figure size 1800x600 with 1 Axes>"
            ],
            "image/png": "[encoded data removed]"
          },
          "metadata": {}
        },
        {
          "output_type": "stream",
          "name": "stdout",
          "text": [
            "\n",
            "\n",
            "Correlation between Review Length and User Ratings: 0.05\n"
          ]
        }
      ]
    },
    {
      "cell_type": "markdown",
      "source": [
        "##### 1. Why did you pick the specific chart?"
      ],
      "metadata": {
        "id": "bbFf2-_FphqN"
      }
    },
    {
      "cell_type": "markdown",
      "source": [
        "I chose a scatterplot to show the relationship between review length and user ratings."
      ],
      "metadata": {
        "id": "loh7H2nzphqN"
      }
    },
    {
      "cell_type": "markdown",
      "source": [
        "##### 2. What is/are the insight(s) found from the chart?"
      ],
      "metadata": {
        "id": "_ouA3fa0phqN"
      }
    },
    {
      "cell_type": "markdown",
      "source": [
        "There is no strong correlation between longer reviews and higher user ratings. Both long and short reviews can have high or low ratings."
      ],
      "metadata": {
        "id": "VECbqPI7phqN"
      }
    },
    {
      "cell_type": "markdown",
      "source": [
        "##### 3. Will the gained insights help creating a positive business impact?\n",
        "Are there any insights that lead to negative growth? Justify with specific reason."
      ],
      "metadata": {
        "id": "Seke61FWphqN"
      }
    },
    {
      "cell_type": "markdown",
      "source": [
        "Relying solely on encouraging longer reviews may not improve user ratings significantly. Businesses should focus on analyzing review content and sentiment to make meaningful improvements."
      ],
      "metadata": {
        "id": "DW4_bGpfphqN"
      }
    },
    {
      "cell_type": "markdown",
      "source": [
        "#### PS6 - Percentage of In-app purchases and relationship between In-app purchases & User ratings - (Box Plot)"
      ],
      "metadata": {
        "id": "PIIx-8_IphqN"
      }
    },
    {
      "cell_type": "code",
      "source": [
        "# Creating a categorical column for in-app purchases\n",
        "merged_df['In-app Purchases'] = merged_df['Price'] != 0\n",
        "\n",
        "# Calculating the percentage of paid apps\n",
        "percentage_of_paid_apps = (merged_df['In-app Purchases'].sum() / len(merged_df)) * 100\n",
        "\n",
        "print(f\"Percentage of Paid apps is: {percentage_of_paid_apps:.2f}%\\n\\n\")\n",
        "\n",
        "# Creating a box plot to visualize the relationship\n",
        "plt.figure(figsize=(8, 6))\n",
        "sns.boxplot(x='In-app Purchases', y='Rating', data=merged_df)\n",
        "plt.xlabel('In-app Purchases')\n",
        "plt.ylabel('User Ratings')\n",
        "plt.title('Relationship between In-app Purchases and User Ratings')\n",
        "plt.show()\n"
      ],
      "metadata": {
        "id": "lqAIGUfyphqO",
        "colab": {
          "base_uri": "https://localhost:8080/",
          "height": 0
        },
        "outputId": "23205f12-e2c8-47ed-d5bc-0435e642b491"
      },
      "execution_count": 287,
      "outputs": [
        {
          "output_type": "stream",
          "name": "stdout",
          "text": [
            "Percentage of Paid apps is: 0.93%\n",
            "\n",
            "\n"
          ]
        },
        {
          "output_type": "display_data",
          "data": {
            "text/plain": [
              "<Figure size 800x600 with 1 Axes>"
            ],
            "image/png": "[encoded data removed]"
          },
          "metadata": {}
        }
      ]
    },
    {
      "cell_type": "markdown",
      "source": [
        "##### 1. Why did you pick the specific chart?"
      ],
      "metadata": {
        "id": "t27r6nlMphqO"
      }
    },
    {
      "cell_type": "markdown",
      "source": [
        "I selected a box plot to visualize the relationship between in-app purchases and user ratings. This chart effectively compares the distribution of user ratings for apps with and without in-app purchases."
      ],
      "metadata": {
        "id": "iv6ro40sphqO"
      }
    },
    {
      "cell_type": "markdown",
      "source": [
        "##### 2. What is/are the insight(s) found from the chart?"
      ],
      "metadata": {
        "id": "r2jJGEOYphqO"
      }
    },
    {
      "cell_type": "markdown",
      "source": [
        "Apps with in-app purchases (Paid apps) have a slightly wider range of user ratings compared to free apps (without in-app purchases).\n",
        "Both categories have outliers, indicating exceptional ratings.\n",
        "The median user rating for free apps appears slightly higher."
      ],
      "metadata": {
        "id": "Po6ZPi4hphqO"
      }
    },
    {
      "cell_type": "markdown",
      "source": [
        "##### 3. Will the gained insights help creating a positive business impact?\n",
        "Are there any insights that lead to negative growth? Justify with specific reason."
      ],
      "metadata": {
        "id": "b0JNsNcRphqO"
      }
    },
    {
      "cell_type": "markdown",
      "source": [
        "Yes, the insights can inform app developers and marketers about user satisfaction and monetization strategies.\n",
        "Negative growth is unlikely, but misinterpreting the data could lead to suboptimal decisions."
      ],
      "metadata": {
        "id": "xvSq8iUTphqO"
      }
    },
    {
      "cell_type": "markdown",
      "source": [
        "#### PS7 - Correlation between App size & User ratings - (Scatter Plot)\n"
      ],
      "metadata": {
        "id": "BZR9WyysphqO"
      }
    },
    {
      "cell_type": "code",
      "source": [
        "# Chart - 8 visualization code - Correlation between App size & User ratings\n",
        "\n",
        "# Creating a function to convert values from Kb to Mb and handling 'Varies with device' values\n",
        "def convert_size_to_mb(size_str):\n",
        "    if size_str.endswith('M'):\n",
        "        return float(size_str.replace('M', ''))\n",
        "    elif size_str.endswith('k'):\n",
        "        return float(size_str.replace('k', '')) / 1024\n",
        "    elif size_str == 'Varies with device':\n",
        "        return np.nan  # Use NaN for missing or variable sizes\n",
        "    else:\n",
        "        return None  # Handle other cases as needed\n",
        "\n",
        "# Applying the function created\n",
        "merged_df['Size'] = merged_df['Size'].apply(convert_size_to_mb)"
      ],
      "metadata": {
        "id": "TdPTWpAVphqO"
      },
      "execution_count": 288,
      "outputs": []
    },
    {
      "cell_type": "code",
      "source": [
        "# Finding the correlation between size and rating\n",
        "correlation = merged_df['Size'].corr(merged_df['Rating'])\n",
        "print(f\"Correlation between App Size and User Ratings: {correlation:.2f}\\n\\n\")\n",
        "\n",
        "# Creating a scatter plot to visualize the relationship\n",
        "plt.figure(figsize=(10, 6))\n",
        "sns.scatterplot(data=merged_df, x='Size', y='Rating')\n",
        "plt.title('App Size vs. User Ratings')\n",
        "plt.xlabel('App Size (MB)')\n",
        "plt.ylabel('User Rating')\n",
        "plt.show()"
      ],
      "metadata": {
        "colab": {
          "base_uri": "https://localhost:8080/",
          "height": 616
        },
        "id": "OVXVlAFqs7F9",
        "outputId": "5be39733-6da0-4c1c-f853-560d1877fd72"
      },
      "execution_count": 289,
      "outputs": [
        {
          "output_type": "stream",
          "name": "stdout",
          "text": [
            "Correlation between App Size and User Ratings: 0.20\n",
            "\n",
            "\n"
          ]
        },
        {
          "output_type": "display_data",
          "data": {
            "text/plain": [
              "<Figure size 1000x600 with 1 Axes>"
            ],
            "image/png": "[encoded data removed]"
          },
          "metadata": {}
        }
      ]
    },
    {
      "cell_type": "markdown",
      "source": [
        "##### 1. Why did you pick the specific chart?"
      ],
      "metadata": {
        "id": "jj7wYXLtphqO"
      }
    },
    {
      "cell_type": "markdown",
      "source": [
        "We used a scatter plot to explore the relationship between app size and user ratings."
      ],
      "metadata": {
        "id": "Ob8u6rCTphqO"
      }
    },
    {
      "cell_type": "markdown",
      "source": [
        "##### 2. What is/are the insight(s) found from the chart?"
      ],
      "metadata": {
        "id": "eZrbJ2SmphqO"
      }
    },
    {
      "cell_type": "markdown",
      "source": [
        "There is no strong correlation between app size and user ratings.\n",
        "User ratings vary widely for both small and large apps.\n",
        "App size alone is not a significant factor in determining user satisfaction."
      ],
      "metadata": {
        "id": "mZtgC_hjphqO"
      }
    },
    {
      "cell_type": "markdown",
      "source": [
        "##### 3. Will the gained insights help creating a positive business impact?\n",
        "Are there any insights that lead to negative growth? Justify with specific reason."
      ],
      "metadata": {
        "id": "rFu4xreNphqO"
      }
    },
    {
      "cell_type": "markdown",
      "source": [
        "Positive Impact: Focusing solely on reducing app size may not improve user ratings. Other factors like functionality and user experience matter more.\n",
        "\n",
        "Negative Impact: Overemphasizing size reduction at the expense of features can lead to a worse user experience and lower ratin"
      ],
      "metadata": {
        "id": "ey_0qi68phqO"
      }
    },
    {
      "cell_type": "markdown",
      "source": [
        "#### Chart - 9"
      ],
      "metadata": {
        "id": "YJ55k-q6phqO"
      }
    },
    {
      "cell_type": "code",
      "source": [
        "# Chart - 9 visualization code"
      ],
      "metadata": {
        "id": "B2aS4O1ophqO"
      },
      "execution_count": null,
      "outputs": []
    },
    {
      "cell_type": "markdown",
      "source": [
        "##### 1. Why did you pick the specific chart?"
      ],
      "metadata": {
        "id": "gCFgpxoyphqP"
      }
    },
    {
      "cell_type": "markdown",
      "source": [
        "Answer Here."
      ],
      "metadata": {
        "id": "TVxDimi2phqP"
      }
    },
    {
      "cell_type": "markdown",
      "source": [
        "##### 2. What is/are the insight(s) found from the chart?"
      ],
      "metadata": {
        "id": "OVtJsKN_phqQ"
      }
    },
    {
      "cell_type": "markdown",
      "source": [
        "Answer Here"
      ],
      "metadata": {
        "id": "ngGi97qjphqQ"
      }
    },
    {
      "cell_type": "markdown",
      "source": [
        "##### 3. Will the gained insights help creating a positive business impact?\n",
        "Are there any insights that lead to negative growth? Justify with specific reason."
      ],
      "metadata": {
        "id": "lssrdh5qphqQ"
      }
    },
    {
      "cell_type": "markdown",
      "source": [
        "Answer Here"
      ],
      "metadata": {
        "id": "tBpY5ekJphqQ"
      }
    },
    {
      "cell_type": "markdown",
      "source": [
        "#### Chart - 10"
      ],
      "metadata": {
        "id": "U2RJ9gkRphqQ"
      }
    },
    {
      "cell_type": "code",
      "source": [
        "# Chart - 10 visualization code"
      ],
      "metadata": {
        "id": "GM7a4YP4phqQ"
      },
      "execution_count": null,
      "outputs": []
    },
    {
      "cell_type": "markdown",
      "source": [
        "##### 1. Why did you pick the specific chart?"
      ],
      "metadata": {
        "id": "1M8mcRywphqQ"
      }
    },
    {
      "cell_type": "markdown",
      "source": [
        "Answer Here."
      ],
      "metadata": {
        "id": "8agQvks0phqQ"
      }
    },
    {
      "cell_type": "markdown",
      "source": [
        "##### 2. What is/are the insight(s) found from the chart?"
      ],
      "metadata": {
        "id": "tgIPom80phqQ"
      }
    },
    {
      "cell_type": "markdown",
      "source": [
        "Answer Here"
      ],
      "metadata": {
        "id": "Qp13pnNzphqQ"
      }
    },
    {
      "cell_type": "markdown",
      "source": [
        "##### 3. Will the gained insights help creating a positive business impact?\n",
        "Are there any insights that lead to negative growth? Justify with specific reason."
      ],
      "metadata": {
        "id": "JMzcOPDDphqR"
      }
    },
    {
      "cell_type": "markdown",
      "source": [
        "Answer Here"
      ],
      "metadata": {
        "id": "R4Ka1PC2phqR"
      }
    },
    {
      "cell_type": "markdown",
      "source": [
        "#### Chart - 11"
      ],
      "metadata": {
        "id": "x-EpHcCOp1ci"
      }
    },
    {
      "cell_type": "code",
      "source": [
        "# Chart - 11 visualization code"
      ],
      "metadata": {
        "id": "mAQTIvtqp1cj"
      },
      "execution_count": null,
      "outputs": []
    },
    {
      "cell_type": "markdown",
      "source": [
        "##### 1. Why did you pick the specific chart?"
      ],
      "metadata": {
        "id": "X_VqEhTip1ck"
      }
    },
    {
      "cell_type": "markdown",
      "source": [
        "Answer Here."
      ],
      "metadata": {
        "id": "-vsMzt_np1ck"
      }
    },
    {
      "cell_type": "markdown",
      "source": [
        "##### 2. What is/are the insight(s) found from the chart?"
      ],
      "metadata": {
        "id": "8zGJKyg5p1ck"
      }
    },
    {
      "cell_type": "markdown",
      "source": [
        "Answer Here"
      ],
      "metadata": {
        "id": "ZYdMsrqVp1ck"
      }
    },
    {
      "cell_type": "markdown",
      "source": [
        "##### 3. Will the gained insights help creating a positive business impact?\n",
        "Are there any insights that lead to negative growth? Justify with specific reason."
      ],
      "metadata": {
        "id": "PVzmfK_Ep1ck"
      }
    },
    {
      "cell_type": "markdown",
      "source": [
        "Answer Here"
      ],
      "metadata": {
        "id": "druuKYZpp1ck"
      }
    },
    {
      "cell_type": "markdown",
      "source": [
        "#### Chart - 12"
      ],
      "metadata": {
        "id": "n3dbpmDWp1ck"
      }
    },
    {
      "cell_type": "code",
      "source": [
        "# Chart - 12 visualization code"
      ],
      "metadata": {
        "id": "bwevp1tKp1ck"
      },
      "execution_count": null,
      "outputs": []
    },
    {
      "cell_type": "markdown",
      "source": [
        "##### 1. Why did you pick the specific chart?"
      ],
      "metadata": {
        "id": "ylSl6qgtp1ck"
      }
    },
    {
      "cell_type": "markdown",
      "source": [
        "Answer Here."
      ],
      "metadata": {
        "id": "m2xqNkiQp1ck"
      }
    },
    {
      "cell_type": "markdown",
      "source": [
        "##### 2. What is/are the insight(s) found from the chart?"
      ],
      "metadata": {
        "id": "ZWILFDl5p1ck"
      }
    },
    {
      "cell_type": "markdown",
      "source": [
        "Answer Here"
      ],
      "metadata": {
        "id": "x-lUsV2mp1ck"
      }
    },
    {
      "cell_type": "markdown",
      "source": [
        "##### 3. Will the gained insights help creating a positive business impact?\n",
        "Are there any insights that lead to negative growth? Justify with specific reason."
      ],
      "metadata": {
        "id": "M7G43BXep1ck"
      }
    },
    {
      "cell_type": "markdown",
      "source": [
        "Answer Here"
      ],
      "metadata": {
        "id": "5wwDJXsLp1cl"
      }
    },
    {
      "cell_type": "markdown",
      "source": [
        "#### Chart - 13"
      ],
      "metadata": {
        "id": "Ag9LCva-p1cl"
      }
    },
    {
      "cell_type": "code",
      "source": [
        "# Chart - 13 visualization code"
      ],
      "metadata": {
        "id": "EUfxeq9-p1cl"
      },
      "execution_count": null,
      "outputs": []
    },
    {
      "cell_type": "markdown",
      "source": [
        "##### 1. Why did you pick the specific chart?"
      ],
      "metadata": {
        "id": "E6MkPsBcp1cl"
      }
    },
    {
      "cell_type": "markdown",
      "source": [
        "Answer Here."
      ],
      "metadata": {
        "id": "V22bRsFWp1cl"
      }
    },
    {
      "cell_type": "markdown",
      "source": [
        "##### 2. What is/are the insight(s) found from the chart?"
      ],
      "metadata": {
        "id": "2cELzS2fp1cl"
      }
    },
    {
      "cell_type": "markdown",
      "source": [
        "Answer Here"
      ],
      "metadata": {
        "id": "ozQPc2_Ip1cl"
      }
    },
    {
      "cell_type": "markdown",
      "source": [
        "##### 3. Will the gained insights help creating a positive business impact?\n",
        "Are there any insights that lead to negative growth? Justify with specific reason."
      ],
      "metadata": {
        "id": "3MPXvC8up1cl"
      }
    },
    {
      "cell_type": "markdown",
      "source": [
        "Answer Here"
      ],
      "metadata": {
        "id": "GL8l1tdLp1cl"
      }
    },
    {
      "cell_type": "markdown",
      "source": [
        "#### Chart - 14 - Correlation Heatmap"
      ],
      "metadata": {
        "id": "NC_X3p0fY2L0"
      }
    },
    {
      "cell_type": "code",
      "source": [
        "# Correlation Heatmap visualization code"
      ],
      "metadata": {
        "id": "xyC9zolEZNRQ"
      },
      "execution_count": null,
      "outputs": []
    },
    {
      "cell_type": "markdown",
      "source": [
        "##### 1. Why did you pick the specific chart?"
      ],
      "metadata": {
        "id": "UV0SzAkaZNRQ"
      }
    },
    {
      "cell_type": "markdown",
      "source": [
        "Answer Here."
      ],
      "metadata": {
        "id": "DVPuT8LYZNRQ"
      }
    },
    {
      "cell_type": "markdown",
      "source": [
        "##### 2. What is/are the insight(s) found from the chart?"
      ],
      "metadata": {
        "id": "YPEH6qLeZNRQ"
      }
    },
    {
      "cell_type": "markdown",
      "source": [
        "Answer Here"
      ],
      "metadata": {
        "id": "bfSqtnDqZNRR"
      }
    },
    {
      "cell_type": "markdown",
      "source": [
        "#### Chart - 15 - Pair Plot"
      ],
      "metadata": {
        "id": "q29F0dvdveiT"
      }
    },
    {
      "cell_type": "code",
      "source": [
        "# Pair Plot visualization code"
      ],
      "metadata": {
        "id": "o58-TEIhveiU"
      },
      "execution_count": null,
      "outputs": []
    },
    {
      "cell_type": "markdown",
      "source": [
        "##### 1. Why did you pick the specific chart?"
      ],
      "metadata": {
        "id": "EXh0U9oCveiU"
      }
    },
    {
      "cell_type": "markdown",
      "source": [
        "Answer Here."
      ],
      "metadata": {
        "id": "eMmPjTByveiU"
      }
    },
    {
      "cell_type": "markdown",
      "source": [
        "##### 2. What is/are the insight(s) found from the chart?"
      ],
      "metadata": {
        "id": "22aHeOlLveiV"
      }
    },
    {
      "cell_type": "markdown",
      "source": [
        "Answer Here"
      ],
      "metadata": {
        "id": "uPQ8RGwHveiV"
      }
    },
    {
      "cell_type": "markdown",
      "source": [
        "## **5. Solution to Business Objective**"
      ],
      "metadata": {
        "id": "JcMwzZxoAimU"
      }
    },
    {
      "cell_type": "markdown",
      "source": [
        "#### What do you suggest the client to achieve Business Objective ?\n",
        "Explain Briefly."
      ],
      "metadata": {
        "id": "8G2x9gOozGDZ"
      }
    },
    {
      "cell_type": "markdown",
      "source": [
        "Answer Here."
      ],
      "metadata": {
        "id": "pASKb0qOza21"
      }
    },
    {
      "cell_type": "markdown",
      "source": [
        "# **Conclusion**"
      ],
      "metadata": {
        "id": "gCX9965dhzqZ"
      }
    },
    {
      "cell_type": "markdown",
      "source": [
        "**🧠Conclusion:**\n",
        "\n",
        "The Play Store App Review Analysis - Exploratory Data Analysis project combines the power of data manipulation, visualization, and statistical techniques to provide stakeholders with actionable insights. By systematically exploring play store data and user reviews, we unearth patterns and trends that empower stakeholders to make informed decisions, thereby elevating their app-related strategies. This project is a testament to the value of data-driven approaches in understanding user behavior and app performance.\n",
        "\n",
        "Feel free to explore the full project on our GitHub repository, where you can find detailed code, datasets, visualizations, and insights that drive the heart of the Play Store App Review Analysis project."
      ],
      "metadata": {
        "id": "Fjb1IsQkh3yE"
      }
    },
    {
      "cell_type": "markdown",
      "source": [
        "### ***Hurrah! We have successfully completed our EDA Capstone Project !!!***"
      ],
      "metadata": {
        "id": "gIfDvo9L0UH2"
      }
    }
  ]
}